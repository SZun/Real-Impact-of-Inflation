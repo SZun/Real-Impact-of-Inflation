{
 "cells": [
  {
   "cell_type": "code",
   "execution_count": 2,
   "id": "e28372d0-13d4-4094-88b6-be7cd9e36274",
   "metadata": {},
   "outputs": [],
   "source": [
    "#Import libraries\n",
    "\n",
    "import pandas as pd \n",
    "from pathlib import Path \n",
    "%matplotlib inline\n",
    "import quandl\n",
    "import numpy as np"
   ]
  },
  {
   "cell_type": "code",
   "execution_count": 4,
   "id": "7e01025d-2750-4b50-be07-f2aa84f0b91c",
   "metadata": {},
   "outputs": [],
   "source": [
    "#Question - The differences between the reported and the actual inflation on a national level \n",
    "\n",
    "#Import dataframes"
   ]
  },
  {
   "cell_type": "code",
   "execution_count": 5,
   "id": "35e3bf5d-0fe8-4c5d-9523-6c8aa0d561aa",
   "metadata": {},
   "outputs": [],
   "source": [
    "#Calculation for average reported inflation  \n",
    "X_mean=X.mean()"
   ]
  },
  {
   "cell_type": "code",
   "execution_count": 6,
   "id": "8739c7bb-0321-4bbb-b83a-540bb9e6dac7",
   "metadata": {},
   "outputs": [
    {
     "ename": "NameError",
     "evalue": "name 'Y' is not defined",
     "output_type": "error",
     "traceback": [
      "\u001b[1;31m---------------------------------------------------------------------------\u001b[0m",
      "\u001b[1;31mNameError\u001b[0m                                 Traceback (most recent call last)",
      "Input \u001b[1;32mIn [6]\u001b[0m, in \u001b[0;36m<cell line: 2>\u001b[1;34m()\u001b[0m\n\u001b[0;32m      1\u001b[0m \u001b[38;5;66;03m#Calculation for average real inflation\u001b[39;00m\n\u001b[1;32m----> 2\u001b[0m Y_mean\u001b[38;5;241m=\u001b[39m\u001b[43mY\u001b[49m\u001b[38;5;241m.\u001b[39mmean()\n",
      "\u001b[1;31mNameError\u001b[0m: name 'Y' is not defined"
     ]
    }
   ],
   "source": [
    "#Calculation for average real inflation\n",
    "Y_mean=Y.mean()"
   ]
  },
  {
   "cell_type": "code",
   "execution_count": 7,
   "id": "c8757c6a-8321-440e-ad5a-46898a5499ee",
   "metadata": {
    "tags": []
   },
   "outputs": [],
   "source": [
    "#\n",
    "all_df.hvplot.line(xlabel=\"Date\",ylabel=\"Price\")\n",
    "less_food_energy_df.hvplot.line(xlabel=\"Date\", ylabel=\"Price\")"
   ]
  },
  {
   "cell_type": "code",
   "execution_count": 8,
   "id": "6a709a17-7dbf-4a47-8106-fc0b130354e7",
   "metadata": {},
   "outputs": [],
   "source": [
    "#"
   ]
  },
  {
   "cell_type": "code",
   "execution_count": null,
   "id": "0e618d64-1458-405b-a5e9-aea492b595dd",
   "metadata": {},
   "outputs": [],
   "source": []
  }
 ],
 "metadata": {
  "kernelspec": {
   "display_name": "Python 3 (ipykernel)",
   "language": "python",
   "name": "python3"
  },
  "language_info": {
   "codemirror_mode": {
    "name": "ipython",
    "version": 3
   },
   "file_extension": ".py",
   "mimetype": "text/x-python",
   "name": "python",
   "nbconvert_exporter": "python",
   "pygments_lexer": "ipython3",
   "version": "3.9.12"
  }
 },
 "nbformat": 4,
 "nbformat_minor": 5
}
