{
 "cells": [
  {
   "cell_type": "markdown",
   "id": "c107a963",
   "metadata": {},
   "source": [
    "# Real Impact Of Inflation"
   ]
  },
  {
   "cell_type": "markdown",
   "id": "ee7d66a6-4e9d-457b-ade3-4299dbf1d9d2",
   "metadata": {},
   "source": [
    "Our project is to uncover the difference between the reported and actual urban inflation. We will be using the CPI data, from the Bureau of Labor Statistics, with and without food and energy costs to answer this question. Additionally, we will also be analyzing the differences in inflation between the various US regions, compared to the national average, over time."
   ]
  },
  {
   "cell_type": "markdown",
   "id": "b887f858-21d8-45ca-ab48-1734063a253b",
   "metadata": {},
   "source": [
    "## The Data\n",
    "@TODO: Insert description of the BLS data"
   ]
  },
  {
   "cell_type": "code",
   "execution_count": 242,
   "id": "22fe6938-8688-4228-9289-dfaca4abaf73",
   "metadata": {},
   "outputs": [],
   "source": [
    "# Importing dependencies\n",
    "import numpy as np\n",
    "import pandas as pd\n",
    "import plotly.express as px\n",
    "import panel as pn\n",
    "import seaborn as sns\n",
    "import hvplot.pandas\n",
    "import geoviews as gv\n",
    "import cartopy.crs as ccrs\n",
    "import matplotlib.pyplot as plt\n",
    "from pathlib import Path\n",
    "import datetime\n",
    "\n",
    "%matplotlib inline"
   ]
  },
  {
   "cell_type": "markdown",
   "id": "2be10b43-bbc3-4220-9fff-f0093cd572d9",
   "metadata": {},
   "source": [
    "### Reading/Pre-Processing the Data"
   ]
  },
  {
   "cell_type": "code",
   "execution_count": 66,
   "id": "384db9eb-abd6-4354-a7be-59568682bf26",
   "metadata": {},
   "outputs": [],
   "source": [
    "# List of non-regional csv titles\n",
    "non_regional_csv_titles = ['All','Energy','Food','Gasoline', 'Less-Food-Energy']\n",
    "# List of regional csv titles\n",
    "regional_csv_titles = ['Midwest', 'Northeast', 'South', 'West']"
   ]
  },
  {
   "cell_type": "code",
   "execution_count": 67,
   "id": "12a49c1b-df27-435e-8ea8-ea27210a3925",
   "metadata": {},
   "outputs": [],
   "source": [
    "class Df_Processor:\n",
    "    # Constructor\n",
    "    def __init__(self,titles,is_regional=False):\n",
    "        # Save titles\n",
    "        self.titles = titles\n",
    "        # Save is_regional\n",
    "        self.is_regional = is_regional\n",
    "        \n",
    "        # Set empty list for processed DataFrames\n",
    "        self.processed_dataframes = []\n",
    "        \n",
    "        # Run dataframe processing method\n",
    "        self.process_dfs()\n",
    "\n",
    "    # Method to get dataframes\n",
    "    def get_dfs(self):\n",
    "        # Empty list to hold DataFrames\n",
    "        dataframes = []\n",
    "        \n",
    "        # Looping over csv titles list\n",
    "        for title in self.titles:\n",
    "            # Columns to drop\n",
    "            columns_to_drop = ['HALF1','HALF2']\n",
    "            \n",
    "            # If the regional set is \n",
    "            if self.is_regional:\n",
    "                # Add the Annual column\n",
    "                columns_to_drop.append('Annual')\n",
    "\n",
    "            # Saving the csv (by title) as DataFrame, making Year the index column and dropping the HALF1 and HALF2 columns\n",
    "            df = pd.read_csv(Path(f'./Data/{title}.csv')).drop(columns=columns_to_drop).melt(id_vars=['Year'], var_name='Month', value_name='Price')\n",
    "\n",
    "            # Appending dataframe to dataframes list\n",
    "            dataframes.append(df)\n",
    "        \n",
    "        # Returning all dataframes\n",
    "        return dataframes\n",
    "\n",
    "    # Method to data pre-process dataframes\n",
    "    def process_dfs(self):\n",
    "        # Dictionary of months and thier numeric values\n",
    "        months = {'Jan':1,'Feb':2,'Mar':3,'Apr':4,'May':5,'Jun':6,'Jul':7,'Aug':8,'Sep':9,'Oct':10,'Nov':11,'Dec':12}\n",
    "        # Get and loop over DataFrames\n",
    "        for df in self.get_dfs():\n",
    "            # Creating Day column and setting values to 1\n",
    "            df['Day']=1\n",
    "            # Mapping month from string to int\n",
    "            df['Month'] = df['Month'].map(months)\n",
    "\n",
    "            # Creating date column\n",
    "            df['Date']=pd.to_datetime(dict(year=df.Year, month=df.Month, day=df.Day))\n",
    "            # Sorting Date values\n",
    "            df = df.sort_values('Date')\n",
    "            # Making index Date\n",
    "            df.index = df['Date']\n",
    "\n",
    "            # Dropping Year, Month, Day, Date columns\n",
    "            df = df.drop(columns=['Year','Month','Day','Date'])\n",
    "            # Dropping NaN values\n",
    "            df = df.dropna()\n",
    "\n",
    "            # Adding dataframe to processed_dataframes list\n",
    "            self.processed_dataframes.append(df)\n",
    "    \n",
    "    # Method to return the processed dataframes\n",
    "    def get_processed_dataframes(self):\n",
    "        # Return the processed dataframes\n",
    "        return self.processed_dataframes\n"
   ]
  },
  {
   "cell_type": "code",
   "execution_count": 68,
   "id": "434e4dee-533b-44e7-8d21-76e153602992",
   "metadata": {},
   "outputs": [],
   "source": [
    "# Getting and storing non-regional DataFrames\n",
    "non_regional_dfs = [all_df, energy_df, food_df, gasoline_df, less_food_energy_df] = Df_Processor(non_regional_csv_titles).get_processed_dataframes()\n",
    "# Getting and storing regional DataFrames\n",
    "regional_dfs = [midwest_df, northeast_df, south_df, west_df] = Df_Processor(regional_csv_titles,True).get_processed_dataframes()"
   ]
  },
  {
   "cell_type": "code",
   "execution_count": 69,
   "id": "2cbfd24e-bb36-4b12-bf2d-e841a9697fdc",
   "metadata": {},
   "outputs": [],
   "source": [
    "# Method to display dataframes and titles\n",
    "def display_data(df,titles):\n",
    "    # Looping over csv titles and indexes\n",
    "    for index, title in enumerate(titles):\n",
    "        # Printing CSV Title and DataFrame Name\n",
    "        df_title = 'less_food_energy_df' if title == 'Less-Food-Energy' else title.lower()\n",
    "        print(f'\\033[1mCSV Title\\033[0m: {title}.csv\\n\\033[1mDataFrame Name\\033[0m: {df_title}_df')\n",
    "        # Displaying DataFrame\n",
    "        display(df[index])\n",
    "        # Printing new line\n",
    "        print('\\n')"
   ]
  },
  {
   "cell_type": "code",
   "execution_count": 70,
   "id": "9656de50-62a8-49bd-a2d3-029fdb9576e8",
   "metadata": {},
   "outputs": [
    {
     "name": "stdout",
     "output_type": "stream",
     "text": [
      "\u001b[1mCSV Title\u001b[0m: All.csv\n",
      "\u001b[1mDataFrame Name\u001b[0m: all_df\n"
     ]
    },
    {
     "data": {
      "text/html": [
       "<div>\n",
       "<style scoped>\n",
       "    .dataframe tbody tr th:only-of-type {\n",
       "        vertical-align: middle;\n",
       "    }\n",
       "\n",
       "    .dataframe tbody tr th {\n",
       "        vertical-align: top;\n",
       "    }\n",
       "\n",
       "    .dataframe thead th {\n",
       "        text-align: right;\n",
       "    }\n",
       "</style>\n",
       "<table border=\"1\" class=\"dataframe\">\n",
       "  <thead>\n",
       "    <tr style=\"text-align: right;\">\n",
       "      <th></th>\n",
       "      <th>Price</th>\n",
       "    </tr>\n",
       "    <tr>\n",
       "      <th>Date</th>\n",
       "      <th></th>\n",
       "    </tr>\n",
       "  </thead>\n",
       "  <tbody>\n",
       "    <tr>\n",
       "      <th>2012-01-01</th>\n",
       "      <td>226.665</td>\n",
       "    </tr>\n",
       "    <tr>\n",
       "      <th>2012-02-01</th>\n",
       "      <td>227.663</td>\n",
       "    </tr>\n",
       "    <tr>\n",
       "      <th>2012-03-01</th>\n",
       "      <td>229.392</td>\n",
       "    </tr>\n",
       "    <tr>\n",
       "      <th>2012-04-01</th>\n",
       "      <td>230.085</td>\n",
       "    </tr>\n",
       "    <tr>\n",
       "      <th>2012-05-01</th>\n",
       "      <td>229.815</td>\n",
       "    </tr>\n",
       "    <tr>\n",
       "      <th>...</th>\n",
       "      <td>...</td>\n",
       "    </tr>\n",
       "    <tr>\n",
       "      <th>2022-05-01</th>\n",
       "      <td>292.296</td>\n",
       "    </tr>\n",
       "    <tr>\n",
       "      <th>2022-06-01</th>\n",
       "      <td>296.311</td>\n",
       "    </tr>\n",
       "    <tr>\n",
       "      <th>2022-07-01</th>\n",
       "      <td>296.276</td>\n",
       "    </tr>\n",
       "    <tr>\n",
       "      <th>2022-08-01</th>\n",
       "      <td>296.171</td>\n",
       "    </tr>\n",
       "    <tr>\n",
       "      <th>2022-09-01</th>\n",
       "      <td>296.808</td>\n",
       "    </tr>\n",
       "  </tbody>\n",
       "</table>\n",
       "<p>129 rows × 1 columns</p>\n",
       "</div>"
      ],
      "text/plain": [
       "              Price\n",
       "Date               \n",
       "2012-01-01  226.665\n",
       "2012-02-01  227.663\n",
       "2012-03-01  229.392\n",
       "2012-04-01  230.085\n",
       "2012-05-01  229.815\n",
       "...             ...\n",
       "2022-05-01  292.296\n",
       "2022-06-01  296.311\n",
       "2022-07-01  296.276\n",
       "2022-08-01  296.171\n",
       "2022-09-01  296.808\n",
       "\n",
       "[129 rows x 1 columns]"
      ]
     },
     "metadata": {},
     "output_type": "display_data"
    },
    {
     "name": "stdout",
     "output_type": "stream",
     "text": [
      "\n",
      "\n",
      "\u001b[1mCSV Title\u001b[0m: Energy.csv\n",
      "\u001b[1mDataFrame Name\u001b[0m: energy_df\n"
     ]
    },
    {
     "data": {
      "text/html": [
       "<div>\n",
       "<style scoped>\n",
       "    .dataframe tbody tr th:only-of-type {\n",
       "        vertical-align: middle;\n",
       "    }\n",
       "\n",
       "    .dataframe tbody tr th {\n",
       "        vertical-align: top;\n",
       "    }\n",
       "\n",
       "    .dataframe thead th {\n",
       "        text-align: right;\n",
       "    }\n",
       "</style>\n",
       "<table border=\"1\" class=\"dataframe\">\n",
       "  <thead>\n",
       "    <tr style=\"text-align: right;\">\n",
       "      <th></th>\n",
       "      <th>Price</th>\n",
       "    </tr>\n",
       "    <tr>\n",
       "      <th>Date</th>\n",
       "      <th></th>\n",
       "    </tr>\n",
       "  </thead>\n",
       "  <tbody>\n",
       "    <tr>\n",
       "      <th>2012-01-01</th>\n",
       "      <td>236.942</td>\n",
       "    </tr>\n",
       "    <tr>\n",
       "      <th>2012-02-01</th>\n",
       "      <td>242.663</td>\n",
       "    </tr>\n",
       "    <tr>\n",
       "      <th>2012-03-01</th>\n",
       "      <td>253.599</td>\n",
       "    </tr>\n",
       "    <tr>\n",
       "      <th>2012-04-01</th>\n",
       "      <td>255.736</td>\n",
       "    </tr>\n",
       "    <tr>\n",
       "      <th>2012-05-01</th>\n",
       "      <td>250.306</td>\n",
       "    </tr>\n",
       "    <tr>\n",
       "      <th>...</th>\n",
       "      <td>...</td>\n",
       "    </tr>\n",
       "    <tr>\n",
       "      <th>2022-05-01</th>\n",
       "      <td>316.761</td>\n",
       "    </tr>\n",
       "    <tr>\n",
       "      <th>2022-06-01</th>\n",
       "      <td>340.917</td>\n",
       "    </tr>\n",
       "    <tr>\n",
       "      <th>2022-07-01</th>\n",
       "      <td>325.407</td>\n",
       "    </tr>\n",
       "    <tr>\n",
       "      <th>2022-08-01</th>\n",
       "      <td>305.372</td>\n",
       "    </tr>\n",
       "    <tr>\n",
       "      <th>2022-09-01</th>\n",
       "      <td>297.343</td>\n",
       "    </tr>\n",
       "  </tbody>\n",
       "</table>\n",
       "<p>129 rows × 1 columns</p>\n",
       "</div>"
      ],
      "text/plain": [
       "              Price\n",
       "Date               \n",
       "2012-01-01  236.942\n",
       "2012-02-01  242.663\n",
       "2012-03-01  253.599\n",
       "2012-04-01  255.736\n",
       "2012-05-01  250.306\n",
       "...             ...\n",
       "2022-05-01  316.761\n",
       "2022-06-01  340.917\n",
       "2022-07-01  325.407\n",
       "2022-08-01  305.372\n",
       "2022-09-01  297.343\n",
       "\n",
       "[129 rows x 1 columns]"
      ]
     },
     "metadata": {},
     "output_type": "display_data"
    },
    {
     "name": "stdout",
     "output_type": "stream",
     "text": [
      "\n",
      "\n",
      "\u001b[1mCSV Title\u001b[0m: Food.csv\n",
      "\u001b[1mDataFrame Name\u001b[0m: food_df\n"
     ]
    },
    {
     "data": {
      "text/html": [
       "<div>\n",
       "<style scoped>\n",
       "    .dataframe tbody tr th:only-of-type {\n",
       "        vertical-align: middle;\n",
       "    }\n",
       "\n",
       "    .dataframe tbody tr th {\n",
       "        vertical-align: top;\n",
       "    }\n",
       "\n",
       "    .dataframe thead th {\n",
       "        text-align: right;\n",
       "    }\n",
       "</style>\n",
       "<table border=\"1\" class=\"dataframe\">\n",
       "  <thead>\n",
       "    <tr style=\"text-align: right;\">\n",
       "      <th></th>\n",
       "      <th>Price</th>\n",
       "    </tr>\n",
       "    <tr>\n",
       "      <th>Date</th>\n",
       "      <th></th>\n",
       "    </tr>\n",
       "  </thead>\n",
       "  <tbody>\n",
       "    <tr>\n",
       "      <th>2012-01-01</th>\n",
       "      <td>232.666</td>\n",
       "    </tr>\n",
       "    <tr>\n",
       "      <th>2012-02-01</th>\n",
       "      <td>232.486</td>\n",
       "    </tr>\n",
       "    <tr>\n",
       "      <th>2012-03-01</th>\n",
       "      <td>232.792</td>\n",
       "    </tr>\n",
       "    <tr>\n",
       "      <th>2012-04-01</th>\n",
       "      <td>233.234</td>\n",
       "    </tr>\n",
       "    <tr>\n",
       "      <th>2012-05-01</th>\n",
       "      <td>233.339</td>\n",
       "    </tr>\n",
       "    <tr>\n",
       "      <th>...</th>\n",
       "      <td>...</td>\n",
       "    </tr>\n",
       "    <tr>\n",
       "      <th>2022-05-01</th>\n",
       "      <td>302.038</td>\n",
       "    </tr>\n",
       "    <tr>\n",
       "      <th>2022-06-01</th>\n",
       "      <td>305.041</td>\n",
       "    </tr>\n",
       "    <tr>\n",
       "      <th>2022-07-01</th>\n",
       "      <td>308.532</td>\n",
       "    </tr>\n",
       "    <tr>\n",
       "      <th>2022-08-01</th>\n",
       "      <td>310.875</td>\n",
       "    </tr>\n",
       "    <tr>\n",
       "      <th>2022-09-01</th>\n",
       "      <td>313.142</td>\n",
       "    </tr>\n",
       "  </tbody>\n",
       "</table>\n",
       "<p>129 rows × 1 columns</p>\n",
       "</div>"
      ],
      "text/plain": [
       "              Price\n",
       "Date               \n",
       "2012-01-01  232.666\n",
       "2012-02-01  232.486\n",
       "2012-03-01  232.792\n",
       "2012-04-01  233.234\n",
       "2012-05-01  233.339\n",
       "...             ...\n",
       "2022-05-01  302.038\n",
       "2022-06-01  305.041\n",
       "2022-07-01  308.532\n",
       "2022-08-01  310.875\n",
       "2022-09-01  313.142\n",
       "\n",
       "[129 rows x 1 columns]"
      ]
     },
     "metadata": {},
     "output_type": "display_data"
    },
    {
     "name": "stdout",
     "output_type": "stream",
     "text": [
      "\n",
      "\n",
      "\u001b[1mCSV Title\u001b[0m: Gasoline.csv\n",
      "\u001b[1mDataFrame Name\u001b[0m: gasoline_df\n"
     ]
    },
    {
     "data": {
      "text/html": [
       "<div>\n",
       "<style scoped>\n",
       "    .dataframe tbody tr th:only-of-type {\n",
       "        vertical-align: middle;\n",
       "    }\n",
       "\n",
       "    .dataframe tbody tr th {\n",
       "        vertical-align: top;\n",
       "    }\n",
       "\n",
       "    .dataframe thead th {\n",
       "        text-align: right;\n",
       "    }\n",
       "</style>\n",
       "<table border=\"1\" class=\"dataframe\">\n",
       "  <thead>\n",
       "    <tr style=\"text-align: right;\">\n",
       "      <th></th>\n",
       "      <th>Price</th>\n",
       "    </tr>\n",
       "    <tr>\n",
       "      <th>Date</th>\n",
       "      <th></th>\n",
       "    </tr>\n",
       "  </thead>\n",
       "  <tbody>\n",
       "    <tr>\n",
       "      <th>2012-01-01</th>\n",
       "      <td>290.762</td>\n",
       "    </tr>\n",
       "    <tr>\n",
       "      <th>2012-02-01</th>\n",
       "      <td>305.076</td>\n",
       "    </tr>\n",
       "    <tr>\n",
       "      <th>2012-03-01</th>\n",
       "      <td>329.780</td>\n",
       "    </tr>\n",
       "    <tr>\n",
       "      <th>2012-04-01</th>\n",
       "      <td>335.742</td>\n",
       "    </tr>\n",
       "    <tr>\n",
       "      <th>2012-05-01</th>\n",
       "      <td>323.604</td>\n",
       "    </tr>\n",
       "    <tr>\n",
       "      <th>...</th>\n",
       "      <td>...</td>\n",
       "    </tr>\n",
       "    <tr>\n",
       "      <th>2022-05-01</th>\n",
       "      <td>391.262</td>\n",
       "    </tr>\n",
       "    <tr>\n",
       "      <th>2022-06-01</th>\n",
       "      <td>430.142</td>\n",
       "    </tr>\n",
       "    <tr>\n",
       "      <th>2022-07-01</th>\n",
       "      <td>396.952</td>\n",
       "    </tr>\n",
       "    <tr>\n",
       "      <th>2022-08-01</th>\n",
       "      <td>348.593</td>\n",
       "    </tr>\n",
       "    <tr>\n",
       "      <th>2022-09-01</th>\n",
       "      <td>328.918</td>\n",
       "    </tr>\n",
       "  </tbody>\n",
       "</table>\n",
       "<p>129 rows × 1 columns</p>\n",
       "</div>"
      ],
      "text/plain": [
       "              Price\n",
       "Date               \n",
       "2012-01-01  290.762\n",
       "2012-02-01  305.076\n",
       "2012-03-01  329.780\n",
       "2012-04-01  335.742\n",
       "2012-05-01  323.604\n",
       "...             ...\n",
       "2022-05-01  391.262\n",
       "2022-06-01  430.142\n",
       "2022-07-01  396.952\n",
       "2022-08-01  348.593\n",
       "2022-09-01  328.918\n",
       "\n",
       "[129 rows x 1 columns]"
      ]
     },
     "metadata": {},
     "output_type": "display_data"
    },
    {
     "name": "stdout",
     "output_type": "stream",
     "text": [
      "\n",
      "\n",
      "\u001b[1mCSV Title\u001b[0m: Less-Food-Energy.csv\n",
      "\u001b[1mDataFrame Name\u001b[0m: less_food_energy_df_df\n"
     ]
    },
    {
     "data": {
      "text/html": [
       "<div>\n",
       "<style scoped>\n",
       "    .dataframe tbody tr th:only-of-type {\n",
       "        vertical-align: middle;\n",
       "    }\n",
       "\n",
       "    .dataframe tbody tr th {\n",
       "        vertical-align: top;\n",
       "    }\n",
       "\n",
       "    .dataframe thead th {\n",
       "        text-align: right;\n",
       "    }\n",
       "</style>\n",
       "<table border=\"1\" class=\"dataframe\">\n",
       "  <thead>\n",
       "    <tr style=\"text-align: right;\">\n",
       "      <th></th>\n",
       "      <th>Price</th>\n",
       "    </tr>\n",
       "    <tr>\n",
       "      <th>Date</th>\n",
       "      <th></th>\n",
       "    </tr>\n",
       "  </thead>\n",
       "  <tbody>\n",
       "    <tr>\n",
       "      <th>2012-01-01</th>\n",
       "      <td>227.237</td>\n",
       "    </tr>\n",
       "    <tr>\n",
       "      <th>2012-02-01</th>\n",
       "      <td>227.865</td>\n",
       "    </tr>\n",
       "    <tr>\n",
       "      <th>2012-03-01</th>\n",
       "      <td>228.735</td>\n",
       "    </tr>\n",
       "    <tr>\n",
       "      <th>2012-04-01</th>\n",
       "      <td>229.303</td>\n",
       "    </tr>\n",
       "    <tr>\n",
       "      <th>2012-05-01</th>\n",
       "      <td>229.602</td>\n",
       "    </tr>\n",
       "    <tr>\n",
       "      <th>...</th>\n",
       "      <td>...</td>\n",
       "    </tr>\n",
       "    <tr>\n",
       "      <th>2022-05-01</th>\n",
       "      <td>292.506</td>\n",
       "    </tr>\n",
       "    <tr>\n",
       "      <th>2022-06-01</th>\n",
       "      <td>294.680</td>\n",
       "    </tr>\n",
       "    <tr>\n",
       "      <th>2022-07-01</th>\n",
       "      <td>295.646</td>\n",
       "    </tr>\n",
       "    <tr>\n",
       "      <th>2022-08-01</th>\n",
       "      <td>297.178</td>\n",
       "    </tr>\n",
       "    <tr>\n",
       "      <th>2022-09-01</th>\n",
       "      <td>298.442</td>\n",
       "    </tr>\n",
       "  </tbody>\n",
       "</table>\n",
       "<p>129 rows × 1 columns</p>\n",
       "</div>"
      ],
      "text/plain": [
       "              Price\n",
       "Date               \n",
       "2012-01-01  227.237\n",
       "2012-02-01  227.865\n",
       "2012-03-01  228.735\n",
       "2012-04-01  229.303\n",
       "2012-05-01  229.602\n",
       "...             ...\n",
       "2022-05-01  292.506\n",
       "2022-06-01  294.680\n",
       "2022-07-01  295.646\n",
       "2022-08-01  297.178\n",
       "2022-09-01  298.442\n",
       "\n",
       "[129 rows x 1 columns]"
      ]
     },
     "metadata": {},
     "output_type": "display_data"
    },
    {
     "name": "stdout",
     "output_type": "stream",
     "text": [
      "\n",
      "\n"
     ]
    }
   ],
   "source": [
    "# Printing non-regional data\n",
    "display_data(non_regional_dfs,non_regional_csv_titles)"
   ]
  },
  {
   "cell_type": "code",
   "execution_count": 71,
   "id": "0e777a42-ae9e-43ec-902c-3c1284876ca0",
   "metadata": {},
   "outputs": [
    {
     "name": "stdout",
     "output_type": "stream",
     "text": [
      "\u001b[1mCSV Title\u001b[0m: Midwest.csv\n",
      "\u001b[1mDataFrame Name\u001b[0m: midwest_df\n"
     ]
    },
    {
     "data": {
      "text/html": [
       "<div>\n",
       "<style scoped>\n",
       "    .dataframe tbody tr th:only-of-type {\n",
       "        vertical-align: middle;\n",
       "    }\n",
       "\n",
       "    .dataframe tbody tr th {\n",
       "        vertical-align: top;\n",
       "    }\n",
       "\n",
       "    .dataframe thead th {\n",
       "        text-align: right;\n",
       "    }\n",
       "</style>\n",
       "<table border=\"1\" class=\"dataframe\">\n",
       "  <thead>\n",
       "    <tr style=\"text-align: right;\">\n",
       "      <th></th>\n",
       "      <th>Price</th>\n",
       "    </tr>\n",
       "    <tr>\n",
       "      <th>Date</th>\n",
       "      <th></th>\n",
       "    </tr>\n",
       "  </thead>\n",
       "  <tbody>\n",
       "    <tr>\n",
       "      <th>2012-01-01</th>\n",
       "      <td>216.368</td>\n",
       "    </tr>\n",
       "    <tr>\n",
       "      <th>2012-02-01</th>\n",
       "      <td>216.855</td>\n",
       "    </tr>\n",
       "    <tr>\n",
       "      <th>2012-03-01</th>\n",
       "      <td>218.975</td>\n",
       "    </tr>\n",
       "    <tr>\n",
       "      <th>2012-04-01</th>\n",
       "      <td>219.405</td>\n",
       "    </tr>\n",
       "    <tr>\n",
       "      <th>2012-05-01</th>\n",
       "      <td>219.145</td>\n",
       "    </tr>\n",
       "    <tr>\n",
       "      <th>...</th>\n",
       "      <td>...</td>\n",
       "    </tr>\n",
       "    <tr>\n",
       "      <th>2022-05-01</th>\n",
       "      <td>272.673</td>\n",
       "    </tr>\n",
       "    <tr>\n",
       "      <th>2022-06-01</th>\n",
       "      <td>277.072</td>\n",
       "    </tr>\n",
       "    <tr>\n",
       "      <th>2022-07-01</th>\n",
       "      <td>276.525</td>\n",
       "    </tr>\n",
       "    <tr>\n",
       "      <th>2022-08-01</th>\n",
       "      <td>275.875</td>\n",
       "    </tr>\n",
       "    <tr>\n",
       "      <th>2022-09-01</th>\n",
       "      <td>276.549</td>\n",
       "    </tr>\n",
       "  </tbody>\n",
       "</table>\n",
       "<p>129 rows × 1 columns</p>\n",
       "</div>"
      ],
      "text/plain": [
       "              Price\n",
       "Date               \n",
       "2012-01-01  216.368\n",
       "2012-02-01  216.855\n",
       "2012-03-01  218.975\n",
       "2012-04-01  219.405\n",
       "2012-05-01  219.145\n",
       "...             ...\n",
       "2022-05-01  272.673\n",
       "2022-06-01  277.072\n",
       "2022-07-01  276.525\n",
       "2022-08-01  275.875\n",
       "2022-09-01  276.549\n",
       "\n",
       "[129 rows x 1 columns]"
      ]
     },
     "metadata": {},
     "output_type": "display_data"
    },
    {
     "name": "stdout",
     "output_type": "stream",
     "text": [
      "\n",
      "\n",
      "\u001b[1mCSV Title\u001b[0m: Northeast.csv\n",
      "\u001b[1mDataFrame Name\u001b[0m: northeast_df\n"
     ]
    },
    {
     "data": {
      "text/html": [
       "<div>\n",
       "<style scoped>\n",
       "    .dataframe tbody tr th:only-of-type {\n",
       "        vertical-align: middle;\n",
       "    }\n",
       "\n",
       "    .dataframe tbody tr th {\n",
       "        vertical-align: top;\n",
       "    }\n",
       "\n",
       "    .dataframe thead th {\n",
       "        text-align: right;\n",
       "    }\n",
       "</style>\n",
       "<table border=\"1\" class=\"dataframe\">\n",
       "  <thead>\n",
       "    <tr style=\"text-align: right;\">\n",
       "      <th></th>\n",
       "      <th>Price</th>\n",
       "    </tr>\n",
       "    <tr>\n",
       "      <th>Date</th>\n",
       "      <th></th>\n",
       "    </tr>\n",
       "  </thead>\n",
       "  <tbody>\n",
       "    <tr>\n",
       "      <th>2012-01-01</th>\n",
       "      <td>242.879</td>\n",
       "    </tr>\n",
       "    <tr>\n",
       "      <th>2012-02-01</th>\n",
       "      <td>243.850</td>\n",
       "    </tr>\n",
       "    <tr>\n",
       "      <th>2012-03-01</th>\n",
       "      <td>245.125</td>\n",
       "    </tr>\n",
       "    <tr>\n",
       "      <th>2012-04-01</th>\n",
       "      <td>245.850</td>\n",
       "    </tr>\n",
       "    <tr>\n",
       "      <th>2012-05-01</th>\n",
       "      <td>245.709</td>\n",
       "    </tr>\n",
       "    <tr>\n",
       "      <th>...</th>\n",
       "      <td>...</td>\n",
       "    </tr>\n",
       "    <tr>\n",
       "      <th>2022-05-01</th>\n",
       "      <td>302.939</td>\n",
       "    </tr>\n",
       "    <tr>\n",
       "      <th>2022-06-01</th>\n",
       "      <td>306.453</td>\n",
       "    </tr>\n",
       "    <tr>\n",
       "      <th>2022-07-01</th>\n",
       "      <td>305.916</td>\n",
       "    </tr>\n",
       "    <tr>\n",
       "      <th>2022-08-01</th>\n",
       "      <td>306.855</td>\n",
       "    </tr>\n",
       "    <tr>\n",
       "      <th>2022-09-01</th>\n",
       "      <td>307.152</td>\n",
       "    </tr>\n",
       "  </tbody>\n",
       "</table>\n",
       "<p>129 rows × 1 columns</p>\n",
       "</div>"
      ],
      "text/plain": [
       "              Price\n",
       "Date               \n",
       "2012-01-01  242.879\n",
       "2012-02-01  243.850\n",
       "2012-03-01  245.125\n",
       "2012-04-01  245.850\n",
       "2012-05-01  245.709\n",
       "...             ...\n",
       "2022-05-01  302.939\n",
       "2022-06-01  306.453\n",
       "2022-07-01  305.916\n",
       "2022-08-01  306.855\n",
       "2022-09-01  307.152\n",
       "\n",
       "[129 rows x 1 columns]"
      ]
     },
     "metadata": {},
     "output_type": "display_data"
    },
    {
     "name": "stdout",
     "output_type": "stream",
     "text": [
      "\n",
      "\n",
      "\u001b[1mCSV Title\u001b[0m: South.csv\n",
      "\u001b[1mDataFrame Name\u001b[0m: south_df\n"
     ]
    },
    {
     "data": {
      "text/html": [
       "<div>\n",
       "<style scoped>\n",
       "    .dataframe tbody tr th:only-of-type {\n",
       "        vertical-align: middle;\n",
       "    }\n",
       "\n",
       "    .dataframe tbody tr th {\n",
       "        vertical-align: top;\n",
       "    }\n",
       "\n",
       "    .dataframe thead th {\n",
       "        text-align: right;\n",
       "    }\n",
       "</style>\n",
       "<table border=\"1\" class=\"dataframe\">\n",
       "  <thead>\n",
       "    <tr style=\"text-align: right;\">\n",
       "      <th></th>\n",
       "      <th>Price</th>\n",
       "    </tr>\n",
       "    <tr>\n",
       "      <th>Date</th>\n",
       "      <th></th>\n",
       "    </tr>\n",
       "  </thead>\n",
       "  <tbody>\n",
       "    <tr>\n",
       "      <th>2012-01-01</th>\n",
       "      <td>220.497</td>\n",
       "    </tr>\n",
       "    <tr>\n",
       "      <th>2012-02-01</th>\n",
       "      <td>221.802</td>\n",
       "    </tr>\n",
       "    <tr>\n",
       "      <th>2012-03-01</th>\n",
       "      <td>223.314</td>\n",
       "    </tr>\n",
       "    <tr>\n",
       "      <th>2012-04-01</th>\n",
       "      <td>224.275</td>\n",
       "    </tr>\n",
       "    <tr>\n",
       "      <th>2012-05-01</th>\n",
       "      <td>223.356</td>\n",
       "    </tr>\n",
       "    <tr>\n",
       "      <th>...</th>\n",
       "      <td>...</td>\n",
       "    </tr>\n",
       "    <tr>\n",
       "      <th>2022-05-01</th>\n",
       "      <td>283.307</td>\n",
       "    </tr>\n",
       "    <tr>\n",
       "      <th>2022-06-01</th>\n",
       "      <td>287.427</td>\n",
       "    </tr>\n",
       "    <tr>\n",
       "      <th>2022-07-01</th>\n",
       "      <td>287.608</td>\n",
       "    </tr>\n",
       "    <tr>\n",
       "      <th>2022-08-01</th>\n",
       "      <td>287.168</td>\n",
       "    </tr>\n",
       "    <tr>\n",
       "      <th>2022-09-01</th>\n",
       "      <td>287.656</td>\n",
       "    </tr>\n",
       "  </tbody>\n",
       "</table>\n",
       "<p>129 rows × 1 columns</p>\n",
       "</div>"
      ],
      "text/plain": [
       "              Price\n",
       "Date               \n",
       "2012-01-01  220.497\n",
       "2012-02-01  221.802\n",
       "2012-03-01  223.314\n",
       "2012-04-01  224.275\n",
       "2012-05-01  223.356\n",
       "...             ...\n",
       "2022-05-01  283.307\n",
       "2022-06-01  287.427\n",
       "2022-07-01  287.608\n",
       "2022-08-01  287.168\n",
       "2022-09-01  287.656\n",
       "\n",
       "[129 rows x 1 columns]"
      ]
     },
     "metadata": {},
     "output_type": "display_data"
    },
    {
     "name": "stdout",
     "output_type": "stream",
     "text": [
      "\n",
      "\n",
      "\u001b[1mCSV Title\u001b[0m: West.csv\n",
      "\u001b[1mDataFrame Name\u001b[0m: west_df\n"
     ]
    },
    {
     "data": {
      "text/html": [
       "<div>\n",
       "<style scoped>\n",
       "    .dataframe tbody tr th:only-of-type {\n",
       "        vertical-align: middle;\n",
       "    }\n",
       "\n",
       "    .dataframe tbody tr th {\n",
       "        vertical-align: top;\n",
       "    }\n",
       "\n",
       "    .dataframe thead th {\n",
       "        text-align: right;\n",
       "    }\n",
       "</style>\n",
       "<table border=\"1\" class=\"dataframe\">\n",
       "  <thead>\n",
       "    <tr style=\"text-align: right;\">\n",
       "      <th></th>\n",
       "      <th>Price</th>\n",
       "    </tr>\n",
       "    <tr>\n",
       "      <th>Date</th>\n",
       "      <th></th>\n",
       "    </tr>\n",
       "  </thead>\n",
       "  <tbody>\n",
       "    <tr>\n",
       "      <th>2012-01-01</th>\n",
       "      <td>228.980</td>\n",
       "    </tr>\n",
       "    <tr>\n",
       "      <th>2012-02-01</th>\n",
       "      <td>229.995</td>\n",
       "    </tr>\n",
       "    <tr>\n",
       "      <th>2012-03-01</th>\n",
       "      <td>232.039</td>\n",
       "    </tr>\n",
       "    <tr>\n",
       "      <th>2012-04-01</th>\n",
       "      <td>232.561</td>\n",
       "    </tr>\n",
       "    <tr>\n",
       "      <th>2012-05-01</th>\n",
       "      <td>233.053</td>\n",
       "    </tr>\n",
       "    <tr>\n",
       "      <th>...</th>\n",
       "      <td>...</td>\n",
       "    </tr>\n",
       "    <tr>\n",
       "      <th>2022-05-01</th>\n",
       "      <td>309.645</td>\n",
       "    </tr>\n",
       "    <tr>\n",
       "      <th>2022-06-01</th>\n",
       "      <td>313.496</td>\n",
       "    </tr>\n",
       "    <tr>\n",
       "      <th>2022-07-01</th>\n",
       "      <td>313.951</td>\n",
       "    </tr>\n",
       "    <tr>\n",
       "      <th>2022-08-01</th>\n",
       "      <td>314.013</td>\n",
       "    </tr>\n",
       "    <tr>\n",
       "      <th>2022-09-01</th>\n",
       "      <td>315.094</td>\n",
       "    </tr>\n",
       "  </tbody>\n",
       "</table>\n",
       "<p>129 rows × 1 columns</p>\n",
       "</div>"
      ],
      "text/plain": [
       "              Price\n",
       "Date               \n",
       "2012-01-01  228.980\n",
       "2012-02-01  229.995\n",
       "2012-03-01  232.039\n",
       "2012-04-01  232.561\n",
       "2012-05-01  233.053\n",
       "...             ...\n",
       "2022-05-01  309.645\n",
       "2022-06-01  313.496\n",
       "2022-07-01  313.951\n",
       "2022-08-01  314.013\n",
       "2022-09-01  315.094\n",
       "\n",
       "[129 rows x 1 columns]"
      ]
     },
     "metadata": {},
     "output_type": "display_data"
    },
    {
     "name": "stdout",
     "output_type": "stream",
     "text": [
      "\n",
      "\n"
     ]
    }
   ],
   "source": [
    "# Printing regional data\n",
    "display_data(regional_dfs,regional_csv_titles)"
   ]
  },
  {
   "cell_type": "markdown",
   "id": "8eb85208-abc3-4dc7-9a2a-4e2f4308edf7",
   "metadata": {},
   "source": [
    "## Differences in inflation between the Midwest, Northeast, South and West region of the United States\n",
    "\n",
    "@TODO Add Statement Here: Lorem ipsum dolor sit amet, consectetur adipiscing elit, sed do eiusmod tempor incididunt ut labore et dolore magna aliqua. Ut enim ad minim veniam, quis nostrud exercitation ullamco laboris nisi ut aliquip ex ea commodo consequat. Duis aute irure dolor in reprehenderit in voluptate velit esse cillum dolore eu fugiat nulla pariatur. Excepteur sint occaecat cupidatat non proident, sunt in culpa qui officia deserunt mollit anim id est laborum."
   ]
  },
  {
   "cell_type": "markdown",
   "id": "7cd3350d-d5f3-48b5-8abd-87f86bf15e2e",
   "metadata": {},
   "source": [
    "### Analysis"
   ]
  },
  {
   "cell_type": "code",
   "execution_count": 72,
   "id": "1a902c35-5d4c-42de-a232-3d32a70ee535",
   "metadata": {},
   "outputs": [],
   "source": [
    "midwest_df = midwest_df.rename(columns = {'Price':'Midwest'})\n",
    "northeast_df = northeast_df.rename(columns = {'Price':'Northeast'})\n",
    "south_df = south_df.rename(columns = {'Price':'South'})\n",
    "west_df = west_df.rename(columns = {'Price':'West'})"
   ]
  },
  {
   "cell_type": "code",
   "execution_count": 73,
   "id": "fa500ddf-0168-46e8-a964-f8ca9ce54017",
   "metadata": {},
   "outputs": [
    {
     "data": {
      "text/html": [
       "<div>\n",
       "<style scoped>\n",
       "    .dataframe tbody tr th:only-of-type {\n",
       "        vertical-align: middle;\n",
       "    }\n",
       "\n",
       "    .dataframe tbody tr th {\n",
       "        vertical-align: top;\n",
       "    }\n",
       "\n",
       "    .dataframe thead th {\n",
       "        text-align: right;\n",
       "    }\n",
       "</style>\n",
       "<table border=\"1\" class=\"dataframe\">\n",
       "  <thead>\n",
       "    <tr style=\"text-align: right;\">\n",
       "      <th></th>\n",
       "      <th>Midwest</th>\n",
       "      <th>Northeast</th>\n",
       "      <th>South</th>\n",
       "      <th>West</th>\n",
       "    </tr>\n",
       "    <tr>\n",
       "      <th>Date</th>\n",
       "      <th></th>\n",
       "      <th></th>\n",
       "      <th></th>\n",
       "      <th></th>\n",
       "    </tr>\n",
       "  </thead>\n",
       "  <tbody>\n",
       "    <tr>\n",
       "      <th>2012-01-01</th>\n",
       "      <td>216.368</td>\n",
       "      <td>242.879</td>\n",
       "      <td>220.497</td>\n",
       "      <td>228.980</td>\n",
       "    </tr>\n",
       "    <tr>\n",
       "      <th>2012-02-01</th>\n",
       "      <td>216.855</td>\n",
       "      <td>243.850</td>\n",
       "      <td>221.802</td>\n",
       "      <td>229.995</td>\n",
       "    </tr>\n",
       "    <tr>\n",
       "      <th>2012-03-01</th>\n",
       "      <td>218.975</td>\n",
       "      <td>245.125</td>\n",
       "      <td>223.314</td>\n",
       "      <td>232.039</td>\n",
       "    </tr>\n",
       "    <tr>\n",
       "      <th>2012-04-01</th>\n",
       "      <td>219.405</td>\n",
       "      <td>245.850</td>\n",
       "      <td>224.275</td>\n",
       "      <td>232.561</td>\n",
       "    </tr>\n",
       "    <tr>\n",
       "      <th>2012-05-01</th>\n",
       "      <td>219.145</td>\n",
       "      <td>245.709</td>\n",
       "      <td>223.356</td>\n",
       "      <td>233.053</td>\n",
       "    </tr>\n",
       "  </tbody>\n",
       "</table>\n",
       "</div>"
      ],
      "text/plain": [
       "            Midwest  Northeast    South     West\n",
       "Date                                            \n",
       "2012-01-01  216.368    242.879  220.497  228.980\n",
       "2012-02-01  216.855    243.850  221.802  229.995\n",
       "2012-03-01  218.975    245.125  223.314  232.039\n",
       "2012-04-01  219.405    245.850  224.275  232.561\n",
       "2012-05-01  219.145    245.709  223.356  233.053"
      ]
     },
     "execution_count": 73,
     "metadata": {},
     "output_type": "execute_result"
    }
   ],
   "source": [
    "all_regions_df = pd.concat([midwest_df, northeast_df, south_df, west_df], axis=1, join='inner')\n",
    "\n",
    "all_regions_df.head()"
   ]
  },
  {
   "cell_type": "code",
   "execution_count": 209,
   "id": "f45cb853-9eab-40f6-9681-690d110b5e18",
   "metadata": {},
   "outputs": [
    {
     "data": {
      "application/vnd.plotly.v1+json": {
       "config": {
        "plotlyServerURL": "https://plot.ly"
       },
       "data": [
        {
         "hovertemplate": "Region=Midwest<br>Date=%{x}<br>Price in USD=%{y}<extra></extra>",
         "legendgroup": "Midwest",
         "line": {
          "color": "red",
          "dash": "solid"
         },
         "marker": {
          "symbol": "circle"
         },
         "mode": "lines",
         "name": "Midwest",
         "orientation": "v",
         "showlegend": true,
         "type": "scatter",
         "x": [
          "2012-01-01T00:00:00",
          "2012-02-01T00:00:00",
          "2012-03-01T00:00:00",
          "2012-04-01T00:00:00",
          "2012-05-01T00:00:00",
          "2012-06-01T00:00:00",
          "2012-07-01T00:00:00",
          "2012-08-01T00:00:00",
          "2012-09-01T00:00:00",
          "2012-10-01T00:00:00",
          "2012-11-01T00:00:00",
          "2012-12-01T00:00:00",
          "2013-01-01T00:00:00",
          "2013-02-01T00:00:00",
          "2013-03-01T00:00:00",
          "2013-04-01T00:00:00",
          "2013-05-01T00:00:00",
          "2013-06-01T00:00:00",
          "2013-07-01T00:00:00",
          "2013-08-01T00:00:00",
          "2013-09-01T00:00:00",
          "2013-10-01T00:00:00",
          "2013-11-01T00:00:00",
          "2013-12-01T00:00:00",
          "2014-01-01T00:00:00",
          "2014-02-01T00:00:00",
          "2014-03-01T00:00:00",
          "2014-04-01T00:00:00",
          "2014-05-01T00:00:00",
          "2014-06-01T00:00:00",
          "2014-07-01T00:00:00",
          "2014-08-01T00:00:00",
          "2014-09-01T00:00:00",
          "2014-10-01T00:00:00",
          "2014-11-01T00:00:00",
          "2014-12-01T00:00:00",
          "2015-01-01T00:00:00",
          "2015-02-01T00:00:00",
          "2015-03-01T00:00:00",
          "2015-04-01T00:00:00",
          "2015-05-01T00:00:00",
          "2015-06-01T00:00:00",
          "2015-07-01T00:00:00",
          "2015-08-01T00:00:00",
          "2015-09-01T00:00:00",
          "2015-10-01T00:00:00",
          "2015-11-01T00:00:00",
          "2015-12-01T00:00:00",
          "2016-01-01T00:00:00",
          "2016-02-01T00:00:00",
          "2016-03-01T00:00:00",
          "2016-04-01T00:00:00",
          "2016-05-01T00:00:00",
          "2016-06-01T00:00:00",
          "2016-07-01T00:00:00",
          "2016-08-01T00:00:00",
          "2016-09-01T00:00:00",
          "2016-10-01T00:00:00",
          "2016-11-01T00:00:00",
          "2016-12-01T00:00:00",
          "2017-01-01T00:00:00",
          "2017-02-01T00:00:00",
          "2017-03-01T00:00:00",
          "2017-04-01T00:00:00",
          "2017-05-01T00:00:00",
          "2017-06-01T00:00:00",
          "2017-07-01T00:00:00",
          "2017-08-01T00:00:00",
          "2017-09-01T00:00:00",
          "2017-10-01T00:00:00",
          "2017-11-01T00:00:00",
          "2017-12-01T00:00:00",
          "2018-01-01T00:00:00",
          "2018-02-01T00:00:00",
          "2018-03-01T00:00:00",
          "2018-04-01T00:00:00",
          "2018-05-01T00:00:00",
          "2018-06-01T00:00:00",
          "2018-07-01T00:00:00",
          "2018-08-01T00:00:00",
          "2018-09-01T00:00:00",
          "2018-10-01T00:00:00",
          "2018-11-01T00:00:00",
          "2018-12-01T00:00:00",
          "2019-01-01T00:00:00",
          "2019-02-01T00:00:00",
          "2019-03-01T00:00:00",
          "2019-04-01T00:00:00",
          "2019-05-01T00:00:00",
          "2019-06-01T00:00:00",
          "2019-07-01T00:00:00",
          "2019-08-01T00:00:00",
          "2019-09-01T00:00:00",
          "2019-10-01T00:00:00",
          "2019-11-01T00:00:00",
          "2019-12-01T00:00:00",
          "2020-01-01T00:00:00",
          "2020-02-01T00:00:00",
          "2020-03-01T00:00:00",
          "2020-04-01T00:00:00",
          "2020-05-01T00:00:00",
          "2020-06-01T00:00:00",
          "2020-07-01T00:00:00",
          "2020-08-01T00:00:00",
          "2020-09-01T00:00:00",
          "2020-10-01T00:00:00",
          "2020-11-01T00:00:00",
          "2020-12-01T00:00:00",
          "2021-01-01T00:00:00",
          "2021-02-01T00:00:00",
          "2021-03-01T00:00:00",
          "2021-04-01T00:00:00",
          "2021-05-01T00:00:00",
          "2021-06-01T00:00:00",
          "2021-07-01T00:00:00",
          "2021-08-01T00:00:00",
          "2021-09-01T00:00:00",
          "2021-10-01T00:00:00",
          "2021-11-01T00:00:00",
          "2021-12-01T00:00:00",
          "2022-01-01T00:00:00",
          "2022-02-01T00:00:00",
          "2022-03-01T00:00:00",
          "2022-04-01T00:00:00",
          "2022-05-01T00:00:00",
          "2022-06-01T00:00:00",
          "2022-07-01T00:00:00",
          "2022-08-01T00:00:00",
          "2022-09-01T00:00:00"
         ],
         "xaxis": "x",
         "y": [
          216.368,
          216.855,
          218.975,
          219.405,
          219.145,
          219.017,
          218.956,
          220.462,
          221.125,
          220.375,
          219.483,
          219.033,
          219.282,
          221.599,
          222.121,
          221.931,
          223.049,
          223.775,
          222.902,
          223.046,
          223.252,
          222.171,
          221.718,
          221.194,
          222.247,
          223.493,
          225.485,
          226.214,
          226.565,
          227.588,
          226.997,
          226.587,
          226.913,
          225.793,
          224.396,
          222.821,
          221.545,
          222.301,
          223.55,
          223.797,
          224.732,
          225.946,
          225.853,
          225.83,
          225.184,
          225.05,
          224.009,
          222.722,
          223.301,
          223.196,
          224.621,
          225.609,
          226.476,
          227.835,
          226.786,
          227.097,
          227.636,
          227.358,
          226.673,
          226.794,
          228.279,
          228.633,
          228.824,
          229.682,
          229.705,
          229.78,
          229.82,
          230.443,
          231.03,
          230.66,
          231.084,
          230.548,
          232.028,
          232.512,
          232.931,
          233.913,
          235.065,
          235.455,
          235.346,
          235.276,
          235.524,
          235.68,
          234.292,
          233.458,
          233.837,
          235.444,
          236.793,
          237.51,
          238.219,
          238.288,
          238.76,
          238.786,
          238.847,
          239.243,
          238.85,
          238.734,
          239.69,
          240.421,
          239.163,
          236.474,
          237.291,
          239.259,
          240.43,
          241.362,
          241.878,
          241.74,
          241.316,
          241.453,
          242.552,
          244.477,
          246.246,
          248.169,
          250.582,
          253.042,
          254.671,
          255.142,
          255.709,
          257.793,
          258.911,
          259.609,
          261.657,
          263.988,
          267.312,
          268.639,
          272.673,
          277.072,
          276.525,
          275.875,
          276.549
         ],
         "yaxis": "y"
        },
        {
         "hovertemplate": "Region=Northeast<br>Date=%{x}<br>Price in USD=%{y}<extra></extra>",
         "legendgroup": "Northeast",
         "line": {
          "color": "blue",
          "dash": "solid"
         },
         "marker": {
          "symbol": "circle"
         },
         "mode": "lines",
         "name": "Northeast",
         "orientation": "v",
         "showlegend": true,
         "type": "scatter",
         "x": [
          "2012-01-01T00:00:00",
          "2012-02-01T00:00:00",
          "2012-03-01T00:00:00",
          "2012-04-01T00:00:00",
          "2012-05-01T00:00:00",
          "2012-06-01T00:00:00",
          "2012-07-01T00:00:00",
          "2012-08-01T00:00:00",
          "2012-09-01T00:00:00",
          "2012-10-01T00:00:00",
          "2012-11-01T00:00:00",
          "2012-12-01T00:00:00",
          "2013-01-01T00:00:00",
          "2013-02-01T00:00:00",
          "2013-03-01T00:00:00",
          "2013-04-01T00:00:00",
          "2013-05-01T00:00:00",
          "2013-06-01T00:00:00",
          "2013-07-01T00:00:00",
          "2013-08-01T00:00:00",
          "2013-09-01T00:00:00",
          "2013-10-01T00:00:00",
          "2013-11-01T00:00:00",
          "2013-12-01T00:00:00",
          "2014-01-01T00:00:00",
          "2014-02-01T00:00:00",
          "2014-03-01T00:00:00",
          "2014-04-01T00:00:00",
          "2014-05-01T00:00:00",
          "2014-06-01T00:00:00",
          "2014-07-01T00:00:00",
          "2014-08-01T00:00:00",
          "2014-09-01T00:00:00",
          "2014-10-01T00:00:00",
          "2014-11-01T00:00:00",
          "2014-12-01T00:00:00",
          "2015-01-01T00:00:00",
          "2015-02-01T00:00:00",
          "2015-03-01T00:00:00",
          "2015-04-01T00:00:00",
          "2015-05-01T00:00:00",
          "2015-06-01T00:00:00",
          "2015-07-01T00:00:00",
          "2015-08-01T00:00:00",
          "2015-09-01T00:00:00",
          "2015-10-01T00:00:00",
          "2015-11-01T00:00:00",
          "2015-12-01T00:00:00",
          "2016-01-01T00:00:00",
          "2016-02-01T00:00:00",
          "2016-03-01T00:00:00",
          "2016-04-01T00:00:00",
          "2016-05-01T00:00:00",
          "2016-06-01T00:00:00",
          "2016-07-01T00:00:00",
          "2016-08-01T00:00:00",
          "2016-09-01T00:00:00",
          "2016-10-01T00:00:00",
          "2016-11-01T00:00:00",
          "2016-12-01T00:00:00",
          "2017-01-01T00:00:00",
          "2017-02-01T00:00:00",
          "2017-03-01T00:00:00",
          "2017-04-01T00:00:00",
          "2017-05-01T00:00:00",
          "2017-06-01T00:00:00",
          "2017-07-01T00:00:00",
          "2017-08-01T00:00:00",
          "2017-09-01T00:00:00",
          "2017-10-01T00:00:00",
          "2017-11-01T00:00:00",
          "2017-12-01T00:00:00",
          "2018-01-01T00:00:00",
          "2018-02-01T00:00:00",
          "2018-03-01T00:00:00",
          "2018-04-01T00:00:00",
          "2018-05-01T00:00:00",
          "2018-06-01T00:00:00",
          "2018-07-01T00:00:00",
          "2018-08-01T00:00:00",
          "2018-09-01T00:00:00",
          "2018-10-01T00:00:00",
          "2018-11-01T00:00:00",
          "2018-12-01T00:00:00",
          "2019-01-01T00:00:00",
          "2019-02-01T00:00:00",
          "2019-03-01T00:00:00",
          "2019-04-01T00:00:00",
          "2019-05-01T00:00:00",
          "2019-06-01T00:00:00",
          "2019-07-01T00:00:00",
          "2019-08-01T00:00:00",
          "2019-09-01T00:00:00",
          "2019-10-01T00:00:00",
          "2019-11-01T00:00:00",
          "2019-12-01T00:00:00",
          "2020-01-01T00:00:00",
          "2020-02-01T00:00:00",
          "2020-03-01T00:00:00",
          "2020-04-01T00:00:00",
          "2020-05-01T00:00:00",
          "2020-06-01T00:00:00",
          "2020-07-01T00:00:00",
          "2020-08-01T00:00:00",
          "2020-09-01T00:00:00",
          "2020-10-01T00:00:00",
          "2020-11-01T00:00:00",
          "2020-12-01T00:00:00",
          "2021-01-01T00:00:00",
          "2021-02-01T00:00:00",
          "2021-03-01T00:00:00",
          "2021-04-01T00:00:00",
          "2021-05-01T00:00:00",
          "2021-06-01T00:00:00",
          "2021-07-01T00:00:00",
          "2021-08-01T00:00:00",
          "2021-09-01T00:00:00",
          "2021-10-01T00:00:00",
          "2021-11-01T00:00:00",
          "2021-12-01T00:00:00",
          "2022-01-01T00:00:00",
          "2022-02-01T00:00:00",
          "2022-03-01T00:00:00",
          "2022-04-01T00:00:00",
          "2022-05-01T00:00:00",
          "2022-06-01T00:00:00",
          "2022-07-01T00:00:00",
          "2022-08-01T00:00:00",
          "2022-09-01T00:00:00"
         ],
         "xaxis": "x",
         "y": [
          242.879,
          243.85,
          245.125,
          245.85,
          245.709,
          245.201,
          244.984,
          246.252,
          247.409,
          247.564,
          247.097,
          246.456,
          247.277,
          248.665,
          248.719,
          248.464,
          248.584,
          248.851,
          249.411,
          249.858,
          250.231,
          249.32,
          249.503,
          249.567,
          251.045,
          251.233,
          252.413,
          252.506,
          253.598,
          253.555,
          253.833,
          253.185,
          253.154,
          252.73,
          251.781,
          250.519,
          250.016,
          250.619,
          251.451,
          251.76,
          252.77,
          253.626,
          253.405,
          252.903,
          252.922,
          252.504,
          252.573,
          251.67,
          251.739,
          252.25,
          252.854,
          254.27,
          255.023,
          255.471,
          255.386,
          255.545,
          256.085,
          256.605,
          256.541,
          256.427,
          258.073,
          258.768,
          258.51,
          259.165,
          259.386,
          259.335,
          258.833,
          259.508,
          260.875,
          260.58,
          260.63,
          260.791,
          262.188,
          263.26,
          263.556,
          264.669,
          265.84,
          265.95,
          265.83,
          266.425,
          266.709,
          266.464,
          265.487,
          265.286,
          266.109,
          266.706,
          268.025,
          269.07,
          269.744,
          270.133,
          270.381,
          270.548,
          270.563,
          270.348,
          270.643,
          270.429,
          272.316,
          273.08,
          272.531,
          271.325,
          271.345,
          272.283,
          273.347,
          273.597,
          273.925,
          273.374,
          273.543,
          274.225,
          275.427,
          276.473,
          278.197,
          280.234,
          281.858,
          284.741,
          285.22,
          285.63,
          286.423,
          288.236,
          289.835,
          290.405,
          292.644,
          294.605,
          298.403,
          300.325,
          302.939,
          306.453,
          305.916,
          306.855,
          307.152
         ],
         "yaxis": "y"
        },
        {
         "hovertemplate": "Region=South<br>Date=%{x}<br>Price in USD=%{y}<extra></extra>",
         "legendgroup": "South",
         "line": {
          "color": "green",
          "dash": "solid"
         },
         "marker": {
          "symbol": "circle"
         },
         "mode": "lines",
         "name": "South",
         "orientation": "v",
         "showlegend": true,
         "type": "scatter",
         "x": [
          "2012-01-01T00:00:00",
          "2012-02-01T00:00:00",
          "2012-03-01T00:00:00",
          "2012-04-01T00:00:00",
          "2012-05-01T00:00:00",
          "2012-06-01T00:00:00",
          "2012-07-01T00:00:00",
          "2012-08-01T00:00:00",
          "2012-09-01T00:00:00",
          "2012-10-01T00:00:00",
          "2012-11-01T00:00:00",
          "2012-12-01T00:00:00",
          "2013-01-01T00:00:00",
          "2013-02-01T00:00:00",
          "2013-03-01T00:00:00",
          "2013-04-01T00:00:00",
          "2013-05-01T00:00:00",
          "2013-06-01T00:00:00",
          "2013-07-01T00:00:00",
          "2013-08-01T00:00:00",
          "2013-09-01T00:00:00",
          "2013-10-01T00:00:00",
          "2013-11-01T00:00:00",
          "2013-12-01T00:00:00",
          "2014-01-01T00:00:00",
          "2014-02-01T00:00:00",
          "2014-03-01T00:00:00",
          "2014-04-01T00:00:00",
          "2014-05-01T00:00:00",
          "2014-06-01T00:00:00",
          "2014-07-01T00:00:00",
          "2014-08-01T00:00:00",
          "2014-09-01T00:00:00",
          "2014-10-01T00:00:00",
          "2014-11-01T00:00:00",
          "2014-12-01T00:00:00",
          "2015-01-01T00:00:00",
          "2015-02-01T00:00:00",
          "2015-03-01T00:00:00",
          "2015-04-01T00:00:00",
          "2015-05-01T00:00:00",
          "2015-06-01T00:00:00",
          "2015-07-01T00:00:00",
          "2015-08-01T00:00:00",
          "2015-09-01T00:00:00",
          "2015-10-01T00:00:00",
          "2015-11-01T00:00:00",
          "2015-12-01T00:00:00",
          "2016-01-01T00:00:00",
          "2016-02-01T00:00:00",
          "2016-03-01T00:00:00",
          "2016-04-01T00:00:00",
          "2016-05-01T00:00:00",
          "2016-06-01T00:00:00",
          "2016-07-01T00:00:00",
          "2016-08-01T00:00:00",
          "2016-09-01T00:00:00",
          "2016-10-01T00:00:00",
          "2016-11-01T00:00:00",
          "2016-12-01T00:00:00",
          "2017-01-01T00:00:00",
          "2017-02-01T00:00:00",
          "2017-03-01T00:00:00",
          "2017-04-01T00:00:00",
          "2017-05-01T00:00:00",
          "2017-06-01T00:00:00",
          "2017-07-01T00:00:00",
          "2017-08-01T00:00:00",
          "2017-09-01T00:00:00",
          "2017-10-01T00:00:00",
          "2017-11-01T00:00:00",
          "2017-12-01T00:00:00",
          "2018-01-01T00:00:00",
          "2018-02-01T00:00:00",
          "2018-03-01T00:00:00",
          "2018-04-01T00:00:00",
          "2018-05-01T00:00:00",
          "2018-06-01T00:00:00",
          "2018-07-01T00:00:00",
          "2018-08-01T00:00:00",
          "2018-09-01T00:00:00",
          "2018-10-01T00:00:00",
          "2018-11-01T00:00:00",
          "2018-12-01T00:00:00",
          "2019-01-01T00:00:00",
          "2019-02-01T00:00:00",
          "2019-03-01T00:00:00",
          "2019-04-01T00:00:00",
          "2019-05-01T00:00:00",
          "2019-06-01T00:00:00",
          "2019-07-01T00:00:00",
          "2019-08-01T00:00:00",
          "2019-09-01T00:00:00",
          "2019-10-01T00:00:00",
          "2019-11-01T00:00:00",
          "2019-12-01T00:00:00",
          "2020-01-01T00:00:00",
          "2020-02-01T00:00:00",
          "2020-03-01T00:00:00",
          "2020-04-01T00:00:00",
          "2020-05-01T00:00:00",
          "2020-06-01T00:00:00",
          "2020-07-01T00:00:00",
          "2020-08-01T00:00:00",
          "2020-09-01T00:00:00",
          "2020-10-01T00:00:00",
          "2020-11-01T00:00:00",
          "2020-12-01T00:00:00",
          "2021-01-01T00:00:00",
          "2021-02-01T00:00:00",
          "2021-03-01T00:00:00",
          "2021-04-01T00:00:00",
          "2021-05-01T00:00:00",
          "2021-06-01T00:00:00",
          "2021-07-01T00:00:00",
          "2021-08-01T00:00:00",
          "2021-09-01T00:00:00",
          "2021-10-01T00:00:00",
          "2021-11-01T00:00:00",
          "2021-12-01T00:00:00",
          "2022-01-01T00:00:00",
          "2022-02-01T00:00:00",
          "2022-03-01T00:00:00",
          "2022-04-01T00:00:00",
          "2022-05-01T00:00:00",
          "2022-06-01T00:00:00",
          "2022-07-01T00:00:00",
          "2022-08-01T00:00:00",
          "2022-09-01T00:00:00"
         ],
         "xaxis": "x",
         "y": [
          220.497,
          221.802,
          223.314,
          224.275,
          223.356,
          223.004,
          222.667,
          223.919,
          225.052,
          224.504,
          223.404,
          223.109,
          223.933,
          225.874,
          226.628,
          226.202,
          226.289,
          227.148,
          227.548,
          227.837,
          227.876,
          227.42,
          226.811,
          227.082,
          227.673,
          228.664,
          230.095,
          231.346,
          231.762,
          232.269,
          232.013,
          231.611,
          231.762,
          231.131,
          229.845,
          228.451,
          226.855,
          227.944,
          229.337,
          229.957,
          230.886,
          232.026,
          231.719,
          231.26,
          230.913,
          230.86,
          230.422,
          229.581,
          229.469,
          229.646,
          230.977,
          231.975,
          232.906,
          233.838,
          233.292,
          233.561,
          234.069,
          234.337,
          234.029,
          234.204,
          235.492,
          236.052,
          236.154,
          236.728,
          236.774,
          237.346,
          236.942,
          237.892,
          239.649,
          239.067,
          238.861,
          238.512,
          239.772,
          241.123,
          241.595,
          242.486,
          243.279,
          243.77,
          243.776,
          243.605,
          243.64,
          244.163,
          243.484,
          242.15,
          242.547,
          243.856,
          245.554,
          246.847,
          246.667,
          246.515,
          247.25,
          246.953,
          246.891,
          247.423,
          247.385,
          247.289,
          248.005,
          248.412,
          248.136,
          246.254,
          245.696,
          247.223,
          248.619,
          249.639,
          250.193,
          250.542,
          250.255,
          250.693,
          252.067,
          253.386,
          255.319,
          257.207,
          259.343,
          261.668,
          263.013,
          263.728,
          264.593,
          267.16,
          268.36,
          269.263,
          271.634,
          274.688,
          278.598,
          279.879,
          283.307,
          287.427,
          287.608,
          287.168,
          287.656
         ],
         "yaxis": "y"
        },
        {
         "hovertemplate": "Region=West<br>Date=%{x}<br>Price in USD=%{y}<extra></extra>",
         "legendgroup": "West",
         "line": {
          "color": "yellow",
          "dash": "solid"
         },
         "marker": {
          "symbol": "circle"
         },
         "mode": "lines",
         "name": "West",
         "orientation": "v",
         "showlegend": true,
         "type": "scatter",
         "x": [
          "2012-01-01T00:00:00",
          "2012-02-01T00:00:00",
          "2012-03-01T00:00:00",
          "2012-04-01T00:00:00",
          "2012-05-01T00:00:00",
          "2012-06-01T00:00:00",
          "2012-07-01T00:00:00",
          "2012-08-01T00:00:00",
          "2012-09-01T00:00:00",
          "2012-10-01T00:00:00",
          "2012-11-01T00:00:00",
          "2012-12-01T00:00:00",
          "2013-01-01T00:00:00",
          "2013-02-01T00:00:00",
          "2013-03-01T00:00:00",
          "2013-04-01T00:00:00",
          "2013-05-01T00:00:00",
          "2013-06-01T00:00:00",
          "2013-07-01T00:00:00",
          "2013-08-01T00:00:00",
          "2013-09-01T00:00:00",
          "2013-10-01T00:00:00",
          "2013-11-01T00:00:00",
          "2013-12-01T00:00:00",
          "2014-01-01T00:00:00",
          "2014-02-01T00:00:00",
          "2014-03-01T00:00:00",
          "2014-04-01T00:00:00",
          "2014-05-01T00:00:00",
          "2014-06-01T00:00:00",
          "2014-07-01T00:00:00",
          "2014-08-01T00:00:00",
          "2014-09-01T00:00:00",
          "2014-10-01T00:00:00",
          "2014-11-01T00:00:00",
          "2014-12-01T00:00:00",
          "2015-01-01T00:00:00",
          "2015-02-01T00:00:00",
          "2015-03-01T00:00:00",
          "2015-04-01T00:00:00",
          "2015-05-01T00:00:00",
          "2015-06-01T00:00:00",
          "2015-07-01T00:00:00",
          "2015-08-01T00:00:00",
          "2015-09-01T00:00:00",
          "2015-10-01T00:00:00",
          "2015-11-01T00:00:00",
          "2015-12-01T00:00:00",
          "2016-01-01T00:00:00",
          "2016-02-01T00:00:00",
          "2016-03-01T00:00:00",
          "2016-04-01T00:00:00",
          "2016-05-01T00:00:00",
          "2016-06-01T00:00:00",
          "2016-07-01T00:00:00",
          "2016-08-01T00:00:00",
          "2016-09-01T00:00:00",
          "2016-10-01T00:00:00",
          "2016-11-01T00:00:00",
          "2016-12-01T00:00:00",
          "2017-01-01T00:00:00",
          "2017-02-01T00:00:00",
          "2017-03-01T00:00:00",
          "2017-04-01T00:00:00",
          "2017-05-01T00:00:00",
          "2017-06-01T00:00:00",
          "2017-07-01T00:00:00",
          "2017-08-01T00:00:00",
          "2017-09-01T00:00:00",
          "2017-10-01T00:00:00",
          "2017-11-01T00:00:00",
          "2017-12-01T00:00:00",
          "2018-01-01T00:00:00",
          "2018-02-01T00:00:00",
          "2018-03-01T00:00:00",
          "2018-04-01T00:00:00",
          "2018-05-01T00:00:00",
          "2018-06-01T00:00:00",
          "2018-07-01T00:00:00",
          "2018-08-01T00:00:00",
          "2018-09-01T00:00:00",
          "2018-10-01T00:00:00",
          "2018-11-01T00:00:00",
          "2018-12-01T00:00:00",
          "2019-01-01T00:00:00",
          "2019-02-01T00:00:00",
          "2019-03-01T00:00:00",
          "2019-04-01T00:00:00",
          "2019-05-01T00:00:00",
          "2019-06-01T00:00:00",
          "2019-07-01T00:00:00",
          "2019-08-01T00:00:00",
          "2019-09-01T00:00:00",
          "2019-10-01T00:00:00",
          "2019-11-01T00:00:00",
          "2019-12-01T00:00:00",
          "2020-01-01T00:00:00",
          "2020-02-01T00:00:00",
          "2020-03-01T00:00:00",
          "2020-04-01T00:00:00",
          "2020-05-01T00:00:00",
          "2020-06-01T00:00:00",
          "2020-07-01T00:00:00",
          "2020-08-01T00:00:00",
          "2020-09-01T00:00:00",
          "2020-10-01T00:00:00",
          "2020-11-01T00:00:00",
          "2020-12-01T00:00:00",
          "2021-01-01T00:00:00",
          "2021-02-01T00:00:00",
          "2021-03-01T00:00:00",
          "2021-04-01T00:00:00",
          "2021-05-01T00:00:00",
          "2021-06-01T00:00:00",
          "2021-07-01T00:00:00",
          "2021-08-01T00:00:00",
          "2021-09-01T00:00:00",
          "2021-10-01T00:00:00",
          "2021-11-01T00:00:00",
          "2021-12-01T00:00:00",
          "2022-01-01T00:00:00",
          "2022-02-01T00:00:00",
          "2022-03-01T00:00:00",
          "2022-04-01T00:00:00",
          "2022-05-01T00:00:00",
          "2022-06-01T00:00:00",
          "2022-07-01T00:00:00",
          "2022-08-01T00:00:00",
          "2022-09-01T00:00:00"
         ],
         "xaxis": "x",
         "y": [
          228.98,
          229.995,
          232.039,
          232.561,
          233.053,
          232.701,
          231.893,
          233.001,
          234.083,
          234.966,
          233.206,
          232.029,
          232.759,
          234.595,
          235.511,
          235.488,
          235.979,
          236.227,
          236.341,
          236.591,
          237.146,
          237,
          236.153,
          236.096,
          236.707,
          237.614,
          239.092,
          239.808,
          241.35,
          241.616,
          241.85,
          241.66,
          241.92,
          241.65,
          240.22,
          239.095,
          238.318,
          239.748,
          241.69,
          242.302,
          244.227,
          244.332,
          245.04,
          244.737,
          244.257,
          244.341,
          243.749,
          243.434,
          244.6,
          244.821,
          245.404,
          246.589,
          247.855,
          248.228,
          248.375,
          248.498,
          249.234,
          249.897,
          249.448,
          249.516,
          250.814,
          252.252,
          252.949,
          253.806,
          254.38,
          254.469,
          254.708,
          255.282,
          256.504,
          257.223,
          257.126,
          257.347,
          258.638,
          259.986,
          260.994,
          262.037,
          263.24,
          263.732,
          263.971,
          264.395,
          265.105,
          266.195,
          265.658,
          265.209,
          265.624,
          266.215,
          267.37,
          269.522,
          270.88,
          270.957,
          271.029,
          271.264,
          272.102,
          273.524,
          273.128,
          272.584,
          273.34,
          274.412,
          273.995,
          272.913,
          273.062,
          274.155,
          275.597,
          276.443,
          276.422,
          276.876,
          276.875,
          276.593,
          277.238,
          278.702,
          280.625,
          283.507,
          285.793,
          288.263,
          289.863,
          290.393,
          291.053,
          293.397,
          294.986,
          296.102,
          298.705,
          301.158,
          305.082,
          307.145,
          309.645,
          313.496,
          313.951,
          314.013,
          315.094
         ],
         "yaxis": "y"
        }
       ],
       "layout": {
        "height": 600,
        "legend": {
         "title": {
          "text": "Region"
         },
         "tracegroupgap": 0
        },
        "template": {
         "data": {
          "bar": [
           {
            "error_x": {
             "color": "#2a3f5f"
            },
            "error_y": {
             "color": "#2a3f5f"
            },
            "marker": {
             "line": {
              "color": "#E5ECF6",
              "width": 0.5
             },
             "pattern": {
              "fillmode": "overlay",
              "size": 10,
              "solidity": 0.2
             }
            },
            "type": "bar"
           }
          ],
          "barpolar": [
           {
            "marker": {
             "line": {
              "color": "#E5ECF6",
              "width": 0.5
             },
             "pattern": {
              "fillmode": "overlay",
              "size": 10,
              "solidity": 0.2
             }
            },
            "type": "barpolar"
           }
          ],
          "carpet": [
           {
            "aaxis": {
             "endlinecolor": "#2a3f5f",
             "gridcolor": "white",
             "linecolor": "white",
             "minorgridcolor": "white",
             "startlinecolor": "#2a3f5f"
            },
            "baxis": {
             "endlinecolor": "#2a3f5f",
             "gridcolor": "white",
             "linecolor": "white",
             "minorgridcolor": "white",
             "startlinecolor": "#2a3f5f"
            },
            "type": "carpet"
           }
          ],
          "choropleth": [
           {
            "colorbar": {
             "outlinewidth": 0,
             "ticks": ""
            },
            "type": "choropleth"
           }
          ],
          "contour": [
           {
            "colorbar": {
             "outlinewidth": 0,
             "ticks": ""
            },
            "colorscale": [
             [
              0,
              "#0d0887"
             ],
             [
              0.1111111111111111,
              "#46039f"
             ],
             [
              0.2222222222222222,
              "#7201a8"
             ],
             [
              0.3333333333333333,
              "#9c179e"
             ],
             [
              0.4444444444444444,
              "#bd3786"
             ],
             [
              0.5555555555555556,
              "#d8576b"
             ],
             [
              0.6666666666666666,
              "#ed7953"
             ],
             [
              0.7777777777777778,
              "#fb9f3a"
             ],
             [
              0.8888888888888888,
              "#fdca26"
             ],
             [
              1,
              "#f0f921"
             ]
            ],
            "type": "contour"
           }
          ],
          "contourcarpet": [
           {
            "colorbar": {
             "outlinewidth": 0,
             "ticks": ""
            },
            "type": "contourcarpet"
           }
          ],
          "heatmap": [
           {
            "colorbar": {
             "outlinewidth": 0,
             "ticks": ""
            },
            "colorscale": [
             [
              0,
              "#0d0887"
             ],
             [
              0.1111111111111111,
              "#46039f"
             ],
             [
              0.2222222222222222,
              "#7201a8"
             ],
             [
              0.3333333333333333,
              "#9c179e"
             ],
             [
              0.4444444444444444,
              "#bd3786"
             ],
             [
              0.5555555555555556,
              "#d8576b"
             ],
             [
              0.6666666666666666,
              "#ed7953"
             ],
             [
              0.7777777777777778,
              "#fb9f3a"
             ],
             [
              0.8888888888888888,
              "#fdca26"
             ],
             [
              1,
              "#f0f921"
             ]
            ],
            "type": "heatmap"
           }
          ],
          "heatmapgl": [
           {
            "colorbar": {
             "outlinewidth": 0,
             "ticks": ""
            },
            "colorscale": [
             [
              0,
              "#0d0887"
             ],
             [
              0.1111111111111111,
              "#46039f"
             ],
             [
              0.2222222222222222,
              "#7201a8"
             ],
             [
              0.3333333333333333,
              "#9c179e"
             ],
             [
              0.4444444444444444,
              "#bd3786"
             ],
             [
              0.5555555555555556,
              "#d8576b"
             ],
             [
              0.6666666666666666,
              "#ed7953"
             ],
             [
              0.7777777777777778,
              "#fb9f3a"
             ],
             [
              0.8888888888888888,
              "#fdca26"
             ],
             [
              1,
              "#f0f921"
             ]
            ],
            "type": "heatmapgl"
           }
          ],
          "histogram": [
           {
            "marker": {
             "pattern": {
              "fillmode": "overlay",
              "size": 10,
              "solidity": 0.2
             }
            },
            "type": "histogram"
           }
          ],
          "histogram2d": [
           {
            "colorbar": {
             "outlinewidth": 0,
             "ticks": ""
            },
            "colorscale": [
             [
              0,
              "#0d0887"
             ],
             [
              0.1111111111111111,
              "#46039f"
             ],
             [
              0.2222222222222222,
              "#7201a8"
             ],
             [
              0.3333333333333333,
              "#9c179e"
             ],
             [
              0.4444444444444444,
              "#bd3786"
             ],
             [
              0.5555555555555556,
              "#d8576b"
             ],
             [
              0.6666666666666666,
              "#ed7953"
             ],
             [
              0.7777777777777778,
              "#fb9f3a"
             ],
             [
              0.8888888888888888,
              "#fdca26"
             ],
             [
              1,
              "#f0f921"
             ]
            ],
            "type": "histogram2d"
           }
          ],
          "histogram2dcontour": [
           {
            "colorbar": {
             "outlinewidth": 0,
             "ticks": ""
            },
            "colorscale": [
             [
              0,
              "#0d0887"
             ],
             [
              0.1111111111111111,
              "#46039f"
             ],
             [
              0.2222222222222222,
              "#7201a8"
             ],
             [
              0.3333333333333333,
              "#9c179e"
             ],
             [
              0.4444444444444444,
              "#bd3786"
             ],
             [
              0.5555555555555556,
              "#d8576b"
             ],
             [
              0.6666666666666666,
              "#ed7953"
             ],
             [
              0.7777777777777778,
              "#fb9f3a"
             ],
             [
              0.8888888888888888,
              "#fdca26"
             ],
             [
              1,
              "#f0f921"
             ]
            ],
            "type": "histogram2dcontour"
           }
          ],
          "mesh3d": [
           {
            "colorbar": {
             "outlinewidth": 0,
             "ticks": ""
            },
            "type": "mesh3d"
           }
          ],
          "parcoords": [
           {
            "line": {
             "colorbar": {
              "outlinewidth": 0,
              "ticks": ""
             }
            },
            "type": "parcoords"
           }
          ],
          "pie": [
           {
            "automargin": true,
            "type": "pie"
           }
          ],
          "scatter": [
           {
            "fillpattern": {
             "fillmode": "overlay",
             "size": 10,
             "solidity": 0.2
            },
            "type": "scatter"
           }
          ],
          "scatter3d": [
           {
            "line": {
             "colorbar": {
              "outlinewidth": 0,
              "ticks": ""
             }
            },
            "marker": {
             "colorbar": {
              "outlinewidth": 0,
              "ticks": ""
             }
            },
            "type": "scatter3d"
           }
          ],
          "scattercarpet": [
           {
            "marker": {
             "colorbar": {
              "outlinewidth": 0,
              "ticks": ""
             }
            },
            "type": "scattercarpet"
           }
          ],
          "scattergeo": [
           {
            "marker": {
             "colorbar": {
              "outlinewidth": 0,
              "ticks": ""
             }
            },
            "type": "scattergeo"
           }
          ],
          "scattergl": [
           {
            "marker": {
             "colorbar": {
              "outlinewidth": 0,
              "ticks": ""
             }
            },
            "type": "scattergl"
           }
          ],
          "scattermapbox": [
           {
            "marker": {
             "colorbar": {
              "outlinewidth": 0,
              "ticks": ""
             }
            },
            "type": "scattermapbox"
           }
          ],
          "scatterpolar": [
           {
            "marker": {
             "colorbar": {
              "outlinewidth": 0,
              "ticks": ""
             }
            },
            "type": "scatterpolar"
           }
          ],
          "scatterpolargl": [
           {
            "marker": {
             "colorbar": {
              "outlinewidth": 0,
              "ticks": ""
             }
            },
            "type": "scatterpolargl"
           }
          ],
          "scatterternary": [
           {
            "marker": {
             "colorbar": {
              "outlinewidth": 0,
              "ticks": ""
             }
            },
            "type": "scatterternary"
           }
          ],
          "surface": [
           {
            "colorbar": {
             "outlinewidth": 0,
             "ticks": ""
            },
            "colorscale": [
             [
              0,
              "#0d0887"
             ],
             [
              0.1111111111111111,
              "#46039f"
             ],
             [
              0.2222222222222222,
              "#7201a8"
             ],
             [
              0.3333333333333333,
              "#9c179e"
             ],
             [
              0.4444444444444444,
              "#bd3786"
             ],
             [
              0.5555555555555556,
              "#d8576b"
             ],
             [
              0.6666666666666666,
              "#ed7953"
             ],
             [
              0.7777777777777778,
              "#fb9f3a"
             ],
             [
              0.8888888888888888,
              "#fdca26"
             ],
             [
              1,
              "#f0f921"
             ]
            ],
            "type": "surface"
           }
          ],
          "table": [
           {
            "cells": {
             "fill": {
              "color": "#EBF0F8"
             },
             "line": {
              "color": "white"
             }
            },
            "header": {
             "fill": {
              "color": "#C8D4E3"
             },
             "line": {
              "color": "white"
             }
            },
            "type": "table"
           }
          ]
         },
         "layout": {
          "annotationdefaults": {
           "arrowcolor": "#2a3f5f",
           "arrowhead": 0,
           "arrowwidth": 1
          },
          "autotypenumbers": "strict",
          "coloraxis": {
           "colorbar": {
            "outlinewidth": 0,
            "ticks": ""
           }
          },
          "colorscale": {
           "diverging": [
            [
             0,
             "#8e0152"
            ],
            [
             0.1,
             "#c51b7d"
            ],
            [
             0.2,
             "#de77ae"
            ],
            [
             0.3,
             "#f1b6da"
            ],
            [
             0.4,
             "#fde0ef"
            ],
            [
             0.5,
             "#f7f7f7"
            ],
            [
             0.6,
             "#e6f5d0"
            ],
            [
             0.7,
             "#b8e186"
            ],
            [
             0.8,
             "#7fbc41"
            ],
            [
             0.9,
             "#4d9221"
            ],
            [
             1,
             "#276419"
            ]
           ],
           "sequential": [
            [
             0,
             "#0d0887"
            ],
            [
             0.1111111111111111,
             "#46039f"
            ],
            [
             0.2222222222222222,
             "#7201a8"
            ],
            [
             0.3333333333333333,
             "#9c179e"
            ],
            [
             0.4444444444444444,
             "#bd3786"
            ],
            [
             0.5555555555555556,
             "#d8576b"
            ],
            [
             0.6666666666666666,
             "#ed7953"
            ],
            [
             0.7777777777777778,
             "#fb9f3a"
            ],
            [
             0.8888888888888888,
             "#fdca26"
            ],
            [
             1,
             "#f0f921"
            ]
           ],
           "sequentialminus": [
            [
             0,
             "#0d0887"
            ],
            [
             0.1111111111111111,
             "#46039f"
            ],
            [
             0.2222222222222222,
             "#7201a8"
            ],
            [
             0.3333333333333333,
             "#9c179e"
            ],
            [
             0.4444444444444444,
             "#bd3786"
            ],
            [
             0.5555555555555556,
             "#d8576b"
            ],
            [
             0.6666666666666666,
             "#ed7953"
            ],
            [
             0.7777777777777778,
             "#fb9f3a"
            ],
            [
             0.8888888888888888,
             "#fdca26"
            ],
            [
             1,
             "#f0f921"
            ]
           ]
          },
          "colorway": [
           "#636efa",
           "#EF553B",
           "#00cc96",
           "#ab63fa",
           "#FFA15A",
           "#19d3f3",
           "#FF6692",
           "#B6E880",
           "#FF97FF",
           "#FECB52"
          ],
          "font": {
           "color": "#2a3f5f"
          },
          "geo": {
           "bgcolor": "white",
           "lakecolor": "white",
           "landcolor": "#E5ECF6",
           "showlakes": true,
           "showland": true,
           "subunitcolor": "white"
          },
          "hoverlabel": {
           "align": "left"
          },
          "hovermode": "closest",
          "mapbox": {
           "style": "light"
          },
          "paper_bgcolor": "white",
          "plot_bgcolor": "#E5ECF6",
          "polar": {
           "angularaxis": {
            "gridcolor": "white",
            "linecolor": "white",
            "ticks": ""
           },
           "bgcolor": "#E5ECF6",
           "radialaxis": {
            "gridcolor": "white",
            "linecolor": "white",
            "ticks": ""
           }
          },
          "scene": {
           "xaxis": {
            "backgroundcolor": "#E5ECF6",
            "gridcolor": "white",
            "gridwidth": 2,
            "linecolor": "white",
            "showbackground": true,
            "ticks": "",
            "zerolinecolor": "white"
           },
           "yaxis": {
            "backgroundcolor": "#E5ECF6",
            "gridcolor": "white",
            "gridwidth": 2,
            "linecolor": "white",
            "showbackground": true,
            "ticks": "",
            "zerolinecolor": "white"
           },
           "zaxis": {
            "backgroundcolor": "#E5ECF6",
            "gridcolor": "white",
            "gridwidth": 2,
            "linecolor": "white",
            "showbackground": true,
            "ticks": "",
            "zerolinecolor": "white"
           }
          },
          "shapedefaults": {
           "line": {
            "color": "#2a3f5f"
           }
          },
          "ternary": {
           "aaxis": {
            "gridcolor": "white",
            "linecolor": "white",
            "ticks": ""
           },
           "baxis": {
            "gridcolor": "white",
            "linecolor": "white",
            "ticks": ""
           },
           "bgcolor": "#E5ECF6",
           "caxis": {
            "gridcolor": "white",
            "linecolor": "white",
            "ticks": ""
           }
          },
          "title": {
           "x": 0.05
          },
          "xaxis": {
           "automargin": true,
           "gridcolor": "white",
           "linecolor": "white",
           "ticks": "",
           "title": {
            "standoff": 15
           },
           "zerolinecolor": "white",
           "zerolinewidth": 2
          },
          "yaxis": {
           "automargin": true,
           "gridcolor": "white",
           "linecolor": "white",
           "ticks": "",
           "title": {
            "standoff": 15
           },
           "zerolinecolor": "white",
           "zerolinewidth": 2
          }
         }
        },
        "title": {
         "text": "Regional Consumer Prices 2012-2022"
        },
        "width": 1300,
        "xaxis": {
         "anchor": "y",
         "autorange": true,
         "domain": [
          0,
          1
         ],
         "range": [
          "2012-01-01",
          "2022-09-01"
         ],
         "title": {
          "text": "Date"
         },
         "type": "date"
        },
        "yaxis": {
         "anchor": "x",
         "autorange": true,
         "domain": [
          0,
          1
         ],
         "range": [
          210.88322222222223,
          320.57877777777776
         ],
         "title": {
          "text": "Price in USD"
         },
         "type": "linear"
        }
       }
      },
      "image/png": "[encoded data removed]",
      "text/html": [
       "<div>                            <div id=\"3b9a9f5d-ee31-4392-a08e-03f35396ef1f\" class=\"plotly-graph-div\" style=\"height:600px; width:1300px;\"></div>            <script type=\"text/javascript\">                require([\"plotly\"], function(Plotly) {                    window.PLOTLYENV=window.PLOTLYENV || {};                                    if (document.getElementById(\"3b9a9f5d-ee31-4392-a08e-03f35396ef1f\")) {                    Plotly.newPlot(                        \"3b9a9f5d-ee31-4392-a08e-03f35396ef1f\",                        [{\"hovertemplate\":\"Region=Midwest<br>Date=%{x}<br>Price in USD=%{y}<extra></extra>\",\"legendgroup\":\"Midwest\",\"line\":{\"color\":\"red\",\"dash\":\"solid\"},\"marker\":{\"symbol\":\"circle\"},\"mode\":\"lines\",\"name\":\"Midwest\",\"orientation\":\"v\",\"showlegend\":true,\"x\":[\"2012-01-01T00:00:00\",\"2012-02-01T00:00:00\",\"2012-03-01T00:00:00\",\"2012-04-01T00:00:00\",\"2012-05-01T00:00:00\",\"2012-06-01T00:00:00\",\"2012-07-01T00:00:00\",\"2012-08-01T00:00:00\",\"2012-09-01T00:00:00\",\"2012-10-01T00:00:00\",\"2012-11-01T00:00:00\",\"2012-12-01T00:00:00\",\"2013-01-01T00:00:00\",\"2013-02-01T00:00:00\",\"2013-03-01T00:00:00\",\"2013-04-01T00:00:00\",\"2013-05-01T00:00:00\",\"2013-06-01T00:00:00\",\"2013-07-01T00:00:00\",\"2013-08-01T00:00:00\",\"2013-09-01T00:00:00\",\"2013-10-01T00:00:00\",\"2013-11-01T00:00:00\",\"2013-12-01T00:00:00\",\"2014-01-01T00:00:00\",\"2014-02-01T00:00:00\",\"2014-03-01T00:00:00\",\"2014-04-01T00:00:00\",\"2014-05-01T00:00:00\",\"2014-06-01T00:00:00\",\"2014-07-01T00:00:00\",\"2014-08-01T00:00:00\",\"2014-09-01T00:00:00\",\"2014-10-01T00:00:00\",\"2014-11-01T00:00:00\",\"2014-12-01T00:00:00\",\"2015-01-01T00:00:00\",\"2015-02-01T00:00:00\",\"2015-03-01T00:00:00\",\"2015-04-01T00:00:00\",\"2015-05-01T00:00:00\",\"2015-06-01T00:00:00\",\"2015-07-01T00:00:00\",\"2015-08-01T00:00:00\",\"2015-09-01T00:00:00\",\"2015-10-01T00:00:00\",\"2015-11-01T00:00:00\",\"2015-12-01T00:00:00\",\"2016-01-01T00:00:00\",\"2016-02-01T00:00:00\",\"2016-03-01T00:00:00\",\"2016-04-01T00:00:00\",\"2016-05-01T00:00:00\",\"2016-06-01T00:00:00\",\"2016-07-01T00:00:00\",\"2016-08-01T00:00:00\",\"2016-09-01T00:00:00\",\"2016-10-01T00:00:00\",\"2016-11-01T00:00:00\",\"2016-12-01T00:00:00\",\"2017-01-01T00:00:00\",\"2017-02-01T00:00:00\",\"2017-03-01T00:00:00\",\"2017-04-01T00:00:00\",\"2017-05-01T00:00:00\",\"2017-06-01T00:00:00\",\"2017-07-01T00:00:00\",\"2017-08-01T00:00:00\",\"2017-09-01T00:00:00\",\"2017-10-01T00:00:00\",\"2017-11-01T00:00:00\",\"2017-12-01T00:00:00\",\"2018-01-01T00:00:00\",\"2018-02-01T00:00:00\",\"2018-03-01T00:00:00\",\"2018-04-01T00:00:00\",\"2018-05-01T00:00:00\",\"2018-06-01T00:00:00\",\"2018-07-01T00:00:00\",\"2018-08-01T00:00:00\",\"2018-09-01T00:00:00\",\"2018-10-01T00:00:00\",\"2018-11-01T00:00:00\",\"2018-12-01T00:00:00\",\"2019-01-01T00:00:00\",\"2019-02-01T00:00:00\",\"2019-03-01T00:00:00\",\"2019-04-01T00:00:00\",\"2019-05-01T00:00:00\",\"2019-06-01T00:00:00\",\"2019-07-01T00:00:00\",\"2019-08-01T00:00:00\",\"2019-09-01T00:00:00\",\"2019-10-01T00:00:00\",\"2019-11-01T00:00:00\",\"2019-12-01T00:00:00\",\"2020-01-01T00:00:00\",\"2020-02-01T00:00:00\",\"2020-03-01T00:00:00\",\"2020-04-01T00:00:00\",\"2020-05-01T00:00:00\",\"2020-06-01T00:00:00\",\"2020-07-01T00:00:00\",\"2020-08-01T00:00:00\",\"2020-09-01T00:00:00\",\"2020-10-01T00:00:00\",\"2020-11-01T00:00:00\",\"2020-12-01T00:00:00\",\"2021-01-01T00:00:00\",\"2021-02-01T00:00:00\",\"2021-03-01T00:00:00\",\"2021-04-01T00:00:00\",\"2021-05-01T00:00:00\",\"2021-06-01T00:00:00\",\"2021-07-01T00:00:00\",\"2021-08-01T00:00:00\",\"2021-09-01T00:00:00\",\"2021-10-01T00:00:00\",\"2021-11-01T00:00:00\",\"2021-12-01T00:00:00\",\"2022-01-01T00:00:00\",\"2022-02-01T00:00:00\",\"2022-03-01T00:00:00\",\"2022-04-01T00:00:00\",\"2022-05-01T00:00:00\",\"2022-06-01T00:00:00\",\"2022-07-01T00:00:00\",\"2022-08-01T00:00:00\",\"2022-09-01T00:00:00\"],\"xaxis\":\"x\",\"y\":[216.368,216.855,218.975,219.405,219.145,219.017,218.956,220.462,221.125,220.375,219.483,219.033,219.282,221.599,222.121,221.931,223.049,223.775,222.902,223.046,223.252,222.171,221.718,221.194,222.247,223.493,225.485,226.214,226.565,227.588,226.997,226.587,226.913,225.793,224.396,222.821,221.545,222.301,223.55,223.797,224.732,225.946,225.853,225.83,225.184,225.05,224.009,222.722,223.301,223.196,224.621,225.609,226.476,227.835,226.786,227.097,227.636,227.358,226.673,226.794,228.279,228.633,228.824,229.682,229.705,229.78,229.82,230.443,231.03,230.66,231.084,230.548,232.028,232.512,232.931,233.913,235.065,235.455,235.346,235.276,235.524,235.68,234.292,233.458,233.837,235.444,236.793,237.51,238.219,238.288,238.76,238.786,238.847,239.243,238.85,238.734,239.69,240.421,239.163,236.474,237.291,239.259,240.43,241.362,241.878,241.74,241.316,241.453,242.552,244.477,246.246,248.169,250.582,253.042,254.671,255.142,255.709,257.793,258.911,259.609,261.657,263.988,267.312,268.639,272.673,277.072,276.525,275.875,276.549],\"yaxis\":\"y\",\"type\":\"scatter\"},{\"hovertemplate\":\"Region=Northeast<br>Date=%{x}<br>Price in USD=%{y}<extra></extra>\",\"legendgroup\":\"Northeast\",\"line\":{\"color\":\"blue\",\"dash\":\"solid\"},\"marker\":{\"symbol\":\"circle\"},\"mode\":\"lines\",\"name\":\"Northeast\",\"orientation\":\"v\",\"showlegend\":true,\"x\":[\"2012-01-01T00:00:00\",\"2012-02-01T00:00:00\",\"2012-03-01T00:00:00\",\"2012-04-01T00:00:00\",\"2012-05-01T00:00:00\",\"2012-06-01T00:00:00\",\"2012-07-01T00:00:00\",\"2012-08-01T00:00:00\",\"2012-09-01T00:00:00\",\"2012-10-01T00:00:00\",\"2012-11-01T00:00:00\",\"2012-12-01T00:00:00\",\"2013-01-01T00:00:00\",\"2013-02-01T00:00:00\",\"2013-03-01T00:00:00\",\"2013-04-01T00:00:00\",\"2013-05-01T00:00:00\",\"2013-06-01T00:00:00\",\"2013-07-01T00:00:00\",\"2013-08-01T00:00:00\",\"2013-09-01T00:00:00\",\"2013-10-01T00:00:00\",\"2013-11-01T00:00:00\",\"2013-12-01T00:00:00\",\"2014-01-01T00:00:00\",\"2014-02-01T00:00:00\",\"2014-03-01T00:00:00\",\"2014-04-01T00:00:00\",\"2014-05-01T00:00:00\",\"2014-06-01T00:00:00\",\"2014-07-01T00:00:00\",\"2014-08-01T00:00:00\",\"2014-09-01T00:00:00\",\"2014-10-01T00:00:00\",\"2014-11-01T00:00:00\",\"2014-12-01T00:00:00\",\"2015-01-01T00:00:00\",\"2015-02-01T00:00:00\",\"2015-03-01T00:00:00\",\"2015-04-01T00:00:00\",\"2015-05-01T00:00:00\",\"2015-06-01T00:00:00\",\"2015-07-01T00:00:00\",\"2015-08-01T00:00:00\",\"2015-09-01T00:00:00\",\"2015-10-01T00:00:00\",\"2015-11-01T00:00:00\",\"2015-12-01T00:00:00\",\"2016-01-01T00:00:00\",\"2016-02-01T00:00:00\",\"2016-03-01T00:00:00\",\"2016-04-01T00:00:00\",\"2016-05-01T00:00:00\",\"2016-06-01T00:00:00\",\"2016-07-01T00:00:00\",\"2016-08-01T00:00:00\",\"2016-09-01T00:00:00\",\"2016-10-01T00:00:00\",\"2016-11-01T00:00:00\",\"2016-12-01T00:00:00\",\"2017-01-01T00:00:00\",\"2017-02-01T00:00:00\",\"2017-03-01T00:00:00\",\"2017-04-01T00:00:00\",\"2017-05-01T00:00:00\",\"2017-06-01T00:00:00\",\"2017-07-01T00:00:00\",\"2017-08-01T00:00:00\",\"2017-09-01T00:00:00\",\"2017-10-01T00:00:00\",\"2017-11-01T00:00:00\",\"2017-12-01T00:00:00\",\"2018-01-01T00:00:00\",\"2018-02-01T00:00:00\",\"2018-03-01T00:00:00\",\"2018-04-01T00:00:00\",\"2018-05-01T00:00:00\",\"2018-06-01T00:00:00\",\"2018-07-01T00:00:00\",\"2018-08-01T00:00:00\",\"2018-09-01T00:00:00\",\"2018-10-01T00:00:00\",\"2018-11-01T00:00:00\",\"2018-12-01T00:00:00\",\"2019-01-01T00:00:00\",\"2019-02-01T00:00:00\",\"2019-03-01T00:00:00\",\"2019-04-01T00:00:00\",\"2019-05-01T00:00:00\",\"2019-06-01T00:00:00\",\"2019-07-01T00:00:00\",\"2019-08-01T00:00:00\",\"2019-09-01T00:00:00\",\"2019-10-01T00:00:00\",\"2019-11-01T00:00:00\",\"2019-12-01T00:00:00\",\"2020-01-01T00:00:00\",\"2020-02-01T00:00:00\",\"2020-03-01T00:00:00\",\"2020-04-01T00:00:00\",\"2020-05-01T00:00:00\",\"2020-06-01T00:00:00\",\"2020-07-01T00:00:00\",\"2020-08-01T00:00:00\",\"2020-09-01T00:00:00\",\"2020-10-01T00:00:00\",\"2020-11-01T00:00:00\",\"2020-12-01T00:00:00\",\"2021-01-01T00:00:00\",\"2021-02-01T00:00:00\",\"2021-03-01T00:00:00\",\"2021-04-01T00:00:00\",\"2021-05-01T00:00:00\",\"2021-06-01T00:00:00\",\"2021-07-01T00:00:00\",\"2021-08-01T00:00:00\",\"2021-09-01T00:00:00\",\"2021-10-01T00:00:00\",\"2021-11-01T00:00:00\",\"2021-12-01T00:00:00\",\"2022-01-01T00:00:00\",\"2022-02-01T00:00:00\",\"2022-03-01T00:00:00\",\"2022-04-01T00:00:00\",\"2022-05-01T00:00:00\",\"2022-06-01T00:00:00\",\"2022-07-01T00:00:00\",\"2022-08-01T00:00:00\",\"2022-09-01T00:00:00\"],\"xaxis\":\"x\",\"y\":[242.879,243.85,245.125,245.85,245.709,245.201,244.984,246.252,247.409,247.564,247.097,246.456,247.277,248.665,248.719,248.464,248.584,248.851,249.411,249.858,250.231,249.32,249.503,249.567,251.045,251.233,252.413,252.506,253.598,253.555,253.833,253.185,253.154,252.73,251.781,250.519,250.016,250.619,251.451,251.76,252.77,253.626,253.405,252.903,252.922,252.504,252.573,251.67,251.739,252.25,252.854,254.27,255.023,255.471,255.386,255.545,256.085,256.605,256.541,256.427,258.073,258.768,258.51,259.165,259.386,259.335,258.833,259.508,260.875,260.58,260.63,260.791,262.188,263.26,263.556,264.669,265.84,265.95,265.83,266.425,266.709,266.464,265.487,265.286,266.109,266.706,268.025,269.07,269.744,270.133,270.381,270.548,270.563,270.348,270.643,270.429,272.316,273.08,272.531,271.325,271.345,272.283,273.347,273.597,273.925,273.374,273.543,274.225,275.427,276.473,278.197,280.234,281.858,284.741,285.22,285.63,286.423,288.236,289.835,290.405,292.644,294.605,298.403,300.325,302.939,306.453,305.916,306.855,307.152],\"yaxis\":\"y\",\"type\":\"scatter\"},{\"hovertemplate\":\"Region=South<br>Date=%{x}<br>Price in USD=%{y}<extra></extra>\",\"legendgroup\":\"South\",\"line\":{\"color\":\"green\",\"dash\":\"solid\"},\"marker\":{\"symbol\":\"circle\"},\"mode\":\"lines\",\"name\":\"South\",\"orientation\":\"v\",\"showlegend\":true,\"x\":[\"2012-01-01T00:00:00\",\"2012-02-01T00:00:00\",\"2012-03-01T00:00:00\",\"2012-04-01T00:00:00\",\"2012-05-01T00:00:00\",\"2012-06-01T00:00:00\",\"2012-07-01T00:00:00\",\"2012-08-01T00:00:00\",\"2012-09-01T00:00:00\",\"2012-10-01T00:00:00\",\"2012-11-01T00:00:00\",\"2012-12-01T00:00:00\",\"2013-01-01T00:00:00\",\"2013-02-01T00:00:00\",\"2013-03-01T00:00:00\",\"2013-04-01T00:00:00\",\"2013-05-01T00:00:00\",\"2013-06-01T00:00:00\",\"2013-07-01T00:00:00\",\"2013-08-01T00:00:00\",\"2013-09-01T00:00:00\",\"2013-10-01T00:00:00\",\"2013-11-01T00:00:00\",\"2013-12-01T00:00:00\",\"2014-01-01T00:00:00\",\"2014-02-01T00:00:00\",\"2014-03-01T00:00:00\",\"2014-04-01T00:00:00\",\"2014-05-01T00:00:00\",\"2014-06-01T00:00:00\",\"2014-07-01T00:00:00\",\"2014-08-01T00:00:00\",\"2014-09-01T00:00:00\",\"2014-10-01T00:00:00\",\"2014-11-01T00:00:00\",\"2014-12-01T00:00:00\",\"2015-01-01T00:00:00\",\"2015-02-01T00:00:00\",\"2015-03-01T00:00:00\",\"2015-04-01T00:00:00\",\"2015-05-01T00:00:00\",\"2015-06-01T00:00:00\",\"2015-07-01T00:00:00\",\"2015-08-01T00:00:00\",\"2015-09-01T00:00:00\",\"2015-10-01T00:00:00\",\"2015-11-01T00:00:00\",\"2015-12-01T00:00:00\",\"2016-01-01T00:00:00\",\"2016-02-01T00:00:00\",\"2016-03-01T00:00:00\",\"2016-04-01T00:00:00\",\"2016-05-01T00:00:00\",\"2016-06-01T00:00:00\",\"2016-07-01T00:00:00\",\"2016-08-01T00:00:00\",\"2016-09-01T00:00:00\",\"2016-10-01T00:00:00\",\"2016-11-01T00:00:00\",\"2016-12-01T00:00:00\",\"2017-01-01T00:00:00\",\"2017-02-01T00:00:00\",\"2017-03-01T00:00:00\",\"2017-04-01T00:00:00\",\"2017-05-01T00:00:00\",\"2017-06-01T00:00:00\",\"2017-07-01T00:00:00\",\"2017-08-01T00:00:00\",\"2017-09-01T00:00:00\",\"2017-10-01T00:00:00\",\"2017-11-01T00:00:00\",\"2017-12-01T00:00:00\",\"2018-01-01T00:00:00\",\"2018-02-01T00:00:00\",\"2018-03-01T00:00:00\",\"2018-04-01T00:00:00\",\"2018-05-01T00:00:00\",\"2018-06-01T00:00:00\",\"2018-07-01T00:00:00\",\"2018-08-01T00:00:00\",\"2018-09-01T00:00:00\",\"2018-10-01T00:00:00\",\"2018-11-01T00:00:00\",\"2018-12-01T00:00:00\",\"2019-01-01T00:00:00\",\"2019-02-01T00:00:00\",\"2019-03-01T00:00:00\",\"2019-04-01T00:00:00\",\"2019-05-01T00:00:00\",\"2019-06-01T00:00:00\",\"2019-07-01T00:00:00\",\"2019-08-01T00:00:00\",\"2019-09-01T00:00:00\",\"2019-10-01T00:00:00\",\"2019-11-01T00:00:00\",\"2019-12-01T00:00:00\",\"2020-01-01T00:00:00\",\"2020-02-01T00:00:00\",\"2020-03-01T00:00:00\",\"2020-04-01T00:00:00\",\"2020-05-01T00:00:00\",\"2020-06-01T00:00:00\",\"2020-07-01T00:00:00\",\"2020-08-01T00:00:00\",\"2020-09-01T00:00:00\",\"2020-10-01T00:00:00\",\"2020-11-01T00:00:00\",\"2020-12-01T00:00:00\",\"2021-01-01T00:00:00\",\"2021-02-01T00:00:00\",\"2021-03-01T00:00:00\",\"2021-04-01T00:00:00\",\"2021-05-01T00:00:00\",\"2021-06-01T00:00:00\",\"2021-07-01T00:00:00\",\"2021-08-01T00:00:00\",\"2021-09-01T00:00:00\",\"2021-10-01T00:00:00\",\"2021-11-01T00:00:00\",\"2021-12-01T00:00:00\",\"2022-01-01T00:00:00\",\"2022-02-01T00:00:00\",\"2022-03-01T00:00:00\",\"2022-04-01T00:00:00\",\"2022-05-01T00:00:00\",\"2022-06-01T00:00:00\",\"2022-07-01T00:00:00\",\"2022-08-01T00:00:00\",\"2022-09-01T00:00:00\"],\"xaxis\":\"x\",\"y\":[220.497,221.802,223.314,224.275,223.356,223.004,222.667,223.919,225.052,224.504,223.404,223.109,223.933,225.874,226.628,226.202,226.289,227.148,227.548,227.837,227.876,227.42,226.811,227.082,227.673,228.664,230.095,231.346,231.762,232.269,232.013,231.611,231.762,231.131,229.845,228.451,226.855,227.944,229.337,229.957,230.886,232.026,231.719,231.26,230.913,230.86,230.422,229.581,229.469,229.646,230.977,231.975,232.906,233.838,233.292,233.561,234.069,234.337,234.029,234.204,235.492,236.052,236.154,236.728,236.774,237.346,236.942,237.892,239.649,239.067,238.861,238.512,239.772,241.123,241.595,242.486,243.279,243.77,243.776,243.605,243.64,244.163,243.484,242.15,242.547,243.856,245.554,246.847,246.667,246.515,247.25,246.953,246.891,247.423,247.385,247.289,248.005,248.412,248.136,246.254,245.696,247.223,248.619,249.639,250.193,250.542,250.255,250.693,252.067,253.386,255.319,257.207,259.343,261.668,263.013,263.728,264.593,267.16,268.36,269.263,271.634,274.688,278.598,279.879,283.307,287.427,287.608,287.168,287.656],\"yaxis\":\"y\",\"type\":\"scatter\"},{\"hovertemplate\":\"Region=West<br>Date=%{x}<br>Price in USD=%{y}<extra></extra>\",\"legendgroup\":\"West\",\"line\":{\"color\":\"yellow\",\"dash\":\"solid\"},\"marker\":{\"symbol\":\"circle\"},\"mode\":\"lines\",\"name\":\"West\",\"orientation\":\"v\",\"showlegend\":true,\"x\":[\"2012-01-01T00:00:00\",\"2012-02-01T00:00:00\",\"2012-03-01T00:00:00\",\"2012-04-01T00:00:00\",\"2012-05-01T00:00:00\",\"2012-06-01T00:00:00\",\"2012-07-01T00:00:00\",\"2012-08-01T00:00:00\",\"2012-09-01T00:00:00\",\"2012-10-01T00:00:00\",\"2012-11-01T00:00:00\",\"2012-12-01T00:00:00\",\"2013-01-01T00:00:00\",\"2013-02-01T00:00:00\",\"2013-03-01T00:00:00\",\"2013-04-01T00:00:00\",\"2013-05-01T00:00:00\",\"2013-06-01T00:00:00\",\"2013-07-01T00:00:00\",\"2013-08-01T00:00:00\",\"2013-09-01T00:00:00\",\"2013-10-01T00:00:00\",\"2013-11-01T00:00:00\",\"2013-12-01T00:00:00\",\"2014-01-01T00:00:00\",\"2014-02-01T00:00:00\",\"2014-03-01T00:00:00\",\"2014-04-01T00:00:00\",\"2014-05-01T00:00:00\",\"2014-06-01T00:00:00\",\"2014-07-01T00:00:00\",\"2014-08-01T00:00:00\",\"2014-09-01T00:00:00\",\"2014-10-01T00:00:00\",\"2014-11-01T00:00:00\",\"2014-12-01T00:00:00\",\"2015-01-01T00:00:00\",\"2015-02-01T00:00:00\",\"2015-03-01T00:00:00\",\"2015-04-01T00:00:00\",\"2015-05-01T00:00:00\",\"2015-06-01T00:00:00\",\"2015-07-01T00:00:00\",\"2015-08-01T00:00:00\",\"2015-09-01T00:00:00\",\"2015-10-01T00:00:00\",\"2015-11-01T00:00:00\",\"2015-12-01T00:00:00\",\"2016-01-01T00:00:00\",\"2016-02-01T00:00:00\",\"2016-03-01T00:00:00\",\"2016-04-01T00:00:00\",\"2016-05-01T00:00:00\",\"2016-06-01T00:00:00\",\"2016-07-01T00:00:00\",\"2016-08-01T00:00:00\",\"2016-09-01T00:00:00\",\"2016-10-01T00:00:00\",\"2016-11-01T00:00:00\",\"2016-12-01T00:00:00\",\"2017-01-01T00:00:00\",\"2017-02-01T00:00:00\",\"2017-03-01T00:00:00\",\"2017-04-01T00:00:00\",\"2017-05-01T00:00:00\",\"2017-06-01T00:00:00\",\"2017-07-01T00:00:00\",\"2017-08-01T00:00:00\",\"2017-09-01T00:00:00\",\"2017-10-01T00:00:00\",\"2017-11-01T00:00:00\",\"2017-12-01T00:00:00\",\"2018-01-01T00:00:00\",\"2018-02-01T00:00:00\",\"2018-03-01T00:00:00\",\"2018-04-01T00:00:00\",\"2018-05-01T00:00:00\",\"2018-06-01T00:00:00\",\"2018-07-01T00:00:00\",\"2018-08-01T00:00:00\",\"2018-09-01T00:00:00\",\"2018-10-01T00:00:00\",\"2018-11-01T00:00:00\",\"2018-12-01T00:00:00\",\"2019-01-01T00:00:00\",\"2019-02-01T00:00:00\",\"2019-03-01T00:00:00\",\"2019-04-01T00:00:00\",\"2019-05-01T00:00:00\",\"2019-06-01T00:00:00\",\"2019-07-01T00:00:00\",\"2019-08-01T00:00:00\",\"2019-09-01T00:00:00\",\"2019-10-01T00:00:00\",\"2019-11-01T00:00:00\",\"2019-12-01T00:00:00\",\"2020-01-01T00:00:00\",\"2020-02-01T00:00:00\",\"2020-03-01T00:00:00\",\"2020-04-01T00:00:00\",\"2020-05-01T00:00:00\",\"2020-06-01T00:00:00\",\"2020-07-01T00:00:00\",\"2020-08-01T00:00:00\",\"2020-09-01T00:00:00\",\"2020-10-01T00:00:00\",\"2020-11-01T00:00:00\",\"2020-12-01T00:00:00\",\"2021-01-01T00:00:00\",\"2021-02-01T00:00:00\",\"2021-03-01T00:00:00\",\"2021-04-01T00:00:00\",\"2021-05-01T00:00:00\",\"2021-06-01T00:00:00\",\"2021-07-01T00:00:00\",\"2021-08-01T00:00:00\",\"2021-09-01T00:00:00\",\"2021-10-01T00:00:00\",\"2021-11-01T00:00:00\",\"2021-12-01T00:00:00\",\"2022-01-01T00:00:00\",\"2022-02-01T00:00:00\",\"2022-03-01T00:00:00\",\"2022-04-01T00:00:00\",\"2022-05-01T00:00:00\",\"2022-06-01T00:00:00\",\"2022-07-01T00:00:00\",\"2022-08-01T00:00:00\",\"2022-09-01T00:00:00\"],\"xaxis\":\"x\",\"y\":[228.98,229.995,232.039,232.561,233.053,232.701,231.893,233.001,234.083,234.966,233.206,232.029,232.759,234.595,235.511,235.488,235.979,236.227,236.341,236.591,237.146,237.0,236.153,236.096,236.707,237.614,239.092,239.808,241.35,241.616,241.85,241.66,241.92,241.65,240.22,239.095,238.318,239.748,241.69,242.302,244.227,244.332,245.04,244.737,244.257,244.341,243.749,243.434,244.6,244.821,245.404,246.589,247.855,248.228,248.375,248.498,249.234,249.897,249.448,249.516,250.814,252.252,252.949,253.806,254.38,254.469,254.708,255.282,256.504,257.223,257.126,257.347,258.638,259.986,260.994,262.037,263.24,263.732,263.971,264.395,265.105,266.195,265.658,265.209,265.624,266.215,267.37,269.522,270.88,270.957,271.029,271.264,272.102,273.524,273.128,272.584,273.34,274.412,273.995,272.913,273.062,274.155,275.597,276.443,276.422,276.876,276.875,276.593,277.238,278.702,280.625,283.507,285.793,288.263,289.863,290.393,291.053,293.397,294.986,296.102,298.705,301.158,305.082,307.145,309.645,313.496,313.951,314.013,315.094],\"yaxis\":\"y\",\"type\":\"scatter\"}],                        {\"template\":{\"data\":{\"histogram2dcontour\":[{\"type\":\"histogram2dcontour\",\"colorbar\":{\"outlinewidth\":0,\"ticks\":\"\"},\"colorscale\":[[0.0,\"#0d0887\"],[0.1111111111111111,\"#46039f\"],[0.2222222222222222,\"#7201a8\"],[0.3333333333333333,\"#9c179e\"],[0.4444444444444444,\"#bd3786\"],[0.5555555555555556,\"#d8576b\"],[0.6666666666666666,\"#ed7953\"],[0.7777777777777778,\"#fb9f3a\"],[0.8888888888888888,\"#fdca26\"],[1.0,\"#f0f921\"]]}],\"choropleth\":[{\"type\":\"choropleth\",\"colorbar\":{\"outlinewidth\":0,\"ticks\":\"\"}}],\"histogram2d\":[{\"type\":\"histogram2d\",\"colorbar\":{\"outlinewidth\":0,\"ticks\":\"\"},\"colorscale\":[[0.0,\"#0d0887\"],[0.1111111111111111,\"#46039f\"],[0.2222222222222222,\"#7201a8\"],[0.3333333333333333,\"#9c179e\"],[0.4444444444444444,\"#bd3786\"],[0.5555555555555556,\"#d8576b\"],[0.6666666666666666,\"#ed7953\"],[0.7777777777777778,\"#fb9f3a\"],[0.8888888888888888,\"#fdca26\"],[1.0,\"#f0f921\"]]}],\"heatmap\":[{\"type\":\"heatmap\",\"colorbar\":{\"outlinewidth\":0,\"ticks\":\"\"},\"colorscale\":[[0.0,\"#0d0887\"],[0.1111111111111111,\"#46039f\"],[0.2222222222222222,\"#7201a8\"],[0.3333333333333333,\"#9c179e\"],[0.4444444444444444,\"#bd3786\"],[0.5555555555555556,\"#d8576b\"],[0.6666666666666666,\"#ed7953\"],[0.7777777777777778,\"#fb9f3a\"],[0.8888888888888888,\"#fdca26\"],[1.0,\"#f0f921\"]]}],\"heatmapgl\":[{\"type\":\"heatmapgl\",\"colorbar\":{\"outlinewidth\":0,\"ticks\":\"\"},\"colorscale\":[[0.0,\"#0d0887\"],[0.1111111111111111,\"#46039f\"],[0.2222222222222222,\"#7201a8\"],[0.3333333333333333,\"#9c179e\"],[0.4444444444444444,\"#bd3786\"],[0.5555555555555556,\"#d8576b\"],[0.6666666666666666,\"#ed7953\"],[0.7777777777777778,\"#fb9f3a\"],[0.8888888888888888,\"#fdca26\"],[1.0,\"#f0f921\"]]}],\"contourcarpet\":[{\"type\":\"contourcarpet\",\"colorbar\":{\"outlinewidth\":0,\"ticks\":\"\"}}],\"contour\":[{\"type\":\"contour\",\"colorbar\":{\"outlinewidth\":0,\"ticks\":\"\"},\"colorscale\":[[0.0,\"#0d0887\"],[0.1111111111111111,\"#46039f\"],[0.2222222222222222,\"#7201a8\"],[0.3333333333333333,\"#9c179e\"],[0.4444444444444444,\"#bd3786\"],[0.5555555555555556,\"#d8576b\"],[0.6666666666666666,\"#ed7953\"],[0.7777777777777778,\"#fb9f3a\"],[0.8888888888888888,\"#fdca26\"],[1.0,\"#f0f921\"]]}],\"surface\":[{\"type\":\"surface\",\"colorbar\":{\"outlinewidth\":0,\"ticks\":\"\"},\"colorscale\":[[0.0,\"#0d0887\"],[0.1111111111111111,\"#46039f\"],[0.2222222222222222,\"#7201a8\"],[0.3333333333333333,\"#9c179e\"],[0.4444444444444444,\"#bd3786\"],[0.5555555555555556,\"#d8576b\"],[0.6666666666666666,\"#ed7953\"],[0.7777777777777778,\"#fb9f3a\"],[0.8888888888888888,\"#fdca26\"],[1.0,\"#f0f921\"]]}],\"mesh3d\":[{\"type\":\"mesh3d\",\"colorbar\":{\"outlinewidth\":0,\"ticks\":\"\"}}],\"scatter\":[{\"fillpattern\":{\"fillmode\":\"overlay\",\"size\":10,\"solidity\":0.2},\"type\":\"scatter\"}],\"parcoords\":[{\"type\":\"parcoords\",\"line\":{\"colorbar\":{\"outlinewidth\":0,\"ticks\":\"\"}}}],\"scatterpolargl\":[{\"type\":\"scatterpolargl\",\"marker\":{\"colorbar\":{\"outlinewidth\":0,\"ticks\":\"\"}}}],\"bar\":[{\"error_x\":{\"color\":\"#2a3f5f\"},\"error_y\":{\"color\":\"#2a3f5f\"},\"marker\":{\"line\":{\"color\":\"#E5ECF6\",\"width\":0.5},\"pattern\":{\"fillmode\":\"overlay\",\"size\":10,\"solidity\":0.2}},\"type\":\"bar\"}],\"scattergeo\":[{\"type\":\"scattergeo\",\"marker\":{\"colorbar\":{\"outlinewidth\":0,\"ticks\":\"\"}}}],\"scatterpolar\":[{\"type\":\"scatterpolar\",\"marker\":{\"colorbar\":{\"outlinewidth\":0,\"ticks\":\"\"}}}],\"histogram\":[{\"marker\":{\"pattern\":{\"fillmode\":\"overlay\",\"size\":10,\"solidity\":0.2}},\"type\":\"histogram\"}],\"scattergl\":[{\"type\":\"scattergl\",\"marker\":{\"colorbar\":{\"outlinewidth\":0,\"ticks\":\"\"}}}],\"scatter3d\":[{\"type\":\"scatter3d\",\"line\":{\"colorbar\":{\"outlinewidth\":0,\"ticks\":\"\"}},\"marker\":{\"colorbar\":{\"outlinewidth\":0,\"ticks\":\"\"}}}],\"scattermapbox\":[{\"type\":\"scattermapbox\",\"marker\":{\"colorbar\":{\"outlinewidth\":0,\"ticks\":\"\"}}}],\"scatterternary\":[{\"type\":\"scatterternary\",\"marker\":{\"colorbar\":{\"outlinewidth\":0,\"ticks\":\"\"}}}],\"scattercarpet\":[{\"type\":\"scattercarpet\",\"marker\":{\"colorbar\":{\"outlinewidth\":0,\"ticks\":\"\"}}}],\"carpet\":[{\"aaxis\":{\"endlinecolor\":\"#2a3f5f\",\"gridcolor\":\"white\",\"linecolor\":\"white\",\"minorgridcolor\":\"white\",\"startlinecolor\":\"#2a3f5f\"},\"baxis\":{\"endlinecolor\":\"#2a3f5f\",\"gridcolor\":\"white\",\"linecolor\":\"white\",\"minorgridcolor\":\"white\",\"startlinecolor\":\"#2a3f5f\"},\"type\":\"carpet\"}],\"table\":[{\"cells\":{\"fill\":{\"color\":\"#EBF0F8\"},\"line\":{\"color\":\"white\"}},\"header\":{\"fill\":{\"color\":\"#C8D4E3\"},\"line\":{\"color\":\"white\"}},\"type\":\"table\"}],\"barpolar\":[{\"marker\":{\"line\":{\"color\":\"#E5ECF6\",\"width\":0.5},\"pattern\":{\"fillmode\":\"overlay\",\"size\":10,\"solidity\":0.2}},\"type\":\"barpolar\"}],\"pie\":[{\"automargin\":true,\"type\":\"pie\"}]},\"layout\":{\"autotypenumbers\":\"strict\",\"colorway\":[\"#636efa\",\"#EF553B\",\"#00cc96\",\"#ab63fa\",\"#FFA15A\",\"#19d3f3\",\"#FF6692\",\"#B6E880\",\"#FF97FF\",\"#FECB52\"],\"font\":{\"color\":\"#2a3f5f\"},\"hovermode\":\"closest\",\"hoverlabel\":{\"align\":\"left\"},\"paper_bgcolor\":\"white\",\"plot_bgcolor\":\"#E5ECF6\",\"polar\":{\"bgcolor\":\"#E5ECF6\",\"angularaxis\":{\"gridcolor\":\"white\",\"linecolor\":\"white\",\"ticks\":\"\"},\"radialaxis\":{\"gridcolor\":\"white\",\"linecolor\":\"white\",\"ticks\":\"\"}},\"ternary\":{\"bgcolor\":\"#E5ECF6\",\"aaxis\":{\"gridcolor\":\"white\",\"linecolor\":\"white\",\"ticks\":\"\"},\"baxis\":{\"gridcolor\":\"white\",\"linecolor\":\"white\",\"ticks\":\"\"},\"caxis\":{\"gridcolor\":\"white\",\"linecolor\":\"white\",\"ticks\":\"\"}},\"coloraxis\":{\"colorbar\":{\"outlinewidth\":0,\"ticks\":\"\"}},\"colorscale\":{\"sequential\":[[0.0,\"#0d0887\"],[0.1111111111111111,\"#46039f\"],[0.2222222222222222,\"#7201a8\"],[0.3333333333333333,\"#9c179e\"],[0.4444444444444444,\"#bd3786\"],[0.5555555555555556,\"#d8576b\"],[0.6666666666666666,\"#ed7953\"],[0.7777777777777778,\"#fb9f3a\"],[0.8888888888888888,\"#fdca26\"],[1.0,\"#f0f921\"]],\"sequentialminus\":[[0.0,\"#0d0887\"],[0.1111111111111111,\"#46039f\"],[0.2222222222222222,\"#7201a8\"],[0.3333333333333333,\"#9c179e\"],[0.4444444444444444,\"#bd3786\"],[0.5555555555555556,\"#d8576b\"],[0.6666666666666666,\"#ed7953\"],[0.7777777777777778,\"#fb9f3a\"],[0.8888888888888888,\"#fdca26\"],[1.0,\"#f0f921\"]],\"diverging\":[[0,\"#8e0152\"],[0.1,\"#c51b7d\"],[0.2,\"#de77ae\"],[0.3,\"#f1b6da\"],[0.4,\"#fde0ef\"],[0.5,\"#f7f7f7\"],[0.6,\"#e6f5d0\"],[0.7,\"#b8e186\"],[0.8,\"#7fbc41\"],[0.9,\"#4d9221\"],[1,\"#276419\"]]},\"xaxis\":{\"gridcolor\":\"white\",\"linecolor\":\"white\",\"ticks\":\"\",\"title\":{\"standoff\":15},\"zerolinecolor\":\"white\",\"automargin\":true,\"zerolinewidth\":2},\"yaxis\":{\"gridcolor\":\"white\",\"linecolor\":\"white\",\"ticks\":\"\",\"title\":{\"standoff\":15},\"zerolinecolor\":\"white\",\"automargin\":true,\"zerolinewidth\":2},\"scene\":{\"xaxis\":{\"backgroundcolor\":\"#E5ECF6\",\"gridcolor\":\"white\",\"linecolor\":\"white\",\"showbackground\":true,\"ticks\":\"\",\"zerolinecolor\":\"white\",\"gridwidth\":2},\"yaxis\":{\"backgroundcolor\":\"#E5ECF6\",\"gridcolor\":\"white\",\"linecolor\":\"white\",\"showbackground\":true,\"ticks\":\"\",\"zerolinecolor\":\"white\",\"gridwidth\":2},\"zaxis\":{\"backgroundcolor\":\"#E5ECF6\",\"gridcolor\":\"white\",\"linecolor\":\"white\",\"showbackground\":true,\"ticks\":\"\",\"zerolinecolor\":\"white\",\"gridwidth\":2}},\"shapedefaults\":{\"line\":{\"color\":\"#2a3f5f\"}},\"annotationdefaults\":{\"arrowcolor\":\"#2a3f5f\",\"arrowhead\":0,\"arrowwidth\":1},\"geo\":{\"bgcolor\":\"white\",\"landcolor\":\"#E5ECF6\",\"subunitcolor\":\"white\",\"showland\":true,\"showlakes\":true,\"lakecolor\":\"white\"},\"title\":{\"x\":0.05},\"mapbox\":{\"style\":\"light\"}}},\"xaxis\":{\"anchor\":\"y\",\"domain\":[0.0,1.0],\"title\":{\"text\":\"Date\"}},\"yaxis\":{\"anchor\":\"x\",\"domain\":[0.0,1.0],\"title\":{\"text\":\"Price in USD\"}},\"legend\":{\"title\":{\"text\":\"Region\"},\"tracegroupgap\":0},\"title\":{\"text\":\"Regional Consumer Prices 2012-2022\"},\"height\":600,\"width\":1300},                        {\"responsive\": true}                    ).then(function(){\n",
       "                            \n",
       "var gd = document.getElementById('3b9a9f5d-ee31-4392-a08e-03f35396ef1f');\n",
       "var x = new MutationObserver(function (mutations, observer) {{\n",
       "        var display = window.getComputedStyle(gd).display;\n",
       "        if (!display || display === 'none') {{\n",
       "            console.log([gd, 'removed!']);\n",
       "            Plotly.purge(gd);\n",
       "            observer.disconnect();\n",
       "        }}\n",
       "}});\n",
       "\n",
       "// Listen for the removal of the full notebook cells\n",
       "var notebookContainer = gd.closest('#notebook-container');\n",
       "if (notebookContainer) {{\n",
       "    x.observe(notebookContainer, {childList: true});\n",
       "}}\n",
       "\n",
       "// Listen for the clearing of the current output cell\n",
       "var outputEl = gd.closest('.output');\n",
       "if (outputEl) {{\n",
       "    x.observe(outputEl, {childList: true});\n",
       "}}\n",
       "\n",
       "                        })                };                });            </script>        </div>"
      ]
     },
     "metadata": {},
     "output_type": "display_data"
    }
   ],
   "source": [
    "px.line(all_regions_df, \n",
    "        labels={'value': 'Price in USD', 'variable': 'Region'}, \n",
    "        title=\"Regional Consumer Prices 2012-2022\", color_discrete_sequence=['red','blue','green','yellow'], width=1300, height=600)"
   ]
  },
  {
   "cell_type": "code",
   "execution_count": 75,
   "id": "5179060d-9540-4d4b-bd5e-045792fe576f",
   "metadata": {},
   "outputs": [],
   "source": [
    "all_df = all_df.rename(columns = {'Price':'National'})"
   ]
  },
  {
   "cell_type": "code",
   "execution_count": 76,
   "id": "df47e0ef-08a3-4df7-a1c2-ccf37f86d400",
   "metadata": {},
   "outputs": [
    {
     "data": {
      "text/html": [
       "<div>\n",
       "<style scoped>\n",
       "    .dataframe tbody tr th:only-of-type {\n",
       "        vertical-align: middle;\n",
       "    }\n",
       "\n",
       "    .dataframe tbody tr th {\n",
       "        vertical-align: top;\n",
       "    }\n",
       "\n",
       "    .dataframe thead th {\n",
       "        text-align: right;\n",
       "    }\n",
       "</style>\n",
       "<table border=\"1\" class=\"dataframe\">\n",
       "  <thead>\n",
       "    <tr style=\"text-align: right;\">\n",
       "      <th></th>\n",
       "      <th>National</th>\n",
       "      <th>Midwest</th>\n",
       "      <th>Northeast</th>\n",
       "      <th>South</th>\n",
       "      <th>West</th>\n",
       "    </tr>\n",
       "    <tr>\n",
       "      <th>Date</th>\n",
       "      <th></th>\n",
       "      <th></th>\n",
       "      <th></th>\n",
       "      <th></th>\n",
       "      <th></th>\n",
       "    </tr>\n",
       "  </thead>\n",
       "  <tbody>\n",
       "    <tr>\n",
       "      <th>2012-01-01</th>\n",
       "      <td>226.665</td>\n",
       "      <td>216.368</td>\n",
       "      <td>242.879</td>\n",
       "      <td>220.497</td>\n",
       "      <td>228.980</td>\n",
       "    </tr>\n",
       "    <tr>\n",
       "      <th>2012-02-01</th>\n",
       "      <td>227.663</td>\n",
       "      <td>216.855</td>\n",
       "      <td>243.850</td>\n",
       "      <td>221.802</td>\n",
       "      <td>229.995</td>\n",
       "    </tr>\n",
       "    <tr>\n",
       "      <th>2012-03-01</th>\n",
       "      <td>229.392</td>\n",
       "      <td>218.975</td>\n",
       "      <td>245.125</td>\n",
       "      <td>223.314</td>\n",
       "      <td>232.039</td>\n",
       "    </tr>\n",
       "    <tr>\n",
       "      <th>2012-04-01</th>\n",
       "      <td>230.085</td>\n",
       "      <td>219.405</td>\n",
       "      <td>245.850</td>\n",
       "      <td>224.275</td>\n",
       "      <td>232.561</td>\n",
       "    </tr>\n",
       "    <tr>\n",
       "      <th>2012-05-01</th>\n",
       "      <td>229.815</td>\n",
       "      <td>219.145</td>\n",
       "      <td>245.709</td>\n",
       "      <td>223.356</td>\n",
       "      <td>233.053</td>\n",
       "    </tr>\n",
       "  </tbody>\n",
       "</table>\n",
       "</div>"
      ],
      "text/plain": [
       "            National  Midwest  Northeast    South     West\n",
       "Date                                                      \n",
       "2012-01-01   226.665  216.368    242.879  220.497  228.980\n",
       "2012-02-01   227.663  216.855    243.850  221.802  229.995\n",
       "2012-03-01   229.392  218.975    245.125  223.314  232.039\n",
       "2012-04-01   230.085  219.405    245.850  224.275  232.561\n",
       "2012-05-01   229.815  219.145    245.709  223.356  233.053"
      ]
     },
     "execution_count": 76,
     "metadata": {},
     "output_type": "execute_result"
    }
   ],
   "source": [
    "combined_df = pd.concat([all_df, midwest_df, northeast_df, south_df, west_df], axis=1, join='inner')\n",
    "combined_df.head()"
   ]
  },
  {
   "cell_type": "code",
   "execution_count": 210,
   "id": "2ee1b03f-6672-47df-9e17-38f6ced2251e",
   "metadata": {},
   "outputs": [
    {
     "data": {
      "application/vnd.plotly.v1+json": {
       "config": {
        "plotlyServerURL": "https://plot.ly"
       },
       "data": [
        {
         "hovertemplate": "Region/National=National<br>Date=%{x}<br>Price in USD=%{y}<extra></extra>",
         "legendgroup": "National",
         "line": {
          "color": "black",
          "dash": "solid"
         },
         "marker": {
          "symbol": "circle"
         },
         "mode": "lines",
         "name": "National",
         "orientation": "v",
         "showlegend": true,
         "type": "scatter",
         "x": [
          "2012-01-01T00:00:00",
          "2012-02-01T00:00:00",
          "2012-03-01T00:00:00",
          "2012-04-01T00:00:00",
          "2012-05-01T00:00:00",
          "2012-06-01T00:00:00",
          "2012-07-01T00:00:00",
          "2012-08-01T00:00:00",
          "2012-09-01T00:00:00",
          "2012-10-01T00:00:00",
          "2012-11-01T00:00:00",
          "2012-12-01T00:00:00",
          "2013-01-01T00:00:00",
          "2013-02-01T00:00:00",
          "2013-03-01T00:00:00",
          "2013-04-01T00:00:00",
          "2013-05-01T00:00:00",
          "2013-06-01T00:00:00",
          "2013-07-01T00:00:00",
          "2013-08-01T00:00:00",
          "2013-09-01T00:00:00",
          "2013-10-01T00:00:00",
          "2013-11-01T00:00:00",
          "2013-12-01T00:00:00",
          "2014-01-01T00:00:00",
          "2014-02-01T00:00:00",
          "2014-03-01T00:00:00",
          "2014-04-01T00:00:00",
          "2014-05-01T00:00:00",
          "2014-06-01T00:00:00",
          "2014-07-01T00:00:00",
          "2014-08-01T00:00:00",
          "2014-09-01T00:00:00",
          "2014-10-01T00:00:00",
          "2014-11-01T00:00:00",
          "2014-12-01T00:00:00",
          "2015-01-01T00:00:00",
          "2015-02-01T00:00:00",
          "2015-03-01T00:00:00",
          "2015-04-01T00:00:00",
          "2015-05-01T00:00:00",
          "2015-06-01T00:00:00",
          "2015-07-01T00:00:00",
          "2015-08-01T00:00:00",
          "2015-09-01T00:00:00",
          "2015-10-01T00:00:00",
          "2015-11-01T00:00:00",
          "2015-12-01T00:00:00",
          "2016-01-01T00:00:00",
          "2016-02-01T00:00:00",
          "2016-03-01T00:00:00",
          "2016-04-01T00:00:00",
          "2016-05-01T00:00:00",
          "2016-06-01T00:00:00",
          "2016-07-01T00:00:00",
          "2016-08-01T00:00:00",
          "2016-09-01T00:00:00",
          "2016-10-01T00:00:00",
          "2016-11-01T00:00:00",
          "2016-12-01T00:00:00",
          "2017-01-01T00:00:00",
          "2017-02-01T00:00:00",
          "2017-03-01T00:00:00",
          "2017-04-01T00:00:00",
          "2017-05-01T00:00:00",
          "2017-06-01T00:00:00",
          "2017-07-01T00:00:00",
          "2017-08-01T00:00:00",
          "2017-09-01T00:00:00",
          "2017-10-01T00:00:00",
          "2017-11-01T00:00:00",
          "2017-12-01T00:00:00",
          "2018-01-01T00:00:00",
          "2018-02-01T00:00:00",
          "2018-03-01T00:00:00",
          "2018-04-01T00:00:00",
          "2018-05-01T00:00:00",
          "2018-06-01T00:00:00",
          "2018-07-01T00:00:00",
          "2018-08-01T00:00:00",
          "2018-09-01T00:00:00",
          "2018-10-01T00:00:00",
          "2018-11-01T00:00:00",
          "2018-12-01T00:00:00",
          "2019-01-01T00:00:00",
          "2019-02-01T00:00:00",
          "2019-03-01T00:00:00",
          "2019-04-01T00:00:00",
          "2019-05-01T00:00:00",
          "2019-06-01T00:00:00",
          "2019-07-01T00:00:00",
          "2019-08-01T00:00:00",
          "2019-09-01T00:00:00",
          "2019-10-01T00:00:00",
          "2019-11-01T00:00:00",
          "2019-12-01T00:00:00",
          "2020-01-01T00:00:00",
          "2020-02-01T00:00:00",
          "2020-03-01T00:00:00",
          "2020-04-01T00:00:00",
          "2020-05-01T00:00:00",
          "2020-06-01T00:00:00",
          "2020-07-01T00:00:00",
          "2020-08-01T00:00:00",
          "2020-09-01T00:00:00",
          "2020-10-01T00:00:00",
          "2020-11-01T00:00:00",
          "2020-12-01T00:00:00",
          "2021-01-01T00:00:00",
          "2021-02-01T00:00:00",
          "2021-03-01T00:00:00",
          "2021-04-01T00:00:00",
          "2021-05-01T00:00:00",
          "2021-06-01T00:00:00",
          "2021-07-01T00:00:00",
          "2021-08-01T00:00:00",
          "2021-09-01T00:00:00",
          "2021-10-01T00:00:00",
          "2021-11-01T00:00:00",
          "2021-12-01T00:00:00",
          "2022-01-01T00:00:00",
          "2022-02-01T00:00:00",
          "2022-03-01T00:00:00",
          "2022-04-01T00:00:00",
          "2022-05-01T00:00:00",
          "2022-06-01T00:00:00",
          "2022-07-01T00:00:00",
          "2022-08-01T00:00:00",
          "2022-09-01T00:00:00"
         ],
         "xaxis": "x",
         "y": [
          226.665,
          227.663,
          229.392,
          230.085,
          229.815,
          229.478,
          229.104,
          230.379,
          231.407,
          231.317,
          230.221,
          229.601,
          230.28,
          232.166,
          232.773,
          232.531,
          232.945,
          233.504,
          233.596,
          233.877,
          234.149,
          233.546,
          233.069,
          233.049,
          233.916,
          234.781,
          236.293,
          237.072,
          237.9,
          238.343,
          238.25,
          237.852,
          238.031,
          237.433,
          236.151,
          234.812,
          233.707,
          234.722,
          236.119,
          236.599,
          237.805,
          238.638,
          238.654,
          238.316,
          237.945,
          237.838,
          237.336,
          236.525,
          236.916,
          237.111,
          238.132,
          239.261,
          240.229,
          241.018,
          240.628,
          240.849,
          241.428,
          241.729,
          241.353,
          241.432,
          242.839,
          243.603,
          243.801,
          244.524,
          244.733,
          244.955,
          244.786,
          245.519,
          246.819,
          246.663,
          246.669,
          246.524,
          247.867,
          248.991,
          249.554,
          250.546,
          251.588,
          251.989,
          252.006,
          252.146,
          252.439,
          252.885,
          252.038,
          251.233,
          251.712,
          252.776,
          254.202,
          255.548,
          256.092,
          256.143,
          256.571,
          256.558,
          256.759,
          257.346,
          257.208,
          256.974,
          257.971,
          258.678,
          258.115,
          256.389,
          256.394,
          257.797,
          259.101,
          259.918,
          260.28,
          260.388,
          260.229,
          260.474,
          261.582,
          263.014,
          264.877,
          267.054,
          269.195,
          271.696,
          273.003,
          273.567,
          274.31,
          276.589,
          277.948,
          278.802,
          281.148,
          283.716,
          287.504,
          289.109,
          292.296,
          296.311,
          296.276,
          296.171,
          296.808
         ],
         "yaxis": "y"
        },
        {
         "hovertemplate": "Region/National=Midwest<br>Date=%{x}<br>Price in USD=%{y}<extra></extra>",
         "legendgroup": "Midwest",
         "line": {
          "color": "red",
          "dash": "solid"
         },
         "marker": {
          "symbol": "circle"
         },
         "mode": "lines",
         "name": "Midwest",
         "orientation": "v",
         "showlegend": true,
         "type": "scatter",
         "x": [
          "2012-01-01T00:00:00",
          "2012-02-01T00:00:00",
          "2012-03-01T00:00:00",
          "2012-04-01T00:00:00",
          "2012-05-01T00:00:00",
          "2012-06-01T00:00:00",
          "2012-07-01T00:00:00",
          "2012-08-01T00:00:00",
          "2012-09-01T00:00:00",
          "2012-10-01T00:00:00",
          "2012-11-01T00:00:00",
          "2012-12-01T00:00:00",
          "2013-01-01T00:00:00",
          "2013-02-01T00:00:00",
          "2013-03-01T00:00:00",
          "2013-04-01T00:00:00",
          "2013-05-01T00:00:00",
          "2013-06-01T00:00:00",
          "2013-07-01T00:00:00",
          "2013-08-01T00:00:00",
          "2013-09-01T00:00:00",
          "2013-10-01T00:00:00",
          "2013-11-01T00:00:00",
          "2013-12-01T00:00:00",
          "2014-01-01T00:00:00",
          "2014-02-01T00:00:00",
          "2014-03-01T00:00:00",
          "2014-04-01T00:00:00",
          "2014-05-01T00:00:00",
          "2014-06-01T00:00:00",
          "2014-07-01T00:00:00",
          "2014-08-01T00:00:00",
          "2014-09-01T00:00:00",
          "2014-10-01T00:00:00",
          "2014-11-01T00:00:00",
          "2014-12-01T00:00:00",
          "2015-01-01T00:00:00",
          "2015-02-01T00:00:00",
          "2015-03-01T00:00:00",
          "2015-04-01T00:00:00",
          "2015-05-01T00:00:00",
          "2015-06-01T00:00:00",
          "2015-07-01T00:00:00",
          "2015-08-01T00:00:00",
          "2015-09-01T00:00:00",
          "2015-10-01T00:00:00",
          "2015-11-01T00:00:00",
          "2015-12-01T00:00:00",
          "2016-01-01T00:00:00",
          "2016-02-01T00:00:00",
          "2016-03-01T00:00:00",
          "2016-04-01T00:00:00",
          "2016-05-01T00:00:00",
          "2016-06-01T00:00:00",
          "2016-07-01T00:00:00",
          "2016-08-01T00:00:00",
          "2016-09-01T00:00:00",
          "2016-10-01T00:00:00",
          "2016-11-01T00:00:00",
          "2016-12-01T00:00:00",
          "2017-01-01T00:00:00",
          "2017-02-01T00:00:00",
          "2017-03-01T00:00:00",
          "2017-04-01T00:00:00",
          "2017-05-01T00:00:00",
          "2017-06-01T00:00:00",
          "2017-07-01T00:00:00",
          "2017-08-01T00:00:00",
          "2017-09-01T00:00:00",
          "2017-10-01T00:00:00",
          "2017-11-01T00:00:00",
          "2017-12-01T00:00:00",
          "2018-01-01T00:00:00",
          "2018-02-01T00:00:00",
          "2018-03-01T00:00:00",
          "2018-04-01T00:00:00",
          "2018-05-01T00:00:00",
          "2018-06-01T00:00:00",
          "2018-07-01T00:00:00",
          "2018-08-01T00:00:00",
          "2018-09-01T00:00:00",
          "2018-10-01T00:00:00",
          "2018-11-01T00:00:00",
          "2018-12-01T00:00:00",
          "2019-01-01T00:00:00",
          "2019-02-01T00:00:00",
          "2019-03-01T00:00:00",
          "2019-04-01T00:00:00",
          "2019-05-01T00:00:00",
          "2019-06-01T00:00:00",
          "2019-07-01T00:00:00",
          "2019-08-01T00:00:00",
          "2019-09-01T00:00:00",
          "2019-10-01T00:00:00",
          "2019-11-01T00:00:00",
          "2019-12-01T00:00:00",
          "2020-01-01T00:00:00",
          "2020-02-01T00:00:00",
          "2020-03-01T00:00:00",
          "2020-04-01T00:00:00",
          "2020-05-01T00:00:00",
          "2020-06-01T00:00:00",
          "2020-07-01T00:00:00",
          "2020-08-01T00:00:00",
          "2020-09-01T00:00:00",
          "2020-10-01T00:00:00",
          "2020-11-01T00:00:00",
          "2020-12-01T00:00:00",
          "2021-01-01T00:00:00",
          "2021-02-01T00:00:00",
          "2021-03-01T00:00:00",
          "2021-04-01T00:00:00",
          "2021-05-01T00:00:00",
          "2021-06-01T00:00:00",
          "2021-07-01T00:00:00",
          "2021-08-01T00:00:00",
          "2021-09-01T00:00:00",
          "2021-10-01T00:00:00",
          "2021-11-01T00:00:00",
          "2021-12-01T00:00:00",
          "2022-01-01T00:00:00",
          "2022-02-01T00:00:00",
          "2022-03-01T00:00:00",
          "2022-04-01T00:00:00",
          "2022-05-01T00:00:00",
          "2022-06-01T00:00:00",
          "2022-07-01T00:00:00",
          "2022-08-01T00:00:00",
          "2022-09-01T00:00:00"
         ],
         "xaxis": "x",
         "y": [
          216.368,
          216.855,
          218.975,
          219.405,
          219.145,
          219.017,
          218.956,
          220.462,
          221.125,
          220.375,
          219.483,
          219.033,
          219.282,
          221.599,
          222.121,
          221.931,
          223.049,
          223.775,
          222.902,
          223.046,
          223.252,
          222.171,
          221.718,
          221.194,
          222.247,
          223.493,
          225.485,
          226.214,
          226.565,
          227.588,
          226.997,
          226.587,
          226.913,
          225.793,
          224.396,
          222.821,
          221.545,
          222.301,
          223.55,
          223.797,
          224.732,
          225.946,
          225.853,
          225.83,
          225.184,
          225.05,
          224.009,
          222.722,
          223.301,
          223.196,
          224.621,
          225.609,
          226.476,
          227.835,
          226.786,
          227.097,
          227.636,
          227.358,
          226.673,
          226.794,
          228.279,
          228.633,
          228.824,
          229.682,
          229.705,
          229.78,
          229.82,
          230.443,
          231.03,
          230.66,
          231.084,
          230.548,
          232.028,
          232.512,
          232.931,
          233.913,
          235.065,
          235.455,
          235.346,
          235.276,
          235.524,
          235.68,
          234.292,
          233.458,
          233.837,
          235.444,
          236.793,
          237.51,
          238.219,
          238.288,
          238.76,
          238.786,
          238.847,
          239.243,
          238.85,
          238.734,
          239.69,
          240.421,
          239.163,
          236.474,
          237.291,
          239.259,
          240.43,
          241.362,
          241.878,
          241.74,
          241.316,
          241.453,
          242.552,
          244.477,
          246.246,
          248.169,
          250.582,
          253.042,
          254.671,
          255.142,
          255.709,
          257.793,
          258.911,
          259.609,
          261.657,
          263.988,
          267.312,
          268.639,
          272.673,
          277.072,
          276.525,
          275.875,
          276.549
         ],
         "yaxis": "y"
        },
        {
         "hovertemplate": "Region/National=Northeast<br>Date=%{x}<br>Price in USD=%{y}<extra></extra>",
         "legendgroup": "Northeast",
         "line": {
          "color": "blue",
          "dash": "solid"
         },
         "marker": {
          "symbol": "circle"
         },
         "mode": "lines",
         "name": "Northeast",
         "orientation": "v",
         "showlegend": true,
         "type": "scatter",
         "x": [
          "2012-01-01T00:00:00",
          "2012-02-01T00:00:00",
          "2012-03-01T00:00:00",
          "2012-04-01T00:00:00",
          "2012-05-01T00:00:00",
          "2012-06-01T00:00:00",
          "2012-07-01T00:00:00",
          "2012-08-01T00:00:00",
          "2012-09-01T00:00:00",
          "2012-10-01T00:00:00",
          "2012-11-01T00:00:00",
          "2012-12-01T00:00:00",
          "2013-01-01T00:00:00",
          "2013-02-01T00:00:00",
          "2013-03-01T00:00:00",
          "2013-04-01T00:00:00",
          "2013-05-01T00:00:00",
          "2013-06-01T00:00:00",
          "2013-07-01T00:00:00",
          "2013-08-01T00:00:00",
          "2013-09-01T00:00:00",
          "2013-10-01T00:00:00",
          "2013-11-01T00:00:00",
          "2013-12-01T00:00:00",
          "2014-01-01T00:00:00",
          "2014-02-01T00:00:00",
          "2014-03-01T00:00:00",
          "2014-04-01T00:00:00",
          "2014-05-01T00:00:00",
          "2014-06-01T00:00:00",
          "2014-07-01T00:00:00",
          "2014-08-01T00:00:00",
          "2014-09-01T00:00:00",
          "2014-10-01T00:00:00",
          "2014-11-01T00:00:00",
          "2014-12-01T00:00:00",
          "2015-01-01T00:00:00",
          "2015-02-01T00:00:00",
          "2015-03-01T00:00:00",
          "2015-04-01T00:00:00",
          "2015-05-01T00:00:00",
          "2015-06-01T00:00:00",
          "2015-07-01T00:00:00",
          "2015-08-01T00:00:00",
          "2015-09-01T00:00:00",
          "2015-10-01T00:00:00",
          "2015-11-01T00:00:00",
          "2015-12-01T00:00:00",
          "2016-01-01T00:00:00",
          "2016-02-01T00:00:00",
          "2016-03-01T00:00:00",
          "2016-04-01T00:00:00",
          "2016-05-01T00:00:00",
          "2016-06-01T00:00:00",
          "2016-07-01T00:00:00",
          "2016-08-01T00:00:00",
          "2016-09-01T00:00:00",
          "2016-10-01T00:00:00",
          "2016-11-01T00:00:00",
          "2016-12-01T00:00:00",
          "2017-01-01T00:00:00",
          "2017-02-01T00:00:00",
          "2017-03-01T00:00:00",
          "2017-04-01T00:00:00",
          "2017-05-01T00:00:00",
          "2017-06-01T00:00:00",
          "2017-07-01T00:00:00",
          "2017-08-01T00:00:00",
          "2017-09-01T00:00:00",
          "2017-10-01T00:00:00",
          "2017-11-01T00:00:00",
          "2017-12-01T00:00:00",
          "2018-01-01T00:00:00",
          "2018-02-01T00:00:00",
          "2018-03-01T00:00:00",
          "2018-04-01T00:00:00",
          "2018-05-01T00:00:00",
          "2018-06-01T00:00:00",
          "2018-07-01T00:00:00",
          "2018-08-01T00:00:00",
          "2018-09-01T00:00:00",
          "2018-10-01T00:00:00",
          "2018-11-01T00:00:00",
          "2018-12-01T00:00:00",
          "2019-01-01T00:00:00",
          "2019-02-01T00:00:00",
          "2019-03-01T00:00:00",
          "2019-04-01T00:00:00",
          "2019-05-01T00:00:00",
          "2019-06-01T00:00:00",
          "2019-07-01T00:00:00",
          "2019-08-01T00:00:00",
          "2019-09-01T00:00:00",
          "2019-10-01T00:00:00",
          "2019-11-01T00:00:00",
          "2019-12-01T00:00:00",
          "2020-01-01T00:00:00",
          "2020-02-01T00:00:00",
          "2020-03-01T00:00:00",
          "2020-04-01T00:00:00",
          "2020-05-01T00:00:00",
          "2020-06-01T00:00:00",
          "2020-07-01T00:00:00",
          "2020-08-01T00:00:00",
          "2020-09-01T00:00:00",
          "2020-10-01T00:00:00",
          "2020-11-01T00:00:00",
          "2020-12-01T00:00:00",
          "2021-01-01T00:00:00",
          "2021-02-01T00:00:00",
          "2021-03-01T00:00:00",
          "2021-04-01T00:00:00",
          "2021-05-01T00:00:00",
          "2021-06-01T00:00:00",
          "2021-07-01T00:00:00",
          "2021-08-01T00:00:00",
          "2021-09-01T00:00:00",
          "2021-10-01T00:00:00",
          "2021-11-01T00:00:00",
          "2021-12-01T00:00:00",
          "2022-01-01T00:00:00",
          "2022-02-01T00:00:00",
          "2022-03-01T00:00:00",
          "2022-04-01T00:00:00",
          "2022-05-01T00:00:00",
          "2022-06-01T00:00:00",
          "2022-07-01T00:00:00",
          "2022-08-01T00:00:00",
          "2022-09-01T00:00:00"
         ],
         "xaxis": "x",
         "y": [
          242.879,
          243.85,
          245.125,
          245.85,
          245.709,
          245.201,
          244.984,
          246.252,
          247.409,
          247.564,
          247.097,
          246.456,
          247.277,
          248.665,
          248.719,
          248.464,
          248.584,
          248.851,
          249.411,
          249.858,
          250.231,
          249.32,
          249.503,
          249.567,
          251.045,
          251.233,
          252.413,
          252.506,
          253.598,
          253.555,
          253.833,
          253.185,
          253.154,
          252.73,
          251.781,
          250.519,
          250.016,
          250.619,
          251.451,
          251.76,
          252.77,
          253.626,
          253.405,
          252.903,
          252.922,
          252.504,
          252.573,
          251.67,
          251.739,
          252.25,
          252.854,
          254.27,
          255.023,
          255.471,
          255.386,
          255.545,
          256.085,
          256.605,
          256.541,
          256.427,
          258.073,
          258.768,
          258.51,
          259.165,
          259.386,
          259.335,
          258.833,
          259.508,
          260.875,
          260.58,
          260.63,
          260.791,
          262.188,
          263.26,
          263.556,
          264.669,
          265.84,
          265.95,
          265.83,
          266.425,
          266.709,
          266.464,
          265.487,
          265.286,
          266.109,
          266.706,
          268.025,
          269.07,
          269.744,
          270.133,
          270.381,
          270.548,
          270.563,
          270.348,
          270.643,
          270.429,
          272.316,
          273.08,
          272.531,
          271.325,
          271.345,
          272.283,
          273.347,
          273.597,
          273.925,
          273.374,
          273.543,
          274.225,
          275.427,
          276.473,
          278.197,
          280.234,
          281.858,
          284.741,
          285.22,
          285.63,
          286.423,
          288.236,
          289.835,
          290.405,
          292.644,
          294.605,
          298.403,
          300.325,
          302.939,
          306.453,
          305.916,
          306.855,
          307.152
         ],
         "yaxis": "y"
        },
        {
         "hovertemplate": "Region/National=South<br>Date=%{x}<br>Price in USD=%{y}<extra></extra>",
         "legendgroup": "South",
         "line": {
          "color": "green",
          "dash": "solid"
         },
         "marker": {
          "symbol": "circle"
         },
         "mode": "lines",
         "name": "South",
         "orientation": "v",
         "showlegend": true,
         "type": "scatter",
         "x": [
          "2012-01-01T00:00:00",
          "2012-02-01T00:00:00",
          "2012-03-01T00:00:00",
          "2012-04-01T00:00:00",
          "2012-05-01T00:00:00",
          "2012-06-01T00:00:00",
          "2012-07-01T00:00:00",
          "2012-08-01T00:00:00",
          "2012-09-01T00:00:00",
          "2012-10-01T00:00:00",
          "2012-11-01T00:00:00",
          "2012-12-01T00:00:00",
          "2013-01-01T00:00:00",
          "2013-02-01T00:00:00",
          "2013-03-01T00:00:00",
          "2013-04-01T00:00:00",
          "2013-05-01T00:00:00",
          "2013-06-01T00:00:00",
          "2013-07-01T00:00:00",
          "2013-08-01T00:00:00",
          "2013-09-01T00:00:00",
          "2013-10-01T00:00:00",
          "2013-11-01T00:00:00",
          "2013-12-01T00:00:00",
          "2014-01-01T00:00:00",
          "2014-02-01T00:00:00",
          "2014-03-01T00:00:00",
          "2014-04-01T00:00:00",
          "2014-05-01T00:00:00",
          "2014-06-01T00:00:00",
          "2014-07-01T00:00:00",
          "2014-08-01T00:00:00",
          "2014-09-01T00:00:00",
          "2014-10-01T00:00:00",
          "2014-11-01T00:00:00",
          "2014-12-01T00:00:00",
          "2015-01-01T00:00:00",
          "2015-02-01T00:00:00",
          "2015-03-01T00:00:00",
          "2015-04-01T00:00:00",
          "2015-05-01T00:00:00",
          "2015-06-01T00:00:00",
          "2015-07-01T00:00:00",
          "2015-08-01T00:00:00",
          "2015-09-01T00:00:00",
          "2015-10-01T00:00:00",
          "2015-11-01T00:00:00",
          "2015-12-01T00:00:00",
          "2016-01-01T00:00:00",
          "2016-02-01T00:00:00",
          "2016-03-01T00:00:00",
          "2016-04-01T00:00:00",
          "2016-05-01T00:00:00",
          "2016-06-01T00:00:00",
          "2016-07-01T00:00:00",
          "2016-08-01T00:00:00",
          "2016-09-01T00:00:00",
          "2016-10-01T00:00:00",
          "2016-11-01T00:00:00",
          "2016-12-01T00:00:00",
          "2017-01-01T00:00:00",
          "2017-02-01T00:00:00",
          "2017-03-01T00:00:00",
          "2017-04-01T00:00:00",
          "2017-05-01T00:00:00",
          "2017-06-01T00:00:00",
          "2017-07-01T00:00:00",
          "2017-08-01T00:00:00",
          "2017-09-01T00:00:00",
          "2017-10-01T00:00:00",
          "2017-11-01T00:00:00",
          "2017-12-01T00:00:00",
          "2018-01-01T00:00:00",
          "2018-02-01T00:00:00",
          "2018-03-01T00:00:00",
          "2018-04-01T00:00:00",
          "2018-05-01T00:00:00",
          "2018-06-01T00:00:00",
          "2018-07-01T00:00:00",
          "2018-08-01T00:00:00",
          "2018-09-01T00:00:00",
          "2018-10-01T00:00:00",
          "2018-11-01T00:00:00",
          "2018-12-01T00:00:00",
          "2019-01-01T00:00:00",
          "2019-02-01T00:00:00",
          "2019-03-01T00:00:00",
          "2019-04-01T00:00:00",
          "2019-05-01T00:00:00",
          "2019-06-01T00:00:00",
          "2019-07-01T00:00:00",
          "2019-08-01T00:00:00",
          "2019-09-01T00:00:00",
          "2019-10-01T00:00:00",
          "2019-11-01T00:00:00",
          "2019-12-01T00:00:00",
          "2020-01-01T00:00:00",
          "2020-02-01T00:00:00",
          "2020-03-01T00:00:00",
          "2020-04-01T00:00:00",
          "2020-05-01T00:00:00",
          "2020-06-01T00:00:00",
          "2020-07-01T00:00:00",
          "2020-08-01T00:00:00",
          "2020-09-01T00:00:00",
          "2020-10-01T00:00:00",
          "2020-11-01T00:00:00",
          "2020-12-01T00:00:00",
          "2021-01-01T00:00:00",
          "2021-02-01T00:00:00",
          "2021-03-01T00:00:00",
          "2021-04-01T00:00:00",
          "2021-05-01T00:00:00",
          "2021-06-01T00:00:00",
          "2021-07-01T00:00:00",
          "2021-08-01T00:00:00",
          "2021-09-01T00:00:00",
          "2021-10-01T00:00:00",
          "2021-11-01T00:00:00",
          "2021-12-01T00:00:00",
          "2022-01-01T00:00:00",
          "2022-02-01T00:00:00",
          "2022-03-01T00:00:00",
          "2022-04-01T00:00:00",
          "2022-05-01T00:00:00",
          "2022-06-01T00:00:00",
          "2022-07-01T00:00:00",
          "2022-08-01T00:00:00",
          "2022-09-01T00:00:00"
         ],
         "xaxis": "x",
         "y": [
          220.497,
          221.802,
          223.314,
          224.275,
          223.356,
          223.004,
          222.667,
          223.919,
          225.052,
          224.504,
          223.404,
          223.109,
          223.933,
          225.874,
          226.628,
          226.202,
          226.289,
          227.148,
          227.548,
          227.837,
          227.876,
          227.42,
          226.811,
          227.082,
          227.673,
          228.664,
          230.095,
          231.346,
          231.762,
          232.269,
          232.013,
          231.611,
          231.762,
          231.131,
          229.845,
          228.451,
          226.855,
          227.944,
          229.337,
          229.957,
          230.886,
          232.026,
          231.719,
          231.26,
          230.913,
          230.86,
          230.422,
          229.581,
          229.469,
          229.646,
          230.977,
          231.975,
          232.906,
          233.838,
          233.292,
          233.561,
          234.069,
          234.337,
          234.029,
          234.204,
          235.492,
          236.052,
          236.154,
          236.728,
          236.774,
          237.346,
          236.942,
          237.892,
          239.649,
          239.067,
          238.861,
          238.512,
          239.772,
          241.123,
          241.595,
          242.486,
          243.279,
          243.77,
          243.776,
          243.605,
          243.64,
          244.163,
          243.484,
          242.15,
          242.547,
          243.856,
          245.554,
          246.847,
          246.667,
          246.515,
          247.25,
          246.953,
          246.891,
          247.423,
          247.385,
          247.289,
          248.005,
          248.412,
          248.136,
          246.254,
          245.696,
          247.223,
          248.619,
          249.639,
          250.193,
          250.542,
          250.255,
          250.693,
          252.067,
          253.386,
          255.319,
          257.207,
          259.343,
          261.668,
          263.013,
          263.728,
          264.593,
          267.16,
          268.36,
          269.263,
          271.634,
          274.688,
          278.598,
          279.879,
          283.307,
          287.427,
          287.608,
          287.168,
          287.656
         ],
         "yaxis": "y"
        },
        {
         "hovertemplate": "Region/National=West<br>Date=%{x}<br>Price in USD=%{y}<extra></extra>",
         "legendgroup": "West",
         "line": {
          "color": "yellow",
          "dash": "solid"
         },
         "marker": {
          "symbol": "circle"
         },
         "mode": "lines",
         "name": "West",
         "orientation": "v",
         "showlegend": true,
         "type": "scatter",
         "x": [
          "2012-01-01T00:00:00",
          "2012-02-01T00:00:00",
          "2012-03-01T00:00:00",
          "2012-04-01T00:00:00",
          "2012-05-01T00:00:00",
          "2012-06-01T00:00:00",
          "2012-07-01T00:00:00",
          "2012-08-01T00:00:00",
          "2012-09-01T00:00:00",
          "2012-10-01T00:00:00",
          "2012-11-01T00:00:00",
          "2012-12-01T00:00:00",
          "2013-01-01T00:00:00",
          "2013-02-01T00:00:00",
          "2013-03-01T00:00:00",
          "2013-04-01T00:00:00",
          "2013-05-01T00:00:00",
          "2013-06-01T00:00:00",
          "2013-07-01T00:00:00",
          "2013-08-01T00:00:00",
          "2013-09-01T00:00:00",
          "2013-10-01T00:00:00",
          "2013-11-01T00:00:00",
          "2013-12-01T00:00:00",
          "2014-01-01T00:00:00",
          "2014-02-01T00:00:00",
          "2014-03-01T00:00:00",
          "2014-04-01T00:00:00",
          "2014-05-01T00:00:00",
          "2014-06-01T00:00:00",
          "2014-07-01T00:00:00",
          "2014-08-01T00:00:00",
          "2014-09-01T00:00:00",
          "2014-10-01T00:00:00",
          "2014-11-01T00:00:00",
          "2014-12-01T00:00:00",
          "2015-01-01T00:00:00",
          "2015-02-01T00:00:00",
          "2015-03-01T00:00:00",
          "2015-04-01T00:00:00",
          "2015-05-01T00:00:00",
          "2015-06-01T00:00:00",
          "2015-07-01T00:00:00",
          "2015-08-01T00:00:00",
          "2015-09-01T00:00:00",
          "2015-10-01T00:00:00",
          "2015-11-01T00:00:00",
          "2015-12-01T00:00:00",
          "2016-01-01T00:00:00",
          "2016-02-01T00:00:00",
          "2016-03-01T00:00:00",
          "2016-04-01T00:00:00",
          "2016-05-01T00:00:00",
          "2016-06-01T00:00:00",
          "2016-07-01T00:00:00",
          "2016-08-01T00:00:00",
          "2016-09-01T00:00:00",
          "2016-10-01T00:00:00",
          "2016-11-01T00:00:00",
          "2016-12-01T00:00:00",
          "2017-01-01T00:00:00",
          "2017-02-01T00:00:00",
          "2017-03-01T00:00:00",
          "2017-04-01T00:00:00",
          "2017-05-01T00:00:00",
          "2017-06-01T00:00:00",
          "2017-07-01T00:00:00",
          "2017-08-01T00:00:00",
          "2017-09-01T00:00:00",
          "2017-10-01T00:00:00",
          "2017-11-01T00:00:00",
          "2017-12-01T00:00:00",
          "2018-01-01T00:00:00",
          "2018-02-01T00:00:00",
          "2018-03-01T00:00:00",
          "2018-04-01T00:00:00",
          "2018-05-01T00:00:00",
          "2018-06-01T00:00:00",
          "2018-07-01T00:00:00",
          "2018-08-01T00:00:00",
          "2018-09-01T00:00:00",
          "2018-10-01T00:00:00",
          "2018-11-01T00:00:00",
          "2018-12-01T00:00:00",
          "2019-01-01T00:00:00",
          "2019-02-01T00:00:00",
          "2019-03-01T00:00:00",
          "2019-04-01T00:00:00",
          "2019-05-01T00:00:00",
          "2019-06-01T00:00:00",
          "2019-07-01T00:00:00",
          "2019-08-01T00:00:00",
          "2019-09-01T00:00:00",
          "2019-10-01T00:00:00",
          "2019-11-01T00:00:00",
          "2019-12-01T00:00:00",
          "2020-01-01T00:00:00",
          "2020-02-01T00:00:00",
          "2020-03-01T00:00:00",
          "2020-04-01T00:00:00",
          "2020-05-01T00:00:00",
          "2020-06-01T00:00:00",
          "2020-07-01T00:00:00",
          "2020-08-01T00:00:00",
          "2020-09-01T00:00:00",
          "2020-10-01T00:00:00",
          "2020-11-01T00:00:00",
          "2020-12-01T00:00:00",
          "2021-01-01T00:00:00",
          "2021-02-01T00:00:00",
          "2021-03-01T00:00:00",
          "2021-04-01T00:00:00",
          "2021-05-01T00:00:00",
          "2021-06-01T00:00:00",
          "2021-07-01T00:00:00",
          "2021-08-01T00:00:00",
          "2021-09-01T00:00:00",
          "2021-10-01T00:00:00",
          "2021-11-01T00:00:00",
          "2021-12-01T00:00:00",
          "2022-01-01T00:00:00",
          "2022-02-01T00:00:00",
          "2022-03-01T00:00:00",
          "2022-04-01T00:00:00",
          "2022-05-01T00:00:00",
          "2022-06-01T00:00:00",
          "2022-07-01T00:00:00",
          "2022-08-01T00:00:00",
          "2022-09-01T00:00:00"
         ],
         "xaxis": "x",
         "y": [
          228.98,
          229.995,
          232.039,
          232.561,
          233.053,
          232.701,
          231.893,
          233.001,
          234.083,
          234.966,
          233.206,
          232.029,
          232.759,
          234.595,
          235.511,
          235.488,
          235.979,
          236.227,
          236.341,
          236.591,
          237.146,
          237,
          236.153,
          236.096,
          236.707,
          237.614,
          239.092,
          239.808,
          241.35,
          241.616,
          241.85,
          241.66,
          241.92,
          241.65,
          240.22,
          239.095,
          238.318,
          239.748,
          241.69,
          242.302,
          244.227,
          244.332,
          245.04,
          244.737,
          244.257,
          244.341,
          243.749,
          243.434,
          244.6,
          244.821,
          245.404,
          246.589,
          247.855,
          248.228,
          248.375,
          248.498,
          249.234,
          249.897,
          249.448,
          249.516,
          250.814,
          252.252,
          252.949,
          253.806,
          254.38,
          254.469,
          254.708,
          255.282,
          256.504,
          257.223,
          257.126,
          257.347,
          258.638,
          259.986,
          260.994,
          262.037,
          263.24,
          263.732,
          263.971,
          264.395,
          265.105,
          266.195,
          265.658,
          265.209,
          265.624,
          266.215,
          267.37,
          269.522,
          270.88,
          270.957,
          271.029,
          271.264,
          272.102,
          273.524,
          273.128,
          272.584,
          273.34,
          274.412,
          273.995,
          272.913,
          273.062,
          274.155,
          275.597,
          276.443,
          276.422,
          276.876,
          276.875,
          276.593,
          277.238,
          278.702,
          280.625,
          283.507,
          285.793,
          288.263,
          289.863,
          290.393,
          291.053,
          293.397,
          294.986,
          296.102,
          298.705,
          301.158,
          305.082,
          307.145,
          309.645,
          313.496,
          313.951,
          314.013,
          315.094
         ],
         "yaxis": "y"
        }
       ],
       "layout": {
        "height": 600,
        "legend": {
         "title": {
          "text": "Region/National"
         },
         "tracegroupgap": 0
        },
        "template": {
         "data": {
          "bar": [
           {
            "error_x": {
             "color": "#2a3f5f"
            },
            "error_y": {
             "color": "#2a3f5f"
            },
            "marker": {
             "line": {
              "color": "#E5ECF6",
              "width": 0.5
             },
             "pattern": {
              "fillmode": "overlay",
              "size": 10,
              "solidity": 0.2
             }
            },
            "type": "bar"
           }
          ],
          "barpolar": [
           {
            "marker": {
             "line": {
              "color": "#E5ECF6",
              "width": 0.5
             },
             "pattern": {
              "fillmode": "overlay",
              "size": 10,
              "solidity": 0.2
             }
            },
            "type": "barpolar"
           }
          ],
          "carpet": [
           {
            "aaxis": {
             "endlinecolor": "#2a3f5f",
             "gridcolor": "white",
             "linecolor": "white",
             "minorgridcolor": "white",
             "startlinecolor": "#2a3f5f"
            },
            "baxis": {
             "endlinecolor": "#2a3f5f",
             "gridcolor": "white",
             "linecolor": "white",
             "minorgridcolor": "white",
             "startlinecolor": "#2a3f5f"
            },
            "type": "carpet"
           }
          ],
          "choropleth": [
           {
            "colorbar": {
             "outlinewidth": 0,
             "ticks": ""
            },
            "type": "choropleth"
           }
          ],
          "contour": [
           {
            "colorbar": {
             "outlinewidth": 0,
             "ticks": ""
            },
            "colorscale": [
             [
              0,
              "#0d0887"
             ],
             [
              0.1111111111111111,
              "#46039f"
             ],
             [
              0.2222222222222222,
              "#7201a8"
             ],
             [
              0.3333333333333333,
              "#9c179e"
             ],
             [
              0.4444444444444444,
              "#bd3786"
             ],
             [
              0.5555555555555556,
              "#d8576b"
             ],
             [
              0.6666666666666666,
              "#ed7953"
             ],
             [
              0.7777777777777778,
              "#fb9f3a"
             ],
             [
              0.8888888888888888,
              "#fdca26"
             ],
             [
              1,
              "#f0f921"
             ]
            ],
            "type": "contour"
           }
          ],
          "contourcarpet": [
           {
            "colorbar": {
             "outlinewidth": 0,
             "ticks": ""
            },
            "type": "contourcarpet"
           }
          ],
          "heatmap": [
           {
            "colorbar": {
             "outlinewidth": 0,
             "ticks": ""
            },
            "colorscale": [
             [
              0,
              "#0d0887"
             ],
             [
              0.1111111111111111,
              "#46039f"
             ],
             [
              0.2222222222222222,
              "#7201a8"
             ],
             [
              0.3333333333333333,
              "#9c179e"
             ],
             [
              0.4444444444444444,
              "#bd3786"
             ],
             [
              0.5555555555555556,
              "#d8576b"
             ],
             [
              0.6666666666666666,
              "#ed7953"
             ],
             [
              0.7777777777777778,
              "#fb9f3a"
             ],
             [
              0.8888888888888888,
              "#fdca26"
             ],
             [
              1,
              "#f0f921"
             ]
            ],
            "type": "heatmap"
           }
          ],
          "heatmapgl": [
           {
            "colorbar": {
             "outlinewidth": 0,
             "ticks": ""
            },
            "colorscale": [
             [
              0,
              "#0d0887"
             ],
             [
              0.1111111111111111,
              "#46039f"
             ],
             [
              0.2222222222222222,
              "#7201a8"
             ],
             [
              0.3333333333333333,
              "#9c179e"
             ],
             [
              0.4444444444444444,
              "#bd3786"
             ],
             [
              0.5555555555555556,
              "#d8576b"
             ],
             [
              0.6666666666666666,
              "#ed7953"
             ],
             [
              0.7777777777777778,
              "#fb9f3a"
             ],
             [
              0.8888888888888888,
              "#fdca26"
             ],
             [
              1,
              "#f0f921"
             ]
            ],
            "type": "heatmapgl"
           }
          ],
          "histogram": [
           {
            "marker": {
             "pattern": {
              "fillmode": "overlay",
              "size": 10,
              "solidity": 0.2
             }
            },
            "type": "histogram"
           }
          ],
          "histogram2d": [
           {
            "colorbar": {
             "outlinewidth": 0,
             "ticks": ""
            },
            "colorscale": [
             [
              0,
              "#0d0887"
             ],
             [
              0.1111111111111111,
              "#46039f"
             ],
             [
              0.2222222222222222,
              "#7201a8"
             ],
             [
              0.3333333333333333,
              "#9c179e"
             ],
             [
              0.4444444444444444,
              "#bd3786"
             ],
             [
              0.5555555555555556,
              "#d8576b"
             ],
             [
              0.6666666666666666,
              "#ed7953"
             ],
             [
              0.7777777777777778,
              "#fb9f3a"
             ],
             [
              0.8888888888888888,
              "#fdca26"
             ],
             [
              1,
              "#f0f921"
             ]
            ],
            "type": "histogram2d"
           }
          ],
          "histogram2dcontour": [
           {
            "colorbar": {
             "outlinewidth": 0,
             "ticks": ""
            },
            "colorscale": [
             [
              0,
              "#0d0887"
             ],
             [
              0.1111111111111111,
              "#46039f"
             ],
             [
              0.2222222222222222,
              "#7201a8"
             ],
             [
              0.3333333333333333,
              "#9c179e"
             ],
             [
              0.4444444444444444,
              "#bd3786"
             ],
             [
              0.5555555555555556,
              "#d8576b"
             ],
             [
              0.6666666666666666,
              "#ed7953"
             ],
             [
              0.7777777777777778,
              "#fb9f3a"
             ],
             [
              0.8888888888888888,
              "#fdca26"
             ],
             [
              1,
              "#f0f921"
             ]
            ],
            "type": "histogram2dcontour"
           }
          ],
          "mesh3d": [
           {
            "colorbar": {
             "outlinewidth": 0,
             "ticks": ""
            },
            "type": "mesh3d"
           }
          ],
          "parcoords": [
           {
            "line": {
             "colorbar": {
              "outlinewidth": 0,
              "ticks": ""
             }
            },
            "type": "parcoords"
           }
          ],
          "pie": [
           {
            "automargin": true,
            "type": "pie"
           }
          ],
          "scatter": [
           {
            "fillpattern": {
             "fillmode": "overlay",
             "size": 10,
             "solidity": 0.2
            },
            "type": "scatter"
           }
          ],
          "scatter3d": [
           {
            "line": {
             "colorbar": {
              "outlinewidth": 0,
              "ticks": ""
             }
            },
            "marker": {
             "colorbar": {
              "outlinewidth": 0,
              "ticks": ""
             }
            },
            "type": "scatter3d"
           }
          ],
          "scattercarpet": [
           {
            "marker": {
             "colorbar": {
              "outlinewidth": 0,
              "ticks": ""
             }
            },
            "type": "scattercarpet"
           }
          ],
          "scattergeo": [
           {
            "marker": {
             "colorbar": {
              "outlinewidth": 0,
              "ticks": ""
             }
            },
            "type": "scattergeo"
           }
          ],
          "scattergl": [
           {
            "marker": {
             "colorbar": {
              "outlinewidth": 0,
              "ticks": ""
             }
            },
            "type": "scattergl"
           }
          ],
          "scattermapbox": [
           {
            "marker": {
             "colorbar": {
              "outlinewidth": 0,
              "ticks": ""
             }
            },
            "type": "scattermapbox"
           }
          ],
          "scatterpolar": [
           {
            "marker": {
             "colorbar": {
              "outlinewidth": 0,
              "ticks": ""
             }
            },
            "type": "scatterpolar"
           }
          ],
          "scatterpolargl": [
           {
            "marker": {
             "colorbar": {
              "outlinewidth": 0,
              "ticks": ""
             }
            },
            "type": "scatterpolargl"
           }
          ],
          "scatterternary": [
           {
            "marker": {
             "colorbar": {
              "outlinewidth": 0,
              "ticks": ""
             }
            },
            "type": "scatterternary"
           }
          ],
          "surface": [
           {
            "colorbar": {
             "outlinewidth": 0,
             "ticks": ""
            },
            "colorscale": [
             [
              0,
              "#0d0887"
             ],
             [
              0.1111111111111111,
              "#46039f"
             ],
             [
              0.2222222222222222,
              "#7201a8"
             ],
             [
              0.3333333333333333,
              "#9c179e"
             ],
             [
              0.4444444444444444,
              "#bd3786"
             ],
             [
              0.5555555555555556,
              "#d8576b"
             ],
             [
              0.6666666666666666,
              "#ed7953"
             ],
             [
              0.7777777777777778,
              "#fb9f3a"
             ],
             [
              0.8888888888888888,
              "#fdca26"
             ],
             [
              1,
              "#f0f921"
             ]
            ],
            "type": "surface"
           }
          ],
          "table": [
           {
            "cells": {
             "fill": {
              "color": "#EBF0F8"
             },
             "line": {
              "color": "white"
             }
            },
            "header": {
             "fill": {
              "color": "#C8D4E3"
             },
             "line": {
              "color": "white"
             }
            },
            "type": "table"
           }
          ]
         },
         "layout": {
          "annotationdefaults": {
           "arrowcolor": "#2a3f5f",
           "arrowhead": 0,
           "arrowwidth": 1
          },
          "autotypenumbers": "strict",
          "coloraxis": {
           "colorbar": {
            "outlinewidth": 0,
            "ticks": ""
           }
          },
          "colorscale": {
           "diverging": [
            [
             0,
             "#8e0152"
            ],
            [
             0.1,
             "#c51b7d"
            ],
            [
             0.2,
             "#de77ae"
            ],
            [
             0.3,
             "#f1b6da"
            ],
            [
             0.4,
             "#fde0ef"
            ],
            [
             0.5,
             "#f7f7f7"
            ],
            [
             0.6,
             "#e6f5d0"
            ],
            [
             0.7,
             "#b8e186"
            ],
            [
             0.8,
             "#7fbc41"
            ],
            [
             0.9,
             "#4d9221"
            ],
            [
             1,
             "#276419"
            ]
           ],
           "sequential": [
            [
             0,
             "#0d0887"
            ],
            [
             0.1111111111111111,
             "#46039f"
            ],
            [
             0.2222222222222222,
             "#7201a8"
            ],
            [
             0.3333333333333333,
             "#9c179e"
            ],
            [
             0.4444444444444444,
             "#bd3786"
            ],
            [
             0.5555555555555556,
             "#d8576b"
            ],
            [
             0.6666666666666666,
             "#ed7953"
            ],
            [
             0.7777777777777778,
             "#fb9f3a"
            ],
            [
             0.8888888888888888,
             "#fdca26"
            ],
            [
             1,
             "#f0f921"
            ]
           ],
           "sequentialminus": [
            [
             0,
             "#0d0887"
            ],
            [
             0.1111111111111111,
             "#46039f"
            ],
            [
             0.2222222222222222,
             "#7201a8"
            ],
            [
             0.3333333333333333,
             "#9c179e"
            ],
            [
             0.4444444444444444,
             "#bd3786"
            ],
            [
             0.5555555555555556,
             "#d8576b"
            ],
            [
             0.6666666666666666,
             "#ed7953"
            ],
            [
             0.7777777777777778,
             "#fb9f3a"
            ],
            [
             0.8888888888888888,
             "#fdca26"
            ],
            [
             1,
             "#f0f921"
            ]
           ]
          },
          "colorway": [
           "#636efa",
           "#EF553B",
           "#00cc96",
           "#ab63fa",
           "#FFA15A",
           "#19d3f3",
           "#FF6692",
           "#B6E880",
           "#FF97FF",
           "#FECB52"
          ],
          "font": {
           "color": "#2a3f5f"
          },
          "geo": {
           "bgcolor": "white",
           "lakecolor": "white",
           "landcolor": "#E5ECF6",
           "showlakes": true,
           "showland": true,
           "subunitcolor": "white"
          },
          "hoverlabel": {
           "align": "left"
          },
          "hovermode": "closest",
          "mapbox": {
           "style": "light"
          },
          "paper_bgcolor": "white",
          "plot_bgcolor": "#E5ECF6",
          "polar": {
           "angularaxis": {
            "gridcolor": "white",
            "linecolor": "white",
            "ticks": ""
           },
           "bgcolor": "#E5ECF6",
           "radialaxis": {
            "gridcolor": "white",
            "linecolor": "white",
            "ticks": ""
           }
          },
          "scene": {
           "xaxis": {
            "backgroundcolor": "#E5ECF6",
            "gridcolor": "white",
            "gridwidth": 2,
            "linecolor": "white",
            "showbackground": true,
            "ticks": "",
            "zerolinecolor": "white"
           },
           "yaxis": {
            "backgroundcolor": "#E5ECF6",
            "gridcolor": "white",
            "gridwidth": 2,
            "linecolor": "white",
            "showbackground": true,
            "ticks": "",
            "zerolinecolor": "white"
           },
           "zaxis": {
            "backgroundcolor": "#E5ECF6",
            "gridcolor": "white",
            "gridwidth": 2,
            "linecolor": "white",
            "showbackground": true,
            "ticks": "",
            "zerolinecolor": "white"
           }
          },
          "shapedefaults": {
           "line": {
            "color": "#2a3f5f"
           }
          },
          "ternary": {
           "aaxis": {
            "gridcolor": "white",
            "linecolor": "white",
            "ticks": ""
           },
           "baxis": {
            "gridcolor": "white",
            "linecolor": "white",
            "ticks": ""
           },
           "bgcolor": "#E5ECF6",
           "caxis": {
            "gridcolor": "white",
            "linecolor": "white",
            "ticks": ""
           }
          },
          "title": {
           "x": 0.05
          },
          "xaxis": {
           "automargin": true,
           "gridcolor": "white",
           "linecolor": "white",
           "ticks": "",
           "title": {
            "standoff": 15
           },
           "zerolinecolor": "white",
           "zerolinewidth": 2
          },
          "yaxis": {
           "automargin": true,
           "gridcolor": "white",
           "linecolor": "white",
           "ticks": "",
           "title": {
            "standoff": 15
           },
           "zerolinecolor": "white",
           "zerolinewidth": 2
          }
         }
        },
        "title": {
         "text": "National and Regional Consumer Prices 2012-2022"
        },
        "width": 1300,
        "xaxis": {
         "anchor": "y",
         "autorange": true,
         "domain": [
          0,
          1
         ],
         "range": [
          "2012-01-01",
          "2022-09-01"
         ],
         "title": {
          "text": "Date"
         },
         "type": "date"
        },
        "yaxis": {
         "anchor": "x",
         "autorange": true,
         "domain": [
          0,
          1
         ],
         "range": [
          210.88322222222223,
          320.57877777777776
         ],
         "title": {
          "text": "Price in USD"
         },
         "type": "linear"
        }
       }
      },
      "image/png": "[encoded data removed]",
      "text/html": [
       "<div>                            <div id=\"6f1774db-4f4f-4bfc-a9c5-a14603280499\" class=\"plotly-graph-div\" style=\"height:600px; width:1300px;\"></div>            <script type=\"text/javascript\">                require([\"plotly\"], function(Plotly) {                    window.PLOTLYENV=window.PLOTLYENV || {};                                    if (document.getElementById(\"6f1774db-4f4f-4bfc-a9c5-a14603280499\")) {                    Plotly.newPlot(                        \"6f1774db-4f4f-4bfc-a9c5-a14603280499\",                        [{\"hovertemplate\":\"Region/National=National<br>Date=%{x}<br>Price in USD=%{y}<extra></extra>\",\"legendgroup\":\"National\",\"line\":{\"color\":\"black\",\"dash\":\"solid\"},\"marker\":{\"symbol\":\"circle\"},\"mode\":\"lines\",\"name\":\"National\",\"orientation\":\"v\",\"showlegend\":true,\"x\":[\"2012-01-01T00:00:00\",\"2012-02-01T00:00:00\",\"2012-03-01T00:00:00\",\"2012-04-01T00:00:00\",\"2012-05-01T00:00:00\",\"2012-06-01T00:00:00\",\"2012-07-01T00:00:00\",\"2012-08-01T00:00:00\",\"2012-09-01T00:00:00\",\"2012-10-01T00:00:00\",\"2012-11-01T00:00:00\",\"2012-12-01T00:00:00\",\"2013-01-01T00:00:00\",\"2013-02-01T00:00:00\",\"2013-03-01T00:00:00\",\"2013-04-01T00:00:00\",\"2013-05-01T00:00:00\",\"2013-06-01T00:00:00\",\"2013-07-01T00:00:00\",\"2013-08-01T00:00:00\",\"2013-09-01T00:00:00\",\"2013-10-01T00:00:00\",\"2013-11-01T00:00:00\",\"2013-12-01T00:00:00\",\"2014-01-01T00:00:00\",\"2014-02-01T00:00:00\",\"2014-03-01T00:00:00\",\"2014-04-01T00:00:00\",\"2014-05-01T00:00:00\",\"2014-06-01T00:00:00\",\"2014-07-01T00:00:00\",\"2014-08-01T00:00:00\",\"2014-09-01T00:00:00\",\"2014-10-01T00:00:00\",\"2014-11-01T00:00:00\",\"2014-12-01T00:00:00\",\"2015-01-01T00:00:00\",\"2015-02-01T00:00:00\",\"2015-03-01T00:00:00\",\"2015-04-01T00:00:00\",\"2015-05-01T00:00:00\",\"2015-06-01T00:00:00\",\"2015-07-01T00:00:00\",\"2015-08-01T00:00:00\",\"2015-09-01T00:00:00\",\"2015-10-01T00:00:00\",\"2015-11-01T00:00:00\",\"2015-12-01T00:00:00\",\"2016-01-01T00:00:00\",\"2016-02-01T00:00:00\",\"2016-03-01T00:00:00\",\"2016-04-01T00:00:00\",\"2016-05-01T00:00:00\",\"2016-06-01T00:00:00\",\"2016-07-01T00:00:00\",\"2016-08-01T00:00:00\",\"2016-09-01T00:00:00\",\"2016-10-01T00:00:00\",\"2016-11-01T00:00:00\",\"2016-12-01T00:00:00\",\"2017-01-01T00:00:00\",\"2017-02-01T00:00:00\",\"2017-03-01T00:00:00\",\"2017-04-01T00:00:00\",\"2017-05-01T00:00:00\",\"2017-06-01T00:00:00\",\"2017-07-01T00:00:00\",\"2017-08-01T00:00:00\",\"2017-09-01T00:00:00\",\"2017-10-01T00:00:00\",\"2017-11-01T00:00:00\",\"2017-12-01T00:00:00\",\"2018-01-01T00:00:00\",\"2018-02-01T00:00:00\",\"2018-03-01T00:00:00\",\"2018-04-01T00:00:00\",\"2018-05-01T00:00:00\",\"2018-06-01T00:00:00\",\"2018-07-01T00:00:00\",\"2018-08-01T00:00:00\",\"2018-09-01T00:00:00\",\"2018-10-01T00:00:00\",\"2018-11-01T00:00:00\",\"2018-12-01T00:00:00\",\"2019-01-01T00:00:00\",\"2019-02-01T00:00:00\",\"2019-03-01T00:00:00\",\"2019-04-01T00:00:00\",\"2019-05-01T00:00:00\",\"2019-06-01T00:00:00\",\"2019-07-01T00:00:00\",\"2019-08-01T00:00:00\",\"2019-09-01T00:00:00\",\"2019-10-01T00:00:00\",\"2019-11-01T00:00:00\",\"2019-12-01T00:00:00\",\"2020-01-01T00:00:00\",\"2020-02-01T00:00:00\",\"2020-03-01T00:00:00\",\"2020-04-01T00:00:00\",\"2020-05-01T00:00:00\",\"2020-06-01T00:00:00\",\"2020-07-01T00:00:00\",\"2020-08-01T00:00:00\",\"2020-09-01T00:00:00\",\"2020-10-01T00:00:00\",\"2020-11-01T00:00:00\",\"2020-12-01T00:00:00\",\"2021-01-01T00:00:00\",\"2021-02-01T00:00:00\",\"2021-03-01T00:00:00\",\"2021-04-01T00:00:00\",\"2021-05-01T00:00:00\",\"2021-06-01T00:00:00\",\"2021-07-01T00:00:00\",\"2021-08-01T00:00:00\",\"2021-09-01T00:00:00\",\"2021-10-01T00:00:00\",\"2021-11-01T00:00:00\",\"2021-12-01T00:00:00\",\"2022-01-01T00:00:00\",\"2022-02-01T00:00:00\",\"2022-03-01T00:00:00\",\"2022-04-01T00:00:00\",\"2022-05-01T00:00:00\",\"2022-06-01T00:00:00\",\"2022-07-01T00:00:00\",\"2022-08-01T00:00:00\",\"2022-09-01T00:00:00\"],\"xaxis\":\"x\",\"y\":[226.665,227.663,229.392,230.085,229.815,229.478,229.104,230.379,231.407,231.317,230.221,229.601,230.28,232.166,232.773,232.531,232.945,233.504,233.596,233.877,234.149,233.546,233.069,233.049,233.916,234.781,236.293,237.072,237.9,238.343,238.25,237.852,238.031,237.433,236.151,234.812,233.707,234.722,236.119,236.599,237.805,238.638,238.654,238.316,237.945,237.838,237.336,236.525,236.916,237.111,238.132,239.261,240.229,241.018,240.628,240.849,241.428,241.729,241.353,241.432,242.839,243.603,243.801,244.524,244.733,244.955,244.786,245.519,246.819,246.663,246.669,246.524,247.867,248.991,249.554,250.546,251.588,251.989,252.006,252.146,252.439,252.885,252.038,251.233,251.712,252.776,254.202,255.548,256.092,256.143,256.571,256.558,256.759,257.346,257.208,256.974,257.971,258.678,258.115,256.389,256.394,257.797,259.101,259.918,260.28,260.388,260.229,260.474,261.582,263.014,264.877,267.054,269.195,271.696,273.003,273.567,274.31,276.589,277.948,278.802,281.148,283.716,287.504,289.109,292.296,296.311,296.276,296.171,296.808],\"yaxis\":\"y\",\"type\":\"scatter\"},{\"hovertemplate\":\"Region/National=Midwest<br>Date=%{x}<br>Price in USD=%{y}<extra></extra>\",\"legendgroup\":\"Midwest\",\"line\":{\"color\":\"red\",\"dash\":\"solid\"},\"marker\":{\"symbol\":\"circle\"},\"mode\":\"lines\",\"name\":\"Midwest\",\"orientation\":\"v\",\"showlegend\":true,\"x\":[\"2012-01-01T00:00:00\",\"2012-02-01T00:00:00\",\"2012-03-01T00:00:00\",\"2012-04-01T00:00:00\",\"2012-05-01T00:00:00\",\"2012-06-01T00:00:00\",\"2012-07-01T00:00:00\",\"2012-08-01T00:00:00\",\"2012-09-01T00:00:00\",\"2012-10-01T00:00:00\",\"2012-11-01T00:00:00\",\"2012-12-01T00:00:00\",\"2013-01-01T00:00:00\",\"2013-02-01T00:00:00\",\"2013-03-01T00:00:00\",\"2013-04-01T00:00:00\",\"2013-05-01T00:00:00\",\"2013-06-01T00:00:00\",\"2013-07-01T00:00:00\",\"2013-08-01T00:00:00\",\"2013-09-01T00:00:00\",\"2013-10-01T00:00:00\",\"2013-11-01T00:00:00\",\"2013-12-01T00:00:00\",\"2014-01-01T00:00:00\",\"2014-02-01T00:00:00\",\"2014-03-01T00:00:00\",\"2014-04-01T00:00:00\",\"2014-05-01T00:00:00\",\"2014-06-01T00:00:00\",\"2014-07-01T00:00:00\",\"2014-08-01T00:00:00\",\"2014-09-01T00:00:00\",\"2014-10-01T00:00:00\",\"2014-11-01T00:00:00\",\"2014-12-01T00:00:00\",\"2015-01-01T00:00:00\",\"2015-02-01T00:00:00\",\"2015-03-01T00:00:00\",\"2015-04-01T00:00:00\",\"2015-05-01T00:00:00\",\"2015-06-01T00:00:00\",\"2015-07-01T00:00:00\",\"2015-08-01T00:00:00\",\"2015-09-01T00:00:00\",\"2015-10-01T00:00:00\",\"2015-11-01T00:00:00\",\"2015-12-01T00:00:00\",\"2016-01-01T00:00:00\",\"2016-02-01T00:00:00\",\"2016-03-01T00:00:00\",\"2016-04-01T00:00:00\",\"2016-05-01T00:00:00\",\"2016-06-01T00:00:00\",\"2016-07-01T00:00:00\",\"2016-08-01T00:00:00\",\"2016-09-01T00:00:00\",\"2016-10-01T00:00:00\",\"2016-11-01T00:00:00\",\"2016-12-01T00:00:00\",\"2017-01-01T00:00:00\",\"2017-02-01T00:00:00\",\"2017-03-01T00:00:00\",\"2017-04-01T00:00:00\",\"2017-05-01T00:00:00\",\"2017-06-01T00:00:00\",\"2017-07-01T00:00:00\",\"2017-08-01T00:00:00\",\"2017-09-01T00:00:00\",\"2017-10-01T00:00:00\",\"2017-11-01T00:00:00\",\"2017-12-01T00:00:00\",\"2018-01-01T00:00:00\",\"2018-02-01T00:00:00\",\"2018-03-01T00:00:00\",\"2018-04-01T00:00:00\",\"2018-05-01T00:00:00\",\"2018-06-01T00:00:00\",\"2018-07-01T00:00:00\",\"2018-08-01T00:00:00\",\"2018-09-01T00:00:00\",\"2018-10-01T00:00:00\",\"2018-11-01T00:00:00\",\"2018-12-01T00:00:00\",\"2019-01-01T00:00:00\",\"2019-02-01T00:00:00\",\"2019-03-01T00:00:00\",\"2019-04-01T00:00:00\",\"2019-05-01T00:00:00\",\"2019-06-01T00:00:00\",\"2019-07-01T00:00:00\",\"2019-08-01T00:00:00\",\"2019-09-01T00:00:00\",\"2019-10-01T00:00:00\",\"2019-11-01T00:00:00\",\"2019-12-01T00:00:00\",\"2020-01-01T00:00:00\",\"2020-02-01T00:00:00\",\"2020-03-01T00:00:00\",\"2020-04-01T00:00:00\",\"2020-05-01T00:00:00\",\"2020-06-01T00:00:00\",\"2020-07-01T00:00:00\",\"2020-08-01T00:00:00\",\"2020-09-01T00:00:00\",\"2020-10-01T00:00:00\",\"2020-11-01T00:00:00\",\"2020-12-01T00:00:00\",\"2021-01-01T00:00:00\",\"2021-02-01T00:00:00\",\"2021-03-01T00:00:00\",\"2021-04-01T00:00:00\",\"2021-05-01T00:00:00\",\"2021-06-01T00:00:00\",\"2021-07-01T00:00:00\",\"2021-08-01T00:00:00\",\"2021-09-01T00:00:00\",\"2021-10-01T00:00:00\",\"2021-11-01T00:00:00\",\"2021-12-01T00:00:00\",\"2022-01-01T00:00:00\",\"2022-02-01T00:00:00\",\"2022-03-01T00:00:00\",\"2022-04-01T00:00:00\",\"2022-05-01T00:00:00\",\"2022-06-01T00:00:00\",\"2022-07-01T00:00:00\",\"2022-08-01T00:00:00\",\"2022-09-01T00:00:00\"],\"xaxis\":\"x\",\"y\":[216.368,216.855,218.975,219.405,219.145,219.017,218.956,220.462,221.125,220.375,219.483,219.033,219.282,221.599,222.121,221.931,223.049,223.775,222.902,223.046,223.252,222.171,221.718,221.194,222.247,223.493,225.485,226.214,226.565,227.588,226.997,226.587,226.913,225.793,224.396,222.821,221.545,222.301,223.55,223.797,224.732,225.946,225.853,225.83,225.184,225.05,224.009,222.722,223.301,223.196,224.621,225.609,226.476,227.835,226.786,227.097,227.636,227.358,226.673,226.794,228.279,228.633,228.824,229.682,229.705,229.78,229.82,230.443,231.03,230.66,231.084,230.548,232.028,232.512,232.931,233.913,235.065,235.455,235.346,235.276,235.524,235.68,234.292,233.458,233.837,235.444,236.793,237.51,238.219,238.288,238.76,238.786,238.847,239.243,238.85,238.734,239.69,240.421,239.163,236.474,237.291,239.259,240.43,241.362,241.878,241.74,241.316,241.453,242.552,244.477,246.246,248.169,250.582,253.042,254.671,255.142,255.709,257.793,258.911,259.609,261.657,263.988,267.312,268.639,272.673,277.072,276.525,275.875,276.549],\"yaxis\":\"y\",\"type\":\"scatter\"},{\"hovertemplate\":\"Region/National=Northeast<br>Date=%{x}<br>Price in USD=%{y}<extra></extra>\",\"legendgroup\":\"Northeast\",\"line\":{\"color\":\"blue\",\"dash\":\"solid\"},\"marker\":{\"symbol\":\"circle\"},\"mode\":\"lines\",\"name\":\"Northeast\",\"orientation\":\"v\",\"showlegend\":true,\"x\":[\"2012-01-01T00:00:00\",\"2012-02-01T00:00:00\",\"2012-03-01T00:00:00\",\"2012-04-01T00:00:00\",\"2012-05-01T00:00:00\",\"2012-06-01T00:00:00\",\"2012-07-01T00:00:00\",\"2012-08-01T00:00:00\",\"2012-09-01T00:00:00\",\"2012-10-01T00:00:00\",\"2012-11-01T00:00:00\",\"2012-12-01T00:00:00\",\"2013-01-01T00:00:00\",\"2013-02-01T00:00:00\",\"2013-03-01T00:00:00\",\"2013-04-01T00:00:00\",\"2013-05-01T00:00:00\",\"2013-06-01T00:00:00\",\"2013-07-01T00:00:00\",\"2013-08-01T00:00:00\",\"2013-09-01T00:00:00\",\"2013-10-01T00:00:00\",\"2013-11-01T00:00:00\",\"2013-12-01T00:00:00\",\"2014-01-01T00:00:00\",\"2014-02-01T00:00:00\",\"2014-03-01T00:00:00\",\"2014-04-01T00:00:00\",\"2014-05-01T00:00:00\",\"2014-06-01T00:00:00\",\"2014-07-01T00:00:00\",\"2014-08-01T00:00:00\",\"2014-09-01T00:00:00\",\"2014-10-01T00:00:00\",\"2014-11-01T00:00:00\",\"2014-12-01T00:00:00\",\"2015-01-01T00:00:00\",\"2015-02-01T00:00:00\",\"2015-03-01T00:00:00\",\"2015-04-01T00:00:00\",\"2015-05-01T00:00:00\",\"2015-06-01T00:00:00\",\"2015-07-01T00:00:00\",\"2015-08-01T00:00:00\",\"2015-09-01T00:00:00\",\"2015-10-01T00:00:00\",\"2015-11-01T00:00:00\",\"2015-12-01T00:00:00\",\"2016-01-01T00:00:00\",\"2016-02-01T00:00:00\",\"2016-03-01T00:00:00\",\"2016-04-01T00:00:00\",\"2016-05-01T00:00:00\",\"2016-06-01T00:00:00\",\"2016-07-01T00:00:00\",\"2016-08-01T00:00:00\",\"2016-09-01T00:00:00\",\"2016-10-01T00:00:00\",\"2016-11-01T00:00:00\",\"2016-12-01T00:00:00\",\"2017-01-01T00:00:00\",\"2017-02-01T00:00:00\",\"2017-03-01T00:00:00\",\"2017-04-01T00:00:00\",\"2017-05-01T00:00:00\",\"2017-06-01T00:00:00\",\"2017-07-01T00:00:00\",\"2017-08-01T00:00:00\",\"2017-09-01T00:00:00\",\"2017-10-01T00:00:00\",\"2017-11-01T00:00:00\",\"2017-12-01T00:00:00\",\"2018-01-01T00:00:00\",\"2018-02-01T00:00:00\",\"2018-03-01T00:00:00\",\"2018-04-01T00:00:00\",\"2018-05-01T00:00:00\",\"2018-06-01T00:00:00\",\"2018-07-01T00:00:00\",\"2018-08-01T00:00:00\",\"2018-09-01T00:00:00\",\"2018-10-01T00:00:00\",\"2018-11-01T00:00:00\",\"2018-12-01T00:00:00\",\"2019-01-01T00:00:00\",\"2019-02-01T00:00:00\",\"2019-03-01T00:00:00\",\"2019-04-01T00:00:00\",\"2019-05-01T00:00:00\",\"2019-06-01T00:00:00\",\"2019-07-01T00:00:00\",\"2019-08-01T00:00:00\",\"2019-09-01T00:00:00\",\"2019-10-01T00:00:00\",\"2019-11-01T00:00:00\",\"2019-12-01T00:00:00\",\"2020-01-01T00:00:00\",\"2020-02-01T00:00:00\",\"2020-03-01T00:00:00\",\"2020-04-01T00:00:00\",\"2020-05-01T00:00:00\",\"2020-06-01T00:00:00\",\"2020-07-01T00:00:00\",\"2020-08-01T00:00:00\",\"2020-09-01T00:00:00\",\"2020-10-01T00:00:00\",\"2020-11-01T00:00:00\",\"2020-12-01T00:00:00\",\"2021-01-01T00:00:00\",\"2021-02-01T00:00:00\",\"2021-03-01T00:00:00\",\"2021-04-01T00:00:00\",\"2021-05-01T00:00:00\",\"2021-06-01T00:00:00\",\"2021-07-01T00:00:00\",\"2021-08-01T00:00:00\",\"2021-09-01T00:00:00\",\"2021-10-01T00:00:00\",\"2021-11-01T00:00:00\",\"2021-12-01T00:00:00\",\"2022-01-01T00:00:00\",\"2022-02-01T00:00:00\",\"2022-03-01T00:00:00\",\"2022-04-01T00:00:00\",\"2022-05-01T00:00:00\",\"2022-06-01T00:00:00\",\"2022-07-01T00:00:00\",\"2022-08-01T00:00:00\",\"2022-09-01T00:00:00\"],\"xaxis\":\"x\",\"y\":[242.879,243.85,245.125,245.85,245.709,245.201,244.984,246.252,247.409,247.564,247.097,246.456,247.277,248.665,248.719,248.464,248.584,248.851,249.411,249.858,250.231,249.32,249.503,249.567,251.045,251.233,252.413,252.506,253.598,253.555,253.833,253.185,253.154,252.73,251.781,250.519,250.016,250.619,251.451,251.76,252.77,253.626,253.405,252.903,252.922,252.504,252.573,251.67,251.739,252.25,252.854,254.27,255.023,255.471,255.386,255.545,256.085,256.605,256.541,256.427,258.073,258.768,258.51,259.165,259.386,259.335,258.833,259.508,260.875,260.58,260.63,260.791,262.188,263.26,263.556,264.669,265.84,265.95,265.83,266.425,266.709,266.464,265.487,265.286,266.109,266.706,268.025,269.07,269.744,270.133,270.381,270.548,270.563,270.348,270.643,270.429,272.316,273.08,272.531,271.325,271.345,272.283,273.347,273.597,273.925,273.374,273.543,274.225,275.427,276.473,278.197,280.234,281.858,284.741,285.22,285.63,286.423,288.236,289.835,290.405,292.644,294.605,298.403,300.325,302.939,306.453,305.916,306.855,307.152],\"yaxis\":\"y\",\"type\":\"scatter\"},{\"hovertemplate\":\"Region/National=South<br>Date=%{x}<br>Price in USD=%{y}<extra></extra>\",\"legendgroup\":\"South\",\"line\":{\"color\":\"green\",\"dash\":\"solid\"},\"marker\":{\"symbol\":\"circle\"},\"mode\":\"lines\",\"name\":\"South\",\"orientation\":\"v\",\"showlegend\":true,\"x\":[\"2012-01-01T00:00:00\",\"2012-02-01T00:00:00\",\"2012-03-01T00:00:00\",\"2012-04-01T00:00:00\",\"2012-05-01T00:00:00\",\"2012-06-01T00:00:00\",\"2012-07-01T00:00:00\",\"2012-08-01T00:00:00\",\"2012-09-01T00:00:00\",\"2012-10-01T00:00:00\",\"2012-11-01T00:00:00\",\"2012-12-01T00:00:00\",\"2013-01-01T00:00:00\",\"2013-02-01T00:00:00\",\"2013-03-01T00:00:00\",\"2013-04-01T00:00:00\",\"2013-05-01T00:00:00\",\"2013-06-01T00:00:00\",\"2013-07-01T00:00:00\",\"2013-08-01T00:00:00\",\"2013-09-01T00:00:00\",\"2013-10-01T00:00:00\",\"2013-11-01T00:00:00\",\"2013-12-01T00:00:00\",\"2014-01-01T00:00:00\",\"2014-02-01T00:00:00\",\"2014-03-01T00:00:00\",\"2014-04-01T00:00:00\",\"2014-05-01T00:00:00\",\"2014-06-01T00:00:00\",\"2014-07-01T00:00:00\",\"2014-08-01T00:00:00\",\"2014-09-01T00:00:00\",\"2014-10-01T00:00:00\",\"2014-11-01T00:00:00\",\"2014-12-01T00:00:00\",\"2015-01-01T00:00:00\",\"2015-02-01T00:00:00\",\"2015-03-01T00:00:00\",\"2015-04-01T00:00:00\",\"2015-05-01T00:00:00\",\"2015-06-01T00:00:00\",\"2015-07-01T00:00:00\",\"2015-08-01T00:00:00\",\"2015-09-01T00:00:00\",\"2015-10-01T00:00:00\",\"2015-11-01T00:00:00\",\"2015-12-01T00:00:00\",\"2016-01-01T00:00:00\",\"2016-02-01T00:00:00\",\"2016-03-01T00:00:00\",\"2016-04-01T00:00:00\",\"2016-05-01T00:00:00\",\"2016-06-01T00:00:00\",\"2016-07-01T00:00:00\",\"2016-08-01T00:00:00\",\"2016-09-01T00:00:00\",\"2016-10-01T00:00:00\",\"2016-11-01T00:00:00\",\"2016-12-01T00:00:00\",\"2017-01-01T00:00:00\",\"2017-02-01T00:00:00\",\"2017-03-01T00:00:00\",\"2017-04-01T00:00:00\",\"2017-05-01T00:00:00\",\"2017-06-01T00:00:00\",\"2017-07-01T00:00:00\",\"2017-08-01T00:00:00\",\"2017-09-01T00:00:00\",\"2017-10-01T00:00:00\",\"2017-11-01T00:00:00\",\"2017-12-01T00:00:00\",\"2018-01-01T00:00:00\",\"2018-02-01T00:00:00\",\"2018-03-01T00:00:00\",\"2018-04-01T00:00:00\",\"2018-05-01T00:00:00\",\"2018-06-01T00:00:00\",\"2018-07-01T00:00:00\",\"2018-08-01T00:00:00\",\"2018-09-01T00:00:00\",\"2018-10-01T00:00:00\",\"2018-11-01T00:00:00\",\"2018-12-01T00:00:00\",\"2019-01-01T00:00:00\",\"2019-02-01T00:00:00\",\"2019-03-01T00:00:00\",\"2019-04-01T00:00:00\",\"2019-05-01T00:00:00\",\"2019-06-01T00:00:00\",\"2019-07-01T00:00:00\",\"2019-08-01T00:00:00\",\"2019-09-01T00:00:00\",\"2019-10-01T00:00:00\",\"2019-11-01T00:00:00\",\"2019-12-01T00:00:00\",\"2020-01-01T00:00:00\",\"2020-02-01T00:00:00\",\"2020-03-01T00:00:00\",\"2020-04-01T00:00:00\",\"2020-05-01T00:00:00\",\"2020-06-01T00:00:00\",\"2020-07-01T00:00:00\",\"2020-08-01T00:00:00\",\"2020-09-01T00:00:00\",\"2020-10-01T00:00:00\",\"2020-11-01T00:00:00\",\"2020-12-01T00:00:00\",\"2021-01-01T00:00:00\",\"2021-02-01T00:00:00\",\"2021-03-01T00:00:00\",\"2021-04-01T00:00:00\",\"2021-05-01T00:00:00\",\"2021-06-01T00:00:00\",\"2021-07-01T00:00:00\",\"2021-08-01T00:00:00\",\"2021-09-01T00:00:00\",\"2021-10-01T00:00:00\",\"2021-11-01T00:00:00\",\"2021-12-01T00:00:00\",\"2022-01-01T00:00:00\",\"2022-02-01T00:00:00\",\"2022-03-01T00:00:00\",\"2022-04-01T00:00:00\",\"2022-05-01T00:00:00\",\"2022-06-01T00:00:00\",\"2022-07-01T00:00:00\",\"2022-08-01T00:00:00\",\"2022-09-01T00:00:00\"],\"xaxis\":\"x\",\"y\":[220.497,221.802,223.314,224.275,223.356,223.004,222.667,223.919,225.052,224.504,223.404,223.109,223.933,225.874,226.628,226.202,226.289,227.148,227.548,227.837,227.876,227.42,226.811,227.082,227.673,228.664,230.095,231.346,231.762,232.269,232.013,231.611,231.762,231.131,229.845,228.451,226.855,227.944,229.337,229.957,230.886,232.026,231.719,231.26,230.913,230.86,230.422,229.581,229.469,229.646,230.977,231.975,232.906,233.838,233.292,233.561,234.069,234.337,234.029,234.204,235.492,236.052,236.154,236.728,236.774,237.346,236.942,237.892,239.649,239.067,238.861,238.512,239.772,241.123,241.595,242.486,243.279,243.77,243.776,243.605,243.64,244.163,243.484,242.15,242.547,243.856,245.554,246.847,246.667,246.515,247.25,246.953,246.891,247.423,247.385,247.289,248.005,248.412,248.136,246.254,245.696,247.223,248.619,249.639,250.193,250.542,250.255,250.693,252.067,253.386,255.319,257.207,259.343,261.668,263.013,263.728,264.593,267.16,268.36,269.263,271.634,274.688,278.598,279.879,283.307,287.427,287.608,287.168,287.656],\"yaxis\":\"y\",\"type\":\"scatter\"},{\"hovertemplate\":\"Region/National=West<br>Date=%{x}<br>Price in USD=%{y}<extra></extra>\",\"legendgroup\":\"West\",\"line\":{\"color\":\"yellow\",\"dash\":\"solid\"},\"marker\":{\"symbol\":\"circle\"},\"mode\":\"lines\",\"name\":\"West\",\"orientation\":\"v\",\"showlegend\":true,\"x\":[\"2012-01-01T00:00:00\",\"2012-02-01T00:00:00\",\"2012-03-01T00:00:00\",\"2012-04-01T00:00:00\",\"2012-05-01T00:00:00\",\"2012-06-01T00:00:00\",\"2012-07-01T00:00:00\",\"2012-08-01T00:00:00\",\"2012-09-01T00:00:00\",\"2012-10-01T00:00:00\",\"2012-11-01T00:00:00\",\"2012-12-01T00:00:00\",\"2013-01-01T00:00:00\",\"2013-02-01T00:00:00\",\"2013-03-01T00:00:00\",\"2013-04-01T00:00:00\",\"2013-05-01T00:00:00\",\"2013-06-01T00:00:00\",\"2013-07-01T00:00:00\",\"2013-08-01T00:00:00\",\"2013-09-01T00:00:00\",\"2013-10-01T00:00:00\",\"2013-11-01T00:00:00\",\"2013-12-01T00:00:00\",\"2014-01-01T00:00:00\",\"2014-02-01T00:00:00\",\"2014-03-01T00:00:00\",\"2014-04-01T00:00:00\",\"2014-05-01T00:00:00\",\"2014-06-01T00:00:00\",\"2014-07-01T00:00:00\",\"2014-08-01T00:00:00\",\"2014-09-01T00:00:00\",\"2014-10-01T00:00:00\",\"2014-11-01T00:00:00\",\"2014-12-01T00:00:00\",\"2015-01-01T00:00:00\",\"2015-02-01T00:00:00\",\"2015-03-01T00:00:00\",\"2015-04-01T00:00:00\",\"2015-05-01T00:00:00\",\"2015-06-01T00:00:00\",\"2015-07-01T00:00:00\",\"2015-08-01T00:00:00\",\"2015-09-01T00:00:00\",\"2015-10-01T00:00:00\",\"2015-11-01T00:00:00\",\"2015-12-01T00:00:00\",\"2016-01-01T00:00:00\",\"2016-02-01T00:00:00\",\"2016-03-01T00:00:00\",\"2016-04-01T00:00:00\",\"2016-05-01T00:00:00\",\"2016-06-01T00:00:00\",\"2016-07-01T00:00:00\",\"2016-08-01T00:00:00\",\"2016-09-01T00:00:00\",\"2016-10-01T00:00:00\",\"2016-11-01T00:00:00\",\"2016-12-01T00:00:00\",\"2017-01-01T00:00:00\",\"2017-02-01T00:00:00\",\"2017-03-01T00:00:00\",\"2017-04-01T00:00:00\",\"2017-05-01T00:00:00\",\"2017-06-01T00:00:00\",\"2017-07-01T00:00:00\",\"2017-08-01T00:00:00\",\"2017-09-01T00:00:00\",\"2017-10-01T00:00:00\",\"2017-11-01T00:00:00\",\"2017-12-01T00:00:00\",\"2018-01-01T00:00:00\",\"2018-02-01T00:00:00\",\"2018-03-01T00:00:00\",\"2018-04-01T00:00:00\",\"2018-05-01T00:00:00\",\"2018-06-01T00:00:00\",\"2018-07-01T00:00:00\",\"2018-08-01T00:00:00\",\"2018-09-01T00:00:00\",\"2018-10-01T00:00:00\",\"2018-11-01T00:00:00\",\"2018-12-01T00:00:00\",\"2019-01-01T00:00:00\",\"2019-02-01T00:00:00\",\"2019-03-01T00:00:00\",\"2019-04-01T00:00:00\",\"2019-05-01T00:00:00\",\"2019-06-01T00:00:00\",\"2019-07-01T00:00:00\",\"2019-08-01T00:00:00\",\"2019-09-01T00:00:00\",\"2019-10-01T00:00:00\",\"2019-11-01T00:00:00\",\"2019-12-01T00:00:00\",\"2020-01-01T00:00:00\",\"2020-02-01T00:00:00\",\"2020-03-01T00:00:00\",\"2020-04-01T00:00:00\",\"2020-05-01T00:00:00\",\"2020-06-01T00:00:00\",\"2020-07-01T00:00:00\",\"2020-08-01T00:00:00\",\"2020-09-01T00:00:00\",\"2020-10-01T00:00:00\",\"2020-11-01T00:00:00\",\"2020-12-01T00:00:00\",\"2021-01-01T00:00:00\",\"2021-02-01T00:00:00\",\"2021-03-01T00:00:00\",\"2021-04-01T00:00:00\",\"2021-05-01T00:00:00\",\"2021-06-01T00:00:00\",\"2021-07-01T00:00:00\",\"2021-08-01T00:00:00\",\"2021-09-01T00:00:00\",\"2021-10-01T00:00:00\",\"2021-11-01T00:00:00\",\"2021-12-01T00:00:00\",\"2022-01-01T00:00:00\",\"2022-02-01T00:00:00\",\"2022-03-01T00:00:00\",\"2022-04-01T00:00:00\",\"2022-05-01T00:00:00\",\"2022-06-01T00:00:00\",\"2022-07-01T00:00:00\",\"2022-08-01T00:00:00\",\"2022-09-01T00:00:00\"],\"xaxis\":\"x\",\"y\":[228.98,229.995,232.039,232.561,233.053,232.701,231.893,233.001,234.083,234.966,233.206,232.029,232.759,234.595,235.511,235.488,235.979,236.227,236.341,236.591,237.146,237.0,236.153,236.096,236.707,237.614,239.092,239.808,241.35,241.616,241.85,241.66,241.92,241.65,240.22,239.095,238.318,239.748,241.69,242.302,244.227,244.332,245.04,244.737,244.257,244.341,243.749,243.434,244.6,244.821,245.404,246.589,247.855,248.228,248.375,248.498,249.234,249.897,249.448,249.516,250.814,252.252,252.949,253.806,254.38,254.469,254.708,255.282,256.504,257.223,257.126,257.347,258.638,259.986,260.994,262.037,263.24,263.732,263.971,264.395,265.105,266.195,265.658,265.209,265.624,266.215,267.37,269.522,270.88,270.957,271.029,271.264,272.102,273.524,273.128,272.584,273.34,274.412,273.995,272.913,273.062,274.155,275.597,276.443,276.422,276.876,276.875,276.593,277.238,278.702,280.625,283.507,285.793,288.263,289.863,290.393,291.053,293.397,294.986,296.102,298.705,301.158,305.082,307.145,309.645,313.496,313.951,314.013,315.094],\"yaxis\":\"y\",\"type\":\"scatter\"}],                        {\"template\":{\"data\":{\"histogram2dcontour\":[{\"type\":\"histogram2dcontour\",\"colorbar\":{\"outlinewidth\":0,\"ticks\":\"\"},\"colorscale\":[[0.0,\"#0d0887\"],[0.1111111111111111,\"#46039f\"],[0.2222222222222222,\"#7201a8\"],[0.3333333333333333,\"#9c179e\"],[0.4444444444444444,\"#bd3786\"],[0.5555555555555556,\"#d8576b\"],[0.6666666666666666,\"#ed7953\"],[0.7777777777777778,\"#fb9f3a\"],[0.8888888888888888,\"#fdca26\"],[1.0,\"#f0f921\"]]}],\"choropleth\":[{\"type\":\"choropleth\",\"colorbar\":{\"outlinewidth\":0,\"ticks\":\"\"}}],\"histogram2d\":[{\"type\":\"histogram2d\",\"colorbar\":{\"outlinewidth\":0,\"ticks\":\"\"},\"colorscale\":[[0.0,\"#0d0887\"],[0.1111111111111111,\"#46039f\"],[0.2222222222222222,\"#7201a8\"],[0.3333333333333333,\"#9c179e\"],[0.4444444444444444,\"#bd3786\"],[0.5555555555555556,\"#d8576b\"],[0.6666666666666666,\"#ed7953\"],[0.7777777777777778,\"#fb9f3a\"],[0.8888888888888888,\"#fdca26\"],[1.0,\"#f0f921\"]]}],\"heatmap\":[{\"type\":\"heatmap\",\"colorbar\":{\"outlinewidth\":0,\"ticks\":\"\"},\"colorscale\":[[0.0,\"#0d0887\"],[0.1111111111111111,\"#46039f\"],[0.2222222222222222,\"#7201a8\"],[0.3333333333333333,\"#9c179e\"],[0.4444444444444444,\"#bd3786\"],[0.5555555555555556,\"#d8576b\"],[0.6666666666666666,\"#ed7953\"],[0.7777777777777778,\"#fb9f3a\"],[0.8888888888888888,\"#fdca26\"],[1.0,\"#f0f921\"]]}],\"heatmapgl\":[{\"type\":\"heatmapgl\",\"colorbar\":{\"outlinewidth\":0,\"ticks\":\"\"},\"colorscale\":[[0.0,\"#0d0887\"],[0.1111111111111111,\"#46039f\"],[0.2222222222222222,\"#7201a8\"],[0.3333333333333333,\"#9c179e\"],[0.4444444444444444,\"#bd3786\"],[0.5555555555555556,\"#d8576b\"],[0.6666666666666666,\"#ed7953\"],[0.7777777777777778,\"#fb9f3a\"],[0.8888888888888888,\"#fdca26\"],[1.0,\"#f0f921\"]]}],\"contourcarpet\":[{\"type\":\"contourcarpet\",\"colorbar\":{\"outlinewidth\":0,\"ticks\":\"\"}}],\"contour\":[{\"type\":\"contour\",\"colorbar\":{\"outlinewidth\":0,\"ticks\":\"\"},\"colorscale\":[[0.0,\"#0d0887\"],[0.1111111111111111,\"#46039f\"],[0.2222222222222222,\"#7201a8\"],[0.3333333333333333,\"#9c179e\"],[0.4444444444444444,\"#bd3786\"],[0.5555555555555556,\"#d8576b\"],[0.6666666666666666,\"#ed7953\"],[0.7777777777777778,\"#fb9f3a\"],[0.8888888888888888,\"#fdca26\"],[1.0,\"#f0f921\"]]}],\"surface\":[{\"type\":\"surface\",\"colorbar\":{\"outlinewidth\":0,\"ticks\":\"\"},\"colorscale\":[[0.0,\"#0d0887\"],[0.1111111111111111,\"#46039f\"],[0.2222222222222222,\"#7201a8\"],[0.3333333333333333,\"#9c179e\"],[0.4444444444444444,\"#bd3786\"],[0.5555555555555556,\"#d8576b\"],[0.6666666666666666,\"#ed7953\"],[0.7777777777777778,\"#fb9f3a\"],[0.8888888888888888,\"#fdca26\"],[1.0,\"#f0f921\"]]}],\"mesh3d\":[{\"type\":\"mesh3d\",\"colorbar\":{\"outlinewidth\":0,\"ticks\":\"\"}}],\"scatter\":[{\"fillpattern\":{\"fillmode\":\"overlay\",\"size\":10,\"solidity\":0.2},\"type\":\"scatter\"}],\"parcoords\":[{\"type\":\"parcoords\",\"line\":{\"colorbar\":{\"outlinewidth\":0,\"ticks\":\"\"}}}],\"scatterpolargl\":[{\"type\":\"scatterpolargl\",\"marker\":{\"colorbar\":{\"outlinewidth\":0,\"ticks\":\"\"}}}],\"bar\":[{\"error_x\":{\"color\":\"#2a3f5f\"},\"error_y\":{\"color\":\"#2a3f5f\"},\"marker\":{\"line\":{\"color\":\"#E5ECF6\",\"width\":0.5},\"pattern\":{\"fillmode\":\"overlay\",\"size\":10,\"solidity\":0.2}},\"type\":\"bar\"}],\"scattergeo\":[{\"type\":\"scattergeo\",\"marker\":{\"colorbar\":{\"outlinewidth\":0,\"ticks\":\"\"}}}],\"scatterpolar\":[{\"type\":\"scatterpolar\",\"marker\":{\"colorbar\":{\"outlinewidth\":0,\"ticks\":\"\"}}}],\"histogram\":[{\"marker\":{\"pattern\":{\"fillmode\":\"overlay\",\"size\":10,\"solidity\":0.2}},\"type\":\"histogram\"}],\"scattergl\":[{\"type\":\"scattergl\",\"marker\":{\"colorbar\":{\"outlinewidth\":0,\"ticks\":\"\"}}}],\"scatter3d\":[{\"type\":\"scatter3d\",\"line\":{\"colorbar\":{\"outlinewidth\":0,\"ticks\":\"\"}},\"marker\":{\"colorbar\":{\"outlinewidth\":0,\"ticks\":\"\"}}}],\"scattermapbox\":[{\"type\":\"scattermapbox\",\"marker\":{\"colorbar\":{\"outlinewidth\":0,\"ticks\":\"\"}}}],\"scatterternary\":[{\"type\":\"scatterternary\",\"marker\":{\"colorbar\":{\"outlinewidth\":0,\"ticks\":\"\"}}}],\"scattercarpet\":[{\"type\":\"scattercarpet\",\"marker\":{\"colorbar\":{\"outlinewidth\":0,\"ticks\":\"\"}}}],\"carpet\":[{\"aaxis\":{\"endlinecolor\":\"#2a3f5f\",\"gridcolor\":\"white\",\"linecolor\":\"white\",\"minorgridcolor\":\"white\",\"startlinecolor\":\"#2a3f5f\"},\"baxis\":{\"endlinecolor\":\"#2a3f5f\",\"gridcolor\":\"white\",\"linecolor\":\"white\",\"minorgridcolor\":\"white\",\"startlinecolor\":\"#2a3f5f\"},\"type\":\"carpet\"}],\"table\":[{\"cells\":{\"fill\":{\"color\":\"#EBF0F8\"},\"line\":{\"color\":\"white\"}},\"header\":{\"fill\":{\"color\":\"#C8D4E3\"},\"line\":{\"color\":\"white\"}},\"type\":\"table\"}],\"barpolar\":[{\"marker\":{\"line\":{\"color\":\"#E5ECF6\",\"width\":0.5},\"pattern\":{\"fillmode\":\"overlay\",\"size\":10,\"solidity\":0.2}},\"type\":\"barpolar\"}],\"pie\":[{\"automargin\":true,\"type\":\"pie\"}]},\"layout\":{\"autotypenumbers\":\"strict\",\"colorway\":[\"#636efa\",\"#EF553B\",\"#00cc96\",\"#ab63fa\",\"#FFA15A\",\"#19d3f3\",\"#FF6692\",\"#B6E880\",\"#FF97FF\",\"#FECB52\"],\"font\":{\"color\":\"#2a3f5f\"},\"hovermode\":\"closest\",\"hoverlabel\":{\"align\":\"left\"},\"paper_bgcolor\":\"white\",\"plot_bgcolor\":\"#E5ECF6\",\"polar\":{\"bgcolor\":\"#E5ECF6\",\"angularaxis\":{\"gridcolor\":\"white\",\"linecolor\":\"white\",\"ticks\":\"\"},\"radialaxis\":{\"gridcolor\":\"white\",\"linecolor\":\"white\",\"ticks\":\"\"}},\"ternary\":{\"bgcolor\":\"#E5ECF6\",\"aaxis\":{\"gridcolor\":\"white\",\"linecolor\":\"white\",\"ticks\":\"\"},\"baxis\":{\"gridcolor\":\"white\",\"linecolor\":\"white\",\"ticks\":\"\"},\"caxis\":{\"gridcolor\":\"white\",\"linecolor\":\"white\",\"ticks\":\"\"}},\"coloraxis\":{\"colorbar\":{\"outlinewidth\":0,\"ticks\":\"\"}},\"colorscale\":{\"sequential\":[[0.0,\"#0d0887\"],[0.1111111111111111,\"#46039f\"],[0.2222222222222222,\"#7201a8\"],[0.3333333333333333,\"#9c179e\"],[0.4444444444444444,\"#bd3786\"],[0.5555555555555556,\"#d8576b\"],[0.6666666666666666,\"#ed7953\"],[0.7777777777777778,\"#fb9f3a\"],[0.8888888888888888,\"#fdca26\"],[1.0,\"#f0f921\"]],\"sequentialminus\":[[0.0,\"#0d0887\"],[0.1111111111111111,\"#46039f\"],[0.2222222222222222,\"#7201a8\"],[0.3333333333333333,\"#9c179e\"],[0.4444444444444444,\"#bd3786\"],[0.5555555555555556,\"#d8576b\"],[0.6666666666666666,\"#ed7953\"],[0.7777777777777778,\"#fb9f3a\"],[0.8888888888888888,\"#fdca26\"],[1.0,\"#f0f921\"]],\"diverging\":[[0,\"#8e0152\"],[0.1,\"#c51b7d\"],[0.2,\"#de77ae\"],[0.3,\"#f1b6da\"],[0.4,\"#fde0ef\"],[0.5,\"#f7f7f7\"],[0.6,\"#e6f5d0\"],[0.7,\"#b8e186\"],[0.8,\"#7fbc41\"],[0.9,\"#4d9221\"],[1,\"#276419\"]]},\"xaxis\":{\"gridcolor\":\"white\",\"linecolor\":\"white\",\"ticks\":\"\",\"title\":{\"standoff\":15},\"zerolinecolor\":\"white\",\"automargin\":true,\"zerolinewidth\":2},\"yaxis\":{\"gridcolor\":\"white\",\"linecolor\":\"white\",\"ticks\":\"\",\"title\":{\"standoff\":15},\"zerolinecolor\":\"white\",\"automargin\":true,\"zerolinewidth\":2},\"scene\":{\"xaxis\":{\"backgroundcolor\":\"#E5ECF6\",\"gridcolor\":\"white\",\"linecolor\":\"white\",\"showbackground\":true,\"ticks\":\"\",\"zerolinecolor\":\"white\",\"gridwidth\":2},\"yaxis\":{\"backgroundcolor\":\"#E5ECF6\",\"gridcolor\":\"white\",\"linecolor\":\"white\",\"showbackground\":true,\"ticks\":\"\",\"zerolinecolor\":\"white\",\"gridwidth\":2},\"zaxis\":{\"backgroundcolor\":\"#E5ECF6\",\"gridcolor\":\"white\",\"linecolor\":\"white\",\"showbackground\":true,\"ticks\":\"\",\"zerolinecolor\":\"white\",\"gridwidth\":2}},\"shapedefaults\":{\"line\":{\"color\":\"#2a3f5f\"}},\"annotationdefaults\":{\"arrowcolor\":\"#2a3f5f\",\"arrowhead\":0,\"arrowwidth\":1},\"geo\":{\"bgcolor\":\"white\",\"landcolor\":\"#E5ECF6\",\"subunitcolor\":\"white\",\"showland\":true,\"showlakes\":true,\"lakecolor\":\"white\"},\"title\":{\"x\":0.05},\"mapbox\":{\"style\":\"light\"}}},\"xaxis\":{\"anchor\":\"y\",\"domain\":[0.0,1.0],\"title\":{\"text\":\"Date\"}},\"yaxis\":{\"anchor\":\"x\",\"domain\":[0.0,1.0],\"title\":{\"text\":\"Price in USD\"}},\"legend\":{\"title\":{\"text\":\"Region/National\"},\"tracegroupgap\":0},\"title\":{\"text\":\"National and Regional Consumer Prices 2012-2022\"},\"height\":600,\"width\":1300},                        {\"responsive\": true}                    ).then(function(){\n",
       "                            \n",
       "var gd = document.getElementById('6f1774db-4f4f-4bfc-a9c5-a14603280499');\n",
       "var x = new MutationObserver(function (mutations, observer) {{\n",
       "        var display = window.getComputedStyle(gd).display;\n",
       "        if (!display || display === 'none') {{\n",
       "            console.log([gd, 'removed!']);\n",
       "            Plotly.purge(gd);\n",
       "            observer.disconnect();\n",
       "        }}\n",
       "}});\n",
       "\n",
       "// Listen for the removal of the full notebook cells\n",
       "var notebookContainer = gd.closest('#notebook-container');\n",
       "if (notebookContainer) {{\n",
       "    x.observe(notebookContainer, {childList: true});\n",
       "}}\n",
       "\n",
       "// Listen for the clearing of the current output cell\n",
       "var outputEl = gd.closest('.output');\n",
       "if (outputEl) {{\n",
       "    x.observe(outputEl, {childList: true});\n",
       "}}\n",
       "\n",
       "                        })                };                });            </script>        </div>"
      ]
     },
     "metadata": {},
     "output_type": "display_data"
    }
   ],
   "source": [
    "px.line(combined_df, \n",
    "        labels={'value': 'Price in USD', 'variable': 'Region/National'}, \n",
    "        title=\"National and Regional Consumer Prices 2012-2022\", color_discrete_sequence=['black','red','blue','green','yellow'],\n",
    "       width=1300, height=600)"
   ]
  },
  {
   "cell_type": "code",
   "execution_count": 79,
   "id": "28dc2cbf-f233-4367-aba4-e72fa056c4ff",
   "metadata": {},
   "outputs": [
    {
     "data": {
      "text/html": [
       "<div>\n",
       "<style scoped>\n",
       "    .dataframe tbody tr th:only-of-type {\n",
       "        vertical-align: middle;\n",
       "    }\n",
       "\n",
       "    .dataframe tbody tr th {\n",
       "        vertical-align: top;\n",
       "    }\n",
       "\n",
       "    .dataframe thead th {\n",
       "        text-align: right;\n",
       "    }\n",
       "</style>\n",
       "<table border=\"1\" class=\"dataframe\">\n",
       "  <thead>\n",
       "    <tr style=\"text-align: right;\">\n",
       "      <th></th>\n",
       "      <th>National</th>\n",
       "      <th>Midwest</th>\n",
       "      <th>Northeast</th>\n",
       "      <th>South</th>\n",
       "      <th>West</th>\n",
       "    </tr>\n",
       "  </thead>\n",
       "  <tbody>\n",
       "    <tr>\n",
       "      <th>National</th>\n",
       "      <td>1.000000</td>\n",
       "      <td>0.994282</td>\n",
       "      <td>0.999581</td>\n",
       "      <td>0.998443</td>\n",
       "      <td>0.994116</td>\n",
       "    </tr>\n",
       "    <tr>\n",
       "      <th>Midwest</th>\n",
       "      <td>0.994282</td>\n",
       "      <td>1.000000</td>\n",
       "      <td>0.993716</td>\n",
       "      <td>0.997840</td>\n",
       "      <td>0.977289</td>\n",
       "    </tr>\n",
       "    <tr>\n",
       "      <th>Northeast</th>\n",
       "      <td>0.999581</td>\n",
       "      <td>0.993716</td>\n",
       "      <td>1.000000</td>\n",
       "      <td>0.997695</td>\n",
       "      <td>0.993692</td>\n",
       "    </tr>\n",
       "    <tr>\n",
       "      <th>South</th>\n",
       "      <td>0.998443</td>\n",
       "      <td>0.997840</td>\n",
       "      <td>0.997695</td>\n",
       "      <td>1.000000</td>\n",
       "      <td>0.986850</td>\n",
       "    </tr>\n",
       "    <tr>\n",
       "      <th>West</th>\n",
       "      <td>0.994116</td>\n",
       "      <td>0.977289</td>\n",
       "      <td>0.993692</td>\n",
       "      <td>0.986850</td>\n",
       "      <td>1.000000</td>\n",
       "    </tr>\n",
       "  </tbody>\n",
       "</table>\n",
       "</div>"
      ],
      "text/plain": [
       "           National   Midwest  Northeast     South      West\n",
       "National   1.000000  0.994282   0.999581  0.998443  0.994116\n",
       "Midwest    0.994282  1.000000   0.993716  0.997840  0.977289\n",
       "Northeast  0.999581  0.993716   1.000000  0.997695  0.993692\n",
       "South      0.998443  0.997840   0.997695  1.000000  0.986850\n",
       "West       0.994116  0.977289   0.993692  0.986850  1.000000"
      ]
     },
     "execution_count": 79,
     "metadata": {},
     "output_type": "execute_result"
    }
   ],
   "source": [
    "combined_corr = combined_df.corr()\n",
    "combined_corr"
   ]
  },
  {
   "cell_type": "code",
   "execution_count": 285,
   "id": "3c7532ba-0c5f-4dae-b77d-f490c714f065",
   "metadata": {},
   "outputs": [
    {
     "data": {
      "image/png": "[encoded data removed]",
      "text/plain": [
       "<Figure size 1500x800 with 2 Axes>"
      ]
     },
     "metadata": {},
     "output_type": "display_data"
    }
   ],
   "source": [
    "plt.figure(figsize=(15,8),)\n",
    "plt.title(\"National,Regional Consumer Prices Correlation\", fontsize=15, fontweight='bold')\n",
    "sns.heatmap(combined_corr,\n",
    "            square=True,\n",
    "            linewidth=1,cmap='vlag',\n",
    "            mask=np.triu(np.ones_like(combined_corr, dtype=bool)));"
   ]
  },
  {
   "cell_type": "code",
   "execution_count": 80,
   "id": "952c08f1-d6d4-4ff0-817d-a3bedbdf6fa5",
   "metadata": {},
   "outputs": [],
   "source": [
    "# Need make Map visualization "
   ]
  },
  {
   "cell_type": "code",
   "execution_count": 81,
   "id": "d02a047f-d874-4e60-9008-30358a6051b1",
   "metadata": {},
   "outputs": [
    {
     "data": {
      "text/html": [
       "<div>\n",
       "<style scoped>\n",
       "    .dataframe tbody tr th:only-of-type {\n",
       "        vertical-align: middle;\n",
       "    }\n",
       "\n",
       "    .dataframe tbody tr th {\n",
       "        vertical-align: top;\n",
       "    }\n",
       "\n",
       "    .dataframe thead th {\n",
       "        text-align: right;\n",
       "    }\n",
       "</style>\n",
       "<table border=\"1\" class=\"dataframe\">\n",
       "  <thead>\n",
       "    <tr style=\"text-align: right;\">\n",
       "      <th></th>\n",
       "      <th>Midwest</th>\n",
       "      <th>Northeast</th>\n",
       "      <th>South</th>\n",
       "      <th>West</th>\n",
       "    </tr>\n",
       "    <tr>\n",
       "      <th>Date</th>\n",
       "      <th></th>\n",
       "      <th></th>\n",
       "      <th></th>\n",
       "      <th></th>\n",
       "    </tr>\n",
       "  </thead>\n",
       "  <tbody>\n",
       "    <tr>\n",
       "      <th>2022-05-01</th>\n",
       "      <td>0.015016</td>\n",
       "      <td>0.008704</td>\n",
       "      <td>0.012248</td>\n",
       "      <td>0.008139</td>\n",
       "    </tr>\n",
       "    <tr>\n",
       "      <th>2022-06-01</th>\n",
       "      <td>0.016133</td>\n",
       "      <td>0.011600</td>\n",
       "      <td>0.014543</td>\n",
       "      <td>0.012437</td>\n",
       "    </tr>\n",
       "    <tr>\n",
       "      <th>2022-07-01</th>\n",
       "      <td>-0.001974</td>\n",
       "      <td>-0.001752</td>\n",
       "      <td>0.000630</td>\n",
       "      <td>0.001451</td>\n",
       "    </tr>\n",
       "    <tr>\n",
       "      <th>2022-08-01</th>\n",
       "      <td>-0.002351</td>\n",
       "      <td>0.003069</td>\n",
       "      <td>-0.001530</td>\n",
       "      <td>0.000197</td>\n",
       "    </tr>\n",
       "    <tr>\n",
       "      <th>2022-09-01</th>\n",
       "      <td>0.002443</td>\n",
       "      <td>0.000968</td>\n",
       "      <td>0.001699</td>\n",
       "      <td>0.003443</td>\n",
       "    </tr>\n",
       "  </tbody>\n",
       "</table>\n",
       "</div>"
      ],
      "text/plain": [
       "             Midwest  Northeast     South      West\n",
       "Date                                               \n",
       "2022-05-01  0.015016   0.008704  0.012248  0.008139\n",
       "2022-06-01  0.016133   0.011600  0.014543  0.012437\n",
       "2022-07-01 -0.001974  -0.001752  0.000630  0.001451\n",
       "2022-08-01 -0.002351   0.003069 -0.001530  0.000197\n",
       "2022-09-01  0.002443   0.000968  0.001699  0.003443"
      ]
     },
     "execution_count": 81,
     "metadata": {},
     "output_type": "execute_result"
    }
   ],
   "source": [
    "#find percent change in each reagion per month\n",
    "all_regions_pct = all_regions_df.pct_change().dropna()\n",
    "all_regions_pct.tail()"
   ]
  },
  {
   "cell_type": "code",
   "execution_count": 82,
   "id": "a53e2c2d-4609-43e5-8d99-c9949ba23e00",
   "metadata": {},
   "outputs": [
    {
     "data": {
      "text/html": [
       "<div>\n",
       "<style scoped>\n",
       "    .dataframe tbody tr th:only-of-type {\n",
       "        vertical-align: middle;\n",
       "    }\n",
       "\n",
       "    .dataframe tbody tr th {\n",
       "        vertical-align: top;\n",
       "    }\n",
       "\n",
       "    .dataframe thead th {\n",
       "        text-align: right;\n",
       "    }\n",
       "</style>\n",
       "<table border=\"1\" class=\"dataframe\">\n",
       "  <thead>\n",
       "    <tr style=\"text-align: right;\">\n",
       "      <th></th>\n",
       "      <th>Midwest</th>\n",
       "      <th>Northeast</th>\n",
       "      <th>South</th>\n",
       "      <th>West</th>\n",
       "    </tr>\n",
       "    <tr>\n",
       "      <th>Date</th>\n",
       "      <th></th>\n",
       "      <th></th>\n",
       "      <th></th>\n",
       "      <th></th>\n",
       "    </tr>\n",
       "  </thead>\n",
       "  <tbody>\n",
       "    <tr>\n",
       "      <th>2012-02-01</th>\n",
       "      <td>0.002251</td>\n",
       "      <td>0.003998</td>\n",
       "      <td>0.005918</td>\n",
       "      <td>0.004433</td>\n",
       "    </tr>\n",
       "    <tr>\n",
       "      <th>2012-03-01</th>\n",
       "      <td>0.009776</td>\n",
       "      <td>0.005229</td>\n",
       "      <td>0.006817</td>\n",
       "      <td>0.008887</td>\n",
       "    </tr>\n",
       "    <tr>\n",
       "      <th>2012-04-01</th>\n",
       "      <td>0.001964</td>\n",
       "      <td>0.002958</td>\n",
       "      <td>0.004303</td>\n",
       "      <td>0.002250</td>\n",
       "    </tr>\n",
       "    <tr>\n",
       "      <th>2012-05-01</th>\n",
       "      <td>-0.001185</td>\n",
       "      <td>-0.000574</td>\n",
       "      <td>-0.004098</td>\n",
       "      <td>0.002116</td>\n",
       "    </tr>\n",
       "    <tr>\n",
       "      <th>2012-06-01</th>\n",
       "      <td>-0.000584</td>\n",
       "      <td>-0.002067</td>\n",
       "      <td>-0.001576</td>\n",
       "      <td>-0.001510</td>\n",
       "    </tr>\n",
       "  </tbody>\n",
       "</table>\n",
       "</div>"
      ],
      "text/plain": [
       "             Midwest  Northeast     South      West\n",
       "Date                                               \n",
       "2012-02-01  0.002251   0.003998  0.005918  0.004433\n",
       "2012-03-01  0.009776   0.005229  0.006817  0.008887\n",
       "2012-04-01  0.001964   0.002958  0.004303  0.002250\n",
       "2012-05-01 -0.001185  -0.000574 -0.004098  0.002116\n",
       "2012-06-01 -0.000584  -0.002067 -0.001576 -0.001510"
      ]
     },
     "metadata": {},
     "output_type": "display_data"
    },
    {
     "data": {
      "text/html": [
       "<div>\n",
       "<style scoped>\n",
       "    .dataframe tbody tr th:only-of-type {\n",
       "        vertical-align: middle;\n",
       "    }\n",
       "\n",
       "    .dataframe tbody tr th {\n",
       "        vertical-align: top;\n",
       "    }\n",
       "\n",
       "    .dataframe thead th {\n",
       "        text-align: right;\n",
       "    }\n",
       "</style>\n",
       "<table border=\"1\" class=\"dataframe\">\n",
       "  <thead>\n",
       "    <tr style=\"text-align: right;\">\n",
       "      <th></th>\n",
       "      <th>Midwest</th>\n",
       "      <th>Northeast</th>\n",
       "      <th>South</th>\n",
       "      <th>West</th>\n",
       "    </tr>\n",
       "    <tr>\n",
       "      <th>Date</th>\n",
       "      <th></th>\n",
       "      <th></th>\n",
       "      <th></th>\n",
       "      <th></th>\n",
       "    </tr>\n",
       "  </thead>\n",
       "  <tbody>\n",
       "    <tr>\n",
       "      <th>2020-01-01</th>\n",
       "      <td>0.004004</td>\n",
       "      <td>0.006978</td>\n",
       "      <td>0.002895</td>\n",
       "      <td>0.002773</td>\n",
       "    </tr>\n",
       "    <tr>\n",
       "      <th>2020-02-01</th>\n",
       "      <td>0.003050</td>\n",
       "      <td>0.002806</td>\n",
       "      <td>0.001641</td>\n",
       "      <td>0.003922</td>\n",
       "    </tr>\n",
       "    <tr>\n",
       "      <th>2020-03-01</th>\n",
       "      <td>-0.005232</td>\n",
       "      <td>-0.002010</td>\n",
       "      <td>-0.001111</td>\n",
       "      <td>-0.001520</td>\n",
       "    </tr>\n",
       "    <tr>\n",
       "      <th>2020-04-01</th>\n",
       "      <td>-0.011243</td>\n",
       "      <td>-0.004425</td>\n",
       "      <td>-0.007585</td>\n",
       "      <td>-0.003949</td>\n",
       "    </tr>\n",
       "    <tr>\n",
       "      <th>2020-05-01</th>\n",
       "      <td>0.003455</td>\n",
       "      <td>0.000074</td>\n",
       "      <td>-0.002266</td>\n",
       "      <td>0.000546</td>\n",
       "    </tr>\n",
       "  </tbody>\n",
       "</table>\n",
       "</div>"
      ],
      "text/plain": [
       "             Midwest  Northeast     South      West\n",
       "Date                                               \n",
       "2020-01-01  0.004004   0.006978  0.002895  0.002773\n",
       "2020-02-01  0.003050   0.002806  0.001641  0.003922\n",
       "2020-03-01 -0.005232  -0.002010 -0.001111 -0.001520\n",
       "2020-04-01 -0.011243  -0.004425 -0.007585 -0.003949\n",
       "2020-05-01  0.003455   0.000074 -0.002266  0.000546"
      ]
     },
     "metadata": {},
     "output_type": "display_data"
    }
   ],
   "source": [
    "# crate seperate dataframes for dates before and after January 2020\n",
    "all_regions_pct_b20 = all_regions_pct[:95]\n",
    "all_regions_pct_a20 = all_regions_pct[95:]\n",
    "\n",
    "display(all_regions_pct_b20.head())\n",
    "display(all_regions_pct_a20.head())"
   ]
  },
  {
   "cell_type": "code",
   "execution_count": 129,
   "id": "5475f3f5-c46a-4860-90a7-949e2859ddfd",
   "metadata": {},
   "outputs": [
    {
     "data": {
      "text/html": [
       "<div>\n",
       "<style scoped>\n",
       "    .dataframe tbody tr th:only-of-type {\n",
       "        vertical-align: middle;\n",
       "    }\n",
       "\n",
       "    .dataframe tbody tr th {\n",
       "        vertical-align: top;\n",
       "    }\n",
       "\n",
       "    .dataframe thead th {\n",
       "        text-align: right;\n",
       "    }\n",
       "</style>\n",
       "<table border=\"1\" class=\"dataframe\">\n",
       "  <thead>\n",
       "    <tr style=\"text-align: right;\">\n",
       "      <th></th>\n",
       "      <th>Midwest</th>\n",
       "      <th>Northeast</th>\n",
       "      <th>South</th>\n",
       "      <th>West</th>\n",
       "    </tr>\n",
       "    <tr>\n",
       "      <th>Date</th>\n",
       "      <th></th>\n",
       "      <th></th>\n",
       "      <th></th>\n",
       "      <th></th>\n",
       "    </tr>\n",
       "  </thead>\n",
       "  <tbody>\n",
       "    <tr>\n",
       "      <th>2012-02-01</th>\n",
       "      <td>0.002251</td>\n",
       "      <td>0.003998</td>\n",
       "      <td>0.005918</td>\n",
       "      <td>0.004433</td>\n",
       "    </tr>\n",
       "    <tr>\n",
       "      <th>2012-03-01</th>\n",
       "      <td>0.009776</td>\n",
       "      <td>0.005229</td>\n",
       "      <td>0.006817</td>\n",
       "      <td>0.008887</td>\n",
       "    </tr>\n",
       "    <tr>\n",
       "      <th>2012-04-01</th>\n",
       "      <td>0.001964</td>\n",
       "      <td>0.002958</td>\n",
       "      <td>0.004303</td>\n",
       "      <td>0.002250</td>\n",
       "    </tr>\n",
       "    <tr>\n",
       "      <th>2012-05-01</th>\n",
       "      <td>-0.001185</td>\n",
       "      <td>-0.000574</td>\n",
       "      <td>-0.004098</td>\n",
       "      <td>0.002116</td>\n",
       "    </tr>\n",
       "    <tr>\n",
       "      <th>2012-06-01</th>\n",
       "      <td>-0.000584</td>\n",
       "      <td>-0.002067</td>\n",
       "      <td>-0.001576</td>\n",
       "      <td>-0.001510</td>\n",
       "    </tr>\n",
       "    <tr>\n",
       "      <th>2012-07-01</th>\n",
       "      <td>-0.000279</td>\n",
       "      <td>-0.000885</td>\n",
       "      <td>-0.001511</td>\n",
       "      <td>-0.003472</td>\n",
       "    </tr>\n",
       "    <tr>\n",
       "      <th>2012-08-01</th>\n",
       "      <td>0.006878</td>\n",
       "      <td>0.005176</td>\n",
       "      <td>0.005623</td>\n",
       "      <td>0.004778</td>\n",
       "    </tr>\n",
       "    <tr>\n",
       "      <th>2012-09-01</th>\n",
       "      <td>0.003007</td>\n",
       "      <td>0.004698</td>\n",
       "      <td>0.005060</td>\n",
       "      <td>0.004644</td>\n",
       "    </tr>\n",
       "    <tr>\n",
       "      <th>2012-10-01</th>\n",
       "      <td>-0.003392</td>\n",
       "      <td>0.000626</td>\n",
       "      <td>-0.002435</td>\n",
       "      <td>0.003772</td>\n",
       "    </tr>\n",
       "    <tr>\n",
       "      <th>2012-11-01</th>\n",
       "      <td>-0.004048</td>\n",
       "      <td>-0.001886</td>\n",
       "      <td>-0.004900</td>\n",
       "      <td>-0.007490</td>\n",
       "    </tr>\n",
       "    <tr>\n",
       "      <th>2012-12-01</th>\n",
       "      <td>-0.002050</td>\n",
       "      <td>-0.002594</td>\n",
       "      <td>-0.001320</td>\n",
       "      <td>-0.005047</td>\n",
       "    </tr>\n",
       "    <tr>\n",
       "      <th>2013-01-01</th>\n",
       "      <td>0.001137</td>\n",
       "      <td>0.003331</td>\n",
       "      <td>0.003693</td>\n",
       "      <td>0.003146</td>\n",
       "    </tr>\n",
       "  </tbody>\n",
       "</table>\n",
       "</div>"
      ],
      "text/plain": [
       "             Midwest  Northeast     South      West\n",
       "Date                                               \n",
       "2012-02-01  0.002251   0.003998  0.005918  0.004433\n",
       "2012-03-01  0.009776   0.005229  0.006817  0.008887\n",
       "2012-04-01  0.001964   0.002958  0.004303  0.002250\n",
       "2012-05-01 -0.001185  -0.000574 -0.004098  0.002116\n",
       "2012-06-01 -0.000584  -0.002067 -0.001576 -0.001510\n",
       "2012-07-01 -0.000279  -0.000885 -0.001511 -0.003472\n",
       "2012-08-01  0.006878   0.005176  0.005623  0.004778\n",
       "2012-09-01  0.003007   0.004698  0.005060  0.004644\n",
       "2012-10-01 -0.003392   0.000626 -0.002435  0.003772\n",
       "2012-11-01 -0.004048  -0.001886 -0.004900 -0.007490\n",
       "2012-12-01 -0.002050  -0.002594 -0.001320 -0.005047\n",
       "2013-01-01  0.001137   0.003331  0.003693  0.003146"
      ]
     },
     "execution_count": 129,
     "metadata": {},
     "output_type": "execute_result"
    }
   ],
   "source": [
    "all_regions_pct_b20.head(12)"
   ]
  },
  {
   "cell_type": "code",
   "execution_count": 84,
   "id": "0d594d3a-2ab0-4823-b942-c787b9f2276e",
   "metadata": {},
   "outputs": [
    {
     "data": {
      "text/plain": [
       "Midwest      0.001043\n",
       "Northeast    0.001135\n",
       "South        0.001213\n",
       "West         0.001842\n",
       "dtype: float64"
      ]
     },
     "metadata": {},
     "output_type": "display_data"
    },
    {
     "data": {
      "text/plain": [
       "Midwest      0.004481\n",
       "Northeast    0.003874\n",
       "South        0.004604\n",
       "West         0.004409\n",
       "dtype: float64"
      ]
     },
     "metadata": {},
     "output_type": "display_data"
    }
   ],
   "source": [
    "all_regions_pct_b20_avg = all_regions_pct_b20.mean()\n",
    "all_regions_pct_a20_avg = all_regions_pct_a20.mean()\n",
    "\n",
    "display(all_regions_pct_b20_avg)\n",
    "display(all_regions_pct_a20_avg)"
   ]
  },
  {
   "cell_type": "markdown",
   "id": "a530927e-29b1-44d9-a716-e1ae2cc5284f",
   "metadata": {},
   "source": [
    "### Visualizations"
   ]
  },
  {
   "cell_type": "code",
   "execution_count": 150,
   "id": "d6b86b44-264b-4603-ac57-918cae355f87",
   "metadata": {},
   "outputs": [],
   "source": [
    "regions_df = pd.DataFrame({\n",
    "    'Region':['Midwest','Northeast','South','West'],\n",
    "    'Latitude':[41.881832,40.730610,33.753746,40.759926],\n",
    "    'Longitude':[-87.623177,-73.935242,-84.386330,-111.884888],\n",
    "})"
   ]
  },
  {
   "cell_type": "code",
   "execution_count": 85,
   "id": "e9d2aecd-6e29-40e2-bc9f-e3aba945f2e7",
   "metadata": {},
   "outputs": [
    {
     "data": {
      "text/html": [
       "<div>\n",
       "<style scoped>\n",
       "    .dataframe tbody tr th:only-of-type {\n",
       "        vertical-align: middle;\n",
       "    }\n",
       "\n",
       "    .dataframe tbody tr th {\n",
       "        vertical-align: top;\n",
       "    }\n",
       "\n",
       "    .dataframe thead th {\n",
       "        text-align: right;\n",
       "    }\n",
       "</style>\n",
       "<table border=\"1\" class=\"dataframe\">\n",
       "  <thead>\n",
       "    <tr style=\"text-align: right;\">\n",
       "      <th></th>\n",
       "      <th>Date</th>\n",
       "      <th>Price</th>\n",
       "      <th>Region</th>\n",
       "      <th>Latitude</th>\n",
       "      <th>Longitude</th>\n",
       "    </tr>\n",
       "  </thead>\n",
       "  <tbody>\n",
       "    <tr>\n",
       "      <th>0</th>\n",
       "      <td>20120101</td>\n",
       "      <td>216.368</td>\n",
       "      <td>Midwest</td>\n",
       "      <td>41.881832</td>\n",
       "      <td>-87.623177</td>\n",
       "    </tr>\n",
       "    <tr>\n",
       "      <th>1</th>\n",
       "      <td>20120201</td>\n",
       "      <td>216.855</td>\n",
       "      <td>Midwest</td>\n",
       "      <td>41.881832</td>\n",
       "      <td>-87.623177</td>\n",
       "    </tr>\n",
       "    <tr>\n",
       "      <th>2</th>\n",
       "      <td>20120301</td>\n",
       "      <td>218.975</td>\n",
       "      <td>Midwest</td>\n",
       "      <td>41.881832</td>\n",
       "      <td>-87.623177</td>\n",
       "    </tr>\n",
       "    <tr>\n",
       "      <th>3</th>\n",
       "      <td>20120401</td>\n",
       "      <td>219.405</td>\n",
       "      <td>Midwest</td>\n",
       "      <td>41.881832</td>\n",
       "      <td>-87.623177</td>\n",
       "    </tr>\n",
       "    <tr>\n",
       "      <th>4</th>\n",
       "      <td>20120501</td>\n",
       "      <td>219.145</td>\n",
       "      <td>Midwest</td>\n",
       "      <td>41.881832</td>\n",
       "      <td>-87.623177</td>\n",
       "    </tr>\n",
       "    <tr>\n",
       "      <th>...</th>\n",
       "      <td>...</td>\n",
       "      <td>...</td>\n",
       "      <td>...</td>\n",
       "      <td>...</td>\n",
       "      <td>...</td>\n",
       "    </tr>\n",
       "    <tr>\n",
       "      <th>511</th>\n",
       "      <td>20220501</td>\n",
       "      <td>309.645</td>\n",
       "      <td>West</td>\n",
       "      <td>40.759926</td>\n",
       "      <td>-111.884888</td>\n",
       "    </tr>\n",
       "    <tr>\n",
       "      <th>512</th>\n",
       "      <td>20220601</td>\n",
       "      <td>313.496</td>\n",
       "      <td>West</td>\n",
       "      <td>40.759926</td>\n",
       "      <td>-111.884888</td>\n",
       "    </tr>\n",
       "    <tr>\n",
       "      <th>513</th>\n",
       "      <td>20220701</td>\n",
       "      <td>313.951</td>\n",
       "      <td>West</td>\n",
       "      <td>40.759926</td>\n",
       "      <td>-111.884888</td>\n",
       "    </tr>\n",
       "    <tr>\n",
       "      <th>514</th>\n",
       "      <td>20220801</td>\n",
       "      <td>314.013</td>\n",
       "      <td>West</td>\n",
       "      <td>40.759926</td>\n",
       "      <td>-111.884888</td>\n",
       "    </tr>\n",
       "    <tr>\n",
       "      <th>515</th>\n",
       "      <td>20220901</td>\n",
       "      <td>315.094</td>\n",
       "      <td>West</td>\n",
       "      <td>40.759926</td>\n",
       "      <td>-111.884888</td>\n",
       "    </tr>\n",
       "  </tbody>\n",
       "</table>\n",
       "<p>516 rows × 5 columns</p>\n",
       "</div>"
      ],
      "text/plain": [
       "         Date    Price   Region   Latitude   Longitude\n",
       "0    20120101  216.368  Midwest  41.881832  -87.623177\n",
       "1    20120201  216.855  Midwest  41.881832  -87.623177\n",
       "2    20120301  218.975  Midwest  41.881832  -87.623177\n",
       "3    20120401  219.405  Midwest  41.881832  -87.623177\n",
       "4    20120501  219.145  Midwest  41.881832  -87.623177\n",
       "..        ...      ...      ...        ...         ...\n",
       "511  20220501  309.645     West  40.759926 -111.884888\n",
       "512  20220601  313.496     West  40.759926 -111.884888\n",
       "513  20220701  313.951     West  40.759926 -111.884888\n",
       "514  20220801  314.013     West  40.759926 -111.884888\n",
       "515  20220901  315.094     West  40.759926 -111.884888\n",
       "\n",
       "[516 rows x 5 columns]"
      ]
     },
     "execution_count": 85,
     "metadata": {},
     "output_type": "execute_result"
    }
   ],
   "source": [
    "all_regions_mapped_df = pd.concat([regions_df[['Region','Latitude','Longitude']]]*129, ignore_index=True).sort_values('Region').reset_index().drop(columns='index')\n",
    "\n",
    "dates = pd.DataFrame([int(date[:10].replace('-','')) for date in all_regions_df.index.values.astype(str)])\n",
    "\n",
    "all_regions_mapped_df['Date'] = pd.concat([dates,dates,dates,dates]).reset_index().drop(columns='index')\n",
    "all_regions_mapped_df['Price'] = pd.concat([all_regions_df[i] for i in all_regions_df.columns]).reset_index()[0]\n",
    "\n",
    "\n",
    "all_regions_mapped_df = all_regions_mapped_df[['Date','Price', 'Region', 'Latitude', 'Longitude']]\n",
    "\n",
    "all_regions_mapped_df"
   ]
  },
  {
   "cell_type": "code",
   "execution_count": 158,
   "id": "38ed84ab-e724-40c0-8251-39915b8407c4",
   "metadata": {},
   "outputs": [
    {
     "data": {
      "text/html": [
       "<div>\n",
       "<style scoped>\n",
       "    .dataframe tbody tr th:only-of-type {\n",
       "        vertical-align: middle;\n",
       "    }\n",
       "\n",
       "    .dataframe tbody tr th {\n",
       "        vertical-align: top;\n",
       "    }\n",
       "\n",
       "    .dataframe thead th {\n",
       "        text-align: right;\n",
       "    }\n",
       "</style>\n",
       "<table border=\"1\" class=\"dataframe\">\n",
       "  <thead>\n",
       "    <tr style=\"text-align: right;\">\n",
       "      <th></th>\n",
       "      <th>Year</th>\n",
       "      <th>Mean</th>\n",
       "      <th>Region</th>\n",
       "      <th>Latitude</th>\n",
       "      <th>Longitude</th>\n",
       "    </tr>\n",
       "  </thead>\n",
       "  <tbody>\n",
       "    <tr>\n",
       "      <th>0</th>\n",
       "      <td>2012</td>\n",
       "      <td>0.001122</td>\n",
       "      <td>Midwest</td>\n",
       "      <td>41.881832</td>\n",
       "      <td>-87.623177</td>\n",
       "    </tr>\n",
       "    <tr>\n",
       "      <th>1</th>\n",
       "      <td>2013</td>\n",
       "      <td>0.000827</td>\n",
       "      <td>Midwest</td>\n",
       "      <td>41.881832</td>\n",
       "      <td>-87.623177</td>\n",
       "    </tr>\n",
       "    <tr>\n",
       "      <th>2</th>\n",
       "      <td>2014</td>\n",
       "      <td>0.000623</td>\n",
       "      <td>Midwest</td>\n",
       "      <td>41.881832</td>\n",
       "      <td>-87.623177</td>\n",
       "    </tr>\n",
       "    <tr>\n",
       "      <th>3</th>\n",
       "      <td>2015</td>\n",
       "      <td>-0.000029</td>\n",
       "      <td>Midwest</td>\n",
       "      <td>41.881832</td>\n",
       "      <td>-87.623177</td>\n",
       "    </tr>\n",
       "    <tr>\n",
       "      <th>4</th>\n",
       "      <td>2016</td>\n",
       "      <td>0.001516</td>\n",
       "      <td>Midwest</td>\n",
       "      <td>41.881832</td>\n",
       "      <td>-87.623177</td>\n",
       "    </tr>\n",
       "    <tr>\n",
       "      <th>5</th>\n",
       "      <td>2017</td>\n",
       "      <td>0.001372</td>\n",
       "      <td>Midwest</td>\n",
       "      <td>41.881832</td>\n",
       "      <td>-87.623177</td>\n",
       "    </tr>\n",
       "    <tr>\n",
       "      <th>6</th>\n",
       "      <td>2018</td>\n",
       "      <td>0.001051</td>\n",
       "      <td>Midwest</td>\n",
       "      <td>41.881832</td>\n",
       "      <td>-87.623177</td>\n",
       "    </tr>\n",
       "    <tr>\n",
       "      <th>7</th>\n",
       "      <td>2019</td>\n",
       "      <td>0.001867</td>\n",
       "      <td>Midwest</td>\n",
       "      <td>41.881832</td>\n",
       "      <td>-87.623177</td>\n",
       "    </tr>\n",
       "    <tr>\n",
       "      <th>8</th>\n",
       "      <td>2012</td>\n",
       "      <td>0.001334</td>\n",
       "      <td>Northeast</td>\n",
       "      <td>40.730610</td>\n",
       "      <td>-73.935242</td>\n",
       "    </tr>\n",
       "    <tr>\n",
       "      <th>9</th>\n",
       "      <td>2013</td>\n",
       "      <td>0.001048</td>\n",
       "      <td>Northeast</td>\n",
       "      <td>40.730610</td>\n",
       "      <td>-73.935242</td>\n",
       "    </tr>\n",
       "    <tr>\n",
       "      <th>10</th>\n",
       "      <td>2014</td>\n",
       "      <td>0.000323</td>\n",
       "      <td>Northeast</td>\n",
       "      <td>40.730610</td>\n",
       "      <td>-73.935242</td>\n",
       "    </tr>\n",
       "    <tr>\n",
       "      <th>11</th>\n",
       "      <td>2015</td>\n",
       "      <td>0.000385</td>\n",
       "      <td>Northeast</td>\n",
       "      <td>40.730610</td>\n",
       "      <td>-73.935242</td>\n",
       "    </tr>\n",
       "    <tr>\n",
       "      <th>12</th>\n",
       "      <td>2016</td>\n",
       "      <td>0.001563</td>\n",
       "      <td>Northeast</td>\n",
       "      <td>40.730610</td>\n",
       "      <td>-73.935242</td>\n",
       "    </tr>\n",
       "    <tr>\n",
       "      <th>13</th>\n",
       "      <td>2017</td>\n",
       "      <td>0.001410</td>\n",
       "      <td>Northeast</td>\n",
       "      <td>40.730610</td>\n",
       "      <td>-73.935242</td>\n",
       "    </tr>\n",
       "    <tr>\n",
       "      <th>14</th>\n",
       "      <td>2018</td>\n",
       "      <td>0.001428</td>\n",
       "      <td>Northeast</td>\n",
       "      <td>40.730610</td>\n",
       "      <td>-73.935242</td>\n",
       "    </tr>\n",
       "    <tr>\n",
       "      <th>15</th>\n",
       "      <td>2019</td>\n",
       "      <td>0.001603</td>\n",
       "      <td>Northeast</td>\n",
       "      <td>40.730610</td>\n",
       "      <td>-73.935242</td>\n",
       "    </tr>\n",
       "    <tr>\n",
       "      <th>16</th>\n",
       "      <td>2012</td>\n",
       "      <td>0.001080</td>\n",
       "      <td>South</td>\n",
       "      <td>33.753746</td>\n",
       "      <td>-84.386330</td>\n",
       "    </tr>\n",
       "    <tr>\n",
       "      <th>17</th>\n",
       "      <td>2013</td>\n",
       "      <td>0.001477</td>\n",
       "      <td>South</td>\n",
       "      <td>33.753746</td>\n",
       "      <td>-84.386330</td>\n",
       "    </tr>\n",
       "    <tr>\n",
       "      <th>18</th>\n",
       "      <td>2014</td>\n",
       "      <td>0.000508</td>\n",
       "      <td>South</td>\n",
       "      <td>33.753746</td>\n",
       "      <td>-84.386330</td>\n",
       "    </tr>\n",
       "    <tr>\n",
       "      <th>19</th>\n",
       "      <td>2015</td>\n",
       "      <td>0.000419</td>\n",
       "      <td>South</td>\n",
       "      <td>33.753746</td>\n",
       "      <td>-84.386330</td>\n",
       "    </tr>\n",
       "    <tr>\n",
       "      <th>20</th>\n",
       "      <td>2016</td>\n",
       "      <td>0.001666</td>\n",
       "      <td>South</td>\n",
       "      <td>33.753746</td>\n",
       "      <td>-84.386330</td>\n",
       "    </tr>\n",
       "    <tr>\n",
       "      <th>21</th>\n",
       "      <td>2017</td>\n",
       "      <td>0.001524</td>\n",
       "      <td>South</td>\n",
       "      <td>33.753746</td>\n",
       "      <td>-84.386330</td>\n",
       "    </tr>\n",
       "    <tr>\n",
       "      <th>22</th>\n",
       "      <td>2018</td>\n",
       "      <td>0.001267</td>\n",
       "      <td>South</td>\n",
       "      <td>33.753746</td>\n",
       "      <td>-84.386330</td>\n",
       "    </tr>\n",
       "    <tr>\n",
       "      <th>23</th>\n",
       "      <td>2019</td>\n",
       "      <td>0.001755</td>\n",
       "      <td>South</td>\n",
       "      <td>33.753746</td>\n",
       "      <td>-84.386330</td>\n",
       "    </tr>\n",
       "    <tr>\n",
       "      <th>24</th>\n",
       "      <td>2012</td>\n",
       "      <td>0.001214</td>\n",
       "      <td>West</td>\n",
       "      <td>40.759926</td>\n",
       "      <td>-111.884888</td>\n",
       "    </tr>\n",
       "    <tr>\n",
       "      <th>25</th>\n",
       "      <td>2013</td>\n",
       "      <td>0.001453</td>\n",
       "      <td>West</td>\n",
       "      <td>40.759926</td>\n",
       "      <td>-111.884888</td>\n",
       "    </tr>\n",
       "    <tr>\n",
       "      <th>26</th>\n",
       "      <td>2014</td>\n",
       "      <td>0.001059</td>\n",
       "      <td>West</td>\n",
       "      <td>40.759926</td>\n",
       "      <td>-111.884888</td>\n",
       "    </tr>\n",
       "    <tr>\n",
       "      <th>27</th>\n",
       "      <td>2015</td>\n",
       "      <td>0.001507</td>\n",
       "      <td>West</td>\n",
       "      <td>40.759926</td>\n",
       "      <td>-111.884888</td>\n",
       "    </tr>\n",
       "    <tr>\n",
       "      <th>28</th>\n",
       "      <td>2016</td>\n",
       "      <td>0.002061</td>\n",
       "      <td>West</td>\n",
       "      <td>40.759926</td>\n",
       "      <td>-111.884888</td>\n",
       "    </tr>\n",
       "    <tr>\n",
       "      <th>29</th>\n",
       "      <td>2017</td>\n",
       "      <td>0.002580</td>\n",
       "      <td>West</td>\n",
       "      <td>40.759926</td>\n",
       "      <td>-111.884888</td>\n",
       "    </tr>\n",
       "    <tr>\n",
       "      <th>30</th>\n",
       "      <td>2018</td>\n",
       "      <td>0.002514</td>\n",
       "      <td>West</td>\n",
       "      <td>40.759926</td>\n",
       "      <td>-111.884888</td>\n",
       "    </tr>\n",
       "    <tr>\n",
       "      <th>31</th>\n",
       "      <td>2019</td>\n",
       "      <td>0.002292</td>\n",
       "      <td>West</td>\n",
       "      <td>40.759926</td>\n",
       "      <td>-111.884888</td>\n",
       "    </tr>\n",
       "  </tbody>\n",
       "</table>\n",
       "</div>"
      ],
      "text/plain": [
       "    Year      Mean     Region   Latitude   Longitude\n",
       "0   2012  0.001122    Midwest  41.881832  -87.623177\n",
       "1   2013  0.000827    Midwest  41.881832  -87.623177\n",
       "2   2014  0.000623    Midwest  41.881832  -87.623177\n",
       "3   2015 -0.000029    Midwest  41.881832  -87.623177\n",
       "4   2016  0.001516    Midwest  41.881832  -87.623177\n",
       "5   2017  0.001372    Midwest  41.881832  -87.623177\n",
       "6   2018  0.001051    Midwest  41.881832  -87.623177\n",
       "7   2019  0.001867    Midwest  41.881832  -87.623177\n",
       "8   2012  0.001334  Northeast  40.730610  -73.935242\n",
       "9   2013  0.001048  Northeast  40.730610  -73.935242\n",
       "10  2014  0.000323  Northeast  40.730610  -73.935242\n",
       "11  2015  0.000385  Northeast  40.730610  -73.935242\n",
       "12  2016  0.001563  Northeast  40.730610  -73.935242\n",
       "13  2017  0.001410  Northeast  40.730610  -73.935242\n",
       "14  2018  0.001428  Northeast  40.730610  -73.935242\n",
       "15  2019  0.001603  Northeast  40.730610  -73.935242\n",
       "16  2012  0.001080      South  33.753746  -84.386330\n",
       "17  2013  0.001477      South  33.753746  -84.386330\n",
       "18  2014  0.000508      South  33.753746  -84.386330\n",
       "19  2015  0.000419      South  33.753746  -84.386330\n",
       "20  2016  0.001666      South  33.753746  -84.386330\n",
       "21  2017  0.001524      South  33.753746  -84.386330\n",
       "22  2018  0.001267      South  33.753746  -84.386330\n",
       "23  2019  0.001755      South  33.753746  -84.386330\n",
       "24  2012  0.001214       West  40.759926 -111.884888\n",
       "25  2013  0.001453       West  40.759926 -111.884888\n",
       "26  2014  0.001059       West  40.759926 -111.884888\n",
       "27  2015  0.001507       West  40.759926 -111.884888\n",
       "28  2016  0.002061       West  40.759926 -111.884888\n",
       "29  2017  0.002580       West  40.759926 -111.884888\n",
       "30  2018  0.002514       West  40.759926 -111.884888\n",
       "31  2019  0.002292       West  40.759926 -111.884888"
      ]
     },
     "execution_count": 158,
     "metadata": {},
     "output_type": "execute_result"
    }
   ],
   "source": [
    "all_regions_pct_before_2020 = pd.concat([regions_df[['Region','Latitude','Longitude']]]*8, ignore_index=True).sort_values('Region').reset_index().drop(columns='index')\n",
    "\n",
    "yearly_regional_means = []\n",
    "\n",
    "for col in all_regions_pct_a20.columns:\n",
    "    yearly_regional_means.append(all_regions_pct_b20.iloc[:11][col].mean())\n",
    "    yearly_regional_means.append(all_regions_pct_b20.iloc[11:23][col].mean())\n",
    "    yearly_regional_means.append(all_regions_pct_b20.iloc[23:35][col].mean())\n",
    "    yearly_regional_means.append(all_regions_pct_b20.iloc[35:47][col].mean())\n",
    "    yearly_regional_means.append(all_regions_pct_b20.iloc[47:59][col].mean())\n",
    "    yearly_regional_means.append(all_regions_pct_b20.iloc[59:71][col].mean())\n",
    "    yearly_regional_means.append(all_regions_pct_b20.iloc[71:83][col].mean())\n",
    "    yearly_regional_means.append(all_regions_pct_b20.iloc[83:][col].mean())\n",
    "    \n",
    "\n",
    "\n",
    "all_regions_pct_before_2020['Year'] = list(range(2012,2020))*4\n",
    "all_regions_pct_before_2020['Mean'] = yearly_regional_means\n",
    "all_regions_pct_before_2020 = all_regions_pct_before_2020[['Year','Mean', 'Region', 'Latitude', 'Longitude']]\n",
    "all_regions_pct_before_2020"
   ]
  },
  {
   "cell_type": "code",
   "execution_count": 147,
   "id": "f3577175-43a0-46f1-89ef-0e0cdce3ce6b",
   "metadata": {},
   "outputs": [
    {
     "data": {
      "text/html": [
       "<div>\n",
       "<style scoped>\n",
       "    .dataframe tbody tr th:only-of-type {\n",
       "        vertical-align: middle;\n",
       "    }\n",
       "\n",
       "    .dataframe tbody tr th {\n",
       "        vertical-align: top;\n",
       "    }\n",
       "\n",
       "    .dataframe thead th {\n",
       "        text-align: right;\n",
       "    }\n",
       "</style>\n",
       "<table border=\"1\" class=\"dataframe\">\n",
       "  <thead>\n",
       "    <tr style=\"text-align: right;\">\n",
       "      <th></th>\n",
       "      <th>Midwest</th>\n",
       "      <th>Northeast</th>\n",
       "      <th>South</th>\n",
       "      <th>West</th>\n",
       "    </tr>\n",
       "    <tr>\n",
       "      <th>Date</th>\n",
       "      <th></th>\n",
       "      <th></th>\n",
       "      <th></th>\n",
       "      <th></th>\n",
       "    </tr>\n",
       "  </thead>\n",
       "  <tbody>\n",
       "    <tr>\n",
       "      <th>2020-01-01</th>\n",
       "      <td>0.004004</td>\n",
       "      <td>0.006978</td>\n",
       "      <td>0.002895</td>\n",
       "      <td>0.002773</td>\n",
       "    </tr>\n",
       "    <tr>\n",
       "      <th>2020-02-01</th>\n",
       "      <td>0.003050</td>\n",
       "      <td>0.002806</td>\n",
       "      <td>0.001641</td>\n",
       "      <td>0.003922</td>\n",
       "    </tr>\n",
       "    <tr>\n",
       "      <th>2020-03-01</th>\n",
       "      <td>-0.005232</td>\n",
       "      <td>-0.002010</td>\n",
       "      <td>-0.001111</td>\n",
       "      <td>-0.001520</td>\n",
       "    </tr>\n",
       "    <tr>\n",
       "      <th>2020-04-01</th>\n",
       "      <td>-0.011243</td>\n",
       "      <td>-0.004425</td>\n",
       "      <td>-0.007585</td>\n",
       "      <td>-0.003949</td>\n",
       "    </tr>\n",
       "    <tr>\n",
       "      <th>2020-05-01</th>\n",
       "      <td>0.003455</td>\n",
       "      <td>0.000074</td>\n",
       "      <td>-0.002266</td>\n",
       "      <td>0.000546</td>\n",
       "    </tr>\n",
       "    <tr>\n",
       "      <th>2020-06-01</th>\n",
       "      <td>0.008294</td>\n",
       "      <td>0.003457</td>\n",
       "      <td>0.006215</td>\n",
       "      <td>0.004003</td>\n",
       "    </tr>\n",
       "    <tr>\n",
       "      <th>2020-07-01</th>\n",
       "      <td>0.004894</td>\n",
       "      <td>0.003908</td>\n",
       "      <td>0.005647</td>\n",
       "      <td>0.005260</td>\n",
       "    </tr>\n",
       "    <tr>\n",
       "      <th>2020-08-01</th>\n",
       "      <td>0.003876</td>\n",
       "      <td>0.000915</td>\n",
       "      <td>0.004103</td>\n",
       "      <td>0.003070</td>\n",
       "    </tr>\n",
       "    <tr>\n",
       "      <th>2020-09-01</th>\n",
       "      <td>0.002138</td>\n",
       "      <td>0.001199</td>\n",
       "      <td>0.002219</td>\n",
       "      <td>-0.000076</td>\n",
       "    </tr>\n",
       "    <tr>\n",
       "      <th>2020-10-01</th>\n",
       "      <td>-0.000571</td>\n",
       "      <td>-0.002011</td>\n",
       "      <td>0.001395</td>\n",
       "      <td>0.001642</td>\n",
       "    </tr>\n",
       "    <tr>\n",
       "      <th>2020-11-01</th>\n",
       "      <td>-0.001754</td>\n",
       "      <td>0.000618</td>\n",
       "      <td>-0.001146</td>\n",
       "      <td>-0.000004</td>\n",
       "    </tr>\n",
       "    <tr>\n",
       "      <th>2020-12-01</th>\n",
       "      <td>0.000568</td>\n",
       "      <td>0.002493</td>\n",
       "      <td>0.001750</td>\n",
       "      <td>-0.001019</td>\n",
       "    </tr>\n",
       "  </tbody>\n",
       "</table>\n",
       "</div>"
      ],
      "text/plain": [
       "             Midwest  Northeast     South      West\n",
       "Date                                               \n",
       "2020-01-01  0.004004   0.006978  0.002895  0.002773\n",
       "2020-02-01  0.003050   0.002806  0.001641  0.003922\n",
       "2020-03-01 -0.005232  -0.002010 -0.001111 -0.001520\n",
       "2020-04-01 -0.011243  -0.004425 -0.007585 -0.003949\n",
       "2020-05-01  0.003455   0.000074 -0.002266  0.000546\n",
       "2020-06-01  0.008294   0.003457  0.006215  0.004003\n",
       "2020-07-01  0.004894   0.003908  0.005647  0.005260\n",
       "2020-08-01  0.003876   0.000915  0.004103  0.003070\n",
       "2020-09-01  0.002138   0.001199  0.002219 -0.000076\n",
       "2020-10-01 -0.000571  -0.002011  0.001395  0.001642\n",
       "2020-11-01 -0.001754   0.000618 -0.001146 -0.000004\n",
       "2020-12-01  0.000568   0.002493  0.001750 -0.001019"
      ]
     },
     "execution_count": 154,
     "metadata": {},
     "output_type": "execute_result"
    }
   ],
   "source": [
    "all_regions_pct_after_2020 = pd.concat([regions_df[['Region','Latitude','Longitude']]]*3, ignore_index=True).sort_values('Region').reset_index().drop(columns='index')\n",
    "\n",
    "yearly_regional_means = []\n",
    "\n",
    "for col in all_regions_pct_a20.columns:\n",
    "    yearly_regional_means.append(all_regions_pct_a20.iloc[:12][col].mean())\n",
    "    yearly_regional_means.append(all_regions_pct_a20.iloc[12:24][col].mean())\n",
    "    yearly_regional_means.append(all_regions_pct_a20.iloc[24:][col].mean())\n",
    "    \n",
    "\n",
    "\n",
    "all_regions_pct_after_2020['Year'] = list(range(2020,2023))*4\n",
    "all_regions_pct_after_2020['Mean'] = yearly_regional_means\n",
    "all_regions_pct_after_2020 = all_regions_pct_after_2020[['Year','Mean', 'Region', 'Latitude', 'Longitude']]\n",
    "all_regions_pct_after_2020"
   ]
  },
  {
   "cell_type": "code",
   "execution_count": 159,
   "id": "b0981132-d29b-4b3e-aa00-b177e0e48a32",
   "metadata": {},
   "outputs": [
    {
     "data": {},
     "metadata": {},
     "output_type": "display_data"
    },
    {
     "data": {
      "application/vnd.holoviews_exec.v0+json": "",
      "text/html": [
       "<div id='22781'>\n",
       "  <div class=\"bk-root\" id=\"ca6435ce-9046-4ba5-9c6f-a9433e890213\" data-root-id=\"22781\"></div>\n",
       "</div>\n",
       "<script type=\"application/javascript\">(function(root) {\n",
       "  function embed_document(root) {\n",
       "    var docs_json = {\"b225421d-e76c-4db0-b77a-6d8d6c399a15\":{\"defs\":[{\"extends\":null,\"module\":null,\"name\":\"ReactiveHTML1\",\"overrides\":[],\"properties\":[]},{\"extends\":null,\"module\":null,\"name\":\"FlexBox1\",\"overrides\":[],\"properties\":[{\"default\":\"flex-start\",\"kind\":null,\"name\":\"align_content\"},{\"default\":\"flex-start\",\"kind\":null,\"name\":\"align_items\"},{\"default\":\"row\",\"kind\":null,\"name\":\"flex_direction\"},{\"default\":\"wrap\",\"kind\":null,\"name\":\"flex_wrap\"},{\"default\":\"flex-start\",\"kind\":null,\"name\":\"justify_content\"}]},{\"extends\":null,\"module\":null,\"name\":\"GridStack1\",\"overrides\":[],\"properties\":[{\"default\":\"warn\",\"kind\":null,\"name\":\"mode\"},{\"default\":null,\"kind\":null,\"name\":\"ncols\"},{\"default\":null,\"kind\":null,\"name\":\"nrows\"},{\"default\":true,\"kind\":null,\"name\":\"allow_resize\"},{\"default\":true,\"kind\":null,\"name\":\"allow_drag\"},{\"default\":[],\"kind\":null,\"name\":\"state\"}]},{\"extends\":null,\"module\":null,\"name\":\"click1\",\"overrides\":[],\"properties\":[{\"default\":\"\",\"kind\":null,\"name\":\"terminal_output\"},{\"default\":\"\",\"kind\":null,\"name\":\"debug_name\"},{\"default\":0,\"kind\":null,\"name\":\"clears\"}]},{\"extends\":null,\"module\":null,\"name\":\"NotificationAreaBase1\",\"overrides\":[],\"properties\":[{\"default\":\"bottom-right\",\"kind\":null,\"name\":\"position\"},{\"default\":0,\"kind\":null,\"name\":\"_clear\"}]},{\"extends\":null,\"module\":null,\"name\":\"NotificationArea1\",\"overrides\":[],\"properties\":[{\"default\":[],\"kind\":null,\"name\":\"notifications\"},{\"default\":\"bottom-right\",\"kind\":null,\"name\":\"position\"},{\"default\":0,\"kind\":null,\"name\":\"_clear\"},{\"default\":[{\"background\":\"#ffc107\",\"icon\":{\"className\":\"fas fa-exclamation-triangle\",\"color\":\"white\",\"tagName\":\"i\"},\"type\":\"warning\"},{\"background\":\"#007bff\",\"icon\":{\"className\":\"fas fa-info-circle\",\"color\":\"white\",\"tagName\":\"i\"},\"type\":\"info\"}],\"kind\":null,\"name\":\"types\"}]},{\"extends\":null,\"module\":null,\"name\":\"Notification\",\"overrides\":[],\"properties\":[{\"default\":null,\"kind\":null,\"name\":\"background\"},{\"default\":3000,\"kind\":null,\"name\":\"duration\"},{\"default\":null,\"kind\":null,\"name\":\"icon\"},{\"default\":\"\",\"kind\":null,\"name\":\"message\"},{\"default\":null,\"kind\":null,\"name\":\"notification_type\"},{\"default\":false,\"kind\":null,\"name\":\"_destroyed\"}]},{\"extends\":null,\"module\":null,\"name\":\"TemplateActions1\",\"overrides\":[],\"properties\":[{\"default\":0,\"kind\":null,\"name\":\"open_modal\"},{\"default\":0,\"kind\":null,\"name\":\"close_modal\"}]},{\"extends\":null,\"module\":null,\"name\":\"MaterialTemplateActions1\",\"overrides\":[],\"properties\":[{\"default\":0,\"kind\":null,\"name\":\"open_modal\"},{\"default\":0,\"kind\":null,\"name\":\"close_modal\"}]}],\"roots\":{\"references\":[{\"attributes\":{\"attribution\":\"&copy; <a href=\\\"https://www.openstreetmap.org/copyright\\\">OpenStreetMap</a> contributors\",\"url\":\"https://c.tile.openstreetmap.org/{Z}/{X}/{Y}.png\"},\"id\":\"22852\",\"type\":\"WMTSTileSource\"},{\"attributes\":{\"client_comm_id\":\"d1ba5950d9714b78815f291f07da0231\",\"comm_id\":\"833b59ddd4ea4e899f7b154560b40521\",\"plot_id\":\"22781\"},\"id\":\"22934\",\"type\":\"panel.models.comm_manager.CommManager\"},{\"attributes\":{},\"id\":\"22876\",\"type\":\"UnionRenderers\"},{\"attributes\":{\"coordinates\":null,\"group\":null,\"level\":\"glyph\",\"tile_source\":{\"id\":\"22852\"}},\"id\":\"22855\",\"type\":\"TileRenderer\"},{\"attributes\":{\"data\":{\"Latitude\":{\"__ndarray__\":\"Rqydtr+eU0GwdUniI/hSQZDpy+5DfE5BdbAxwlj8UkE=\",\"dtype\":\"float64\",\"order\":\"little\",\"shape\":[4]},\"Longitude\":{\"__ndarray__\":\"biJA7saaYsEJeG5fiGVfwYnsImnW6mHB1NNOGIfBZ8E=\",\"dtype\":\"float64\",\"order\":\"little\",\"shape\":[4]},\"Price\":{\"__ndarray__\":\"sp3vp8YLa0DjpZvEIFxuQJZDi2znj2tAj8L1KFyfbEA=\",\"dtype\":\"float64\",\"order\":\"little\",\"shape\":[4]},\"color\":{\"__ndarray__\":\"sp3vp8YLa0DjpZvEIFxuQJZDi2znj2tAj8L1KFyfbEA=\",\"dtype\":\"float64\",\"order\":\"little\",\"shape\":[4]},\"size\":{\"__ndarray__\":\"hujSYz1rTUDOPNiBTStPQDWdAanCsk1AlfkWqaBDTkA=\",\"dtype\":\"float64\",\"order\":\"little\",\"shape\":[4]}},\"selected\":{\"id\":\"22859\"},\"selection_policy\":{\"id\":\"22876\"}},\"id\":\"22858\",\"type\":\"ColumnDataSource\"},{\"attributes\":{},\"id\":\"22801\",\"type\":\"LinearScale\"},{\"attributes\":{\"margin\":[5,5,5,5],\"name\":\"HSpacer46998\",\"sizing_mode\":\"stretch_width\"},\"id\":\"22904\",\"type\":\"Spacer\"},{\"attributes\":{\"zoom_on_axis\":false},\"id\":\"22813\",\"type\":\"WheelZoomTool\"},{\"attributes\":{\"below\":[{\"id\":\"22803\"}],\"center\":[{\"id\":\"22806\"},{\"id\":\"22810\"}],\"frame_height\":500,\"frame_width\":1000,\"height\":null,\"left\":[{\"id\":\"22807\"}],\"margin\":[5,5,5,5],\"match_aspect\":true,\"min_border_bottom\":10,\"min_border_left\":10,\"min_border_right\":10,\"min_border_top\":10,\"renderers\":[{\"id\":\"22855\"},{\"id\":\"22866\"}],\"right\":[{\"id\":\"22869\"}],\"sizing_mode\":\"fixed\",\"title\":{\"id\":\"22795\"},\"toolbar\":{\"id\":\"22817\"},\"width\":null,\"x_range\":{\"id\":\"22787\"},\"x_scale\":{\"id\":\"22799\"},\"y_range\":{\"id\":\"22788\"},\"y_scale\":{\"id\":\"22801\"}},\"id\":\"22794\",\"subtype\":\"Figure\",\"type\":\"Plot\"},{\"attributes\":{\"match_aspect\":true,\"overlay\":{\"id\":\"22816\"}},\"id\":\"22814\",\"type\":\"BoxZoomTool\"},{\"attributes\":{\"fill_color\":{\"field\":\"color\",\"transform\":{\"id\":\"22857\"}},\"hatch_color\":{\"field\":\"color\",\"transform\":{\"id\":\"22857\"}},\"line_color\":{\"field\":\"color\",\"transform\":{\"id\":\"22857\"}},\"size\":{\"field\":\"size\"},\"x\":{\"field\":\"Longitude\"},\"y\":{\"field\":\"Latitude\"}},\"id\":\"22864\",\"type\":\"Scatter\"},{\"attributes\":{\"bottom_units\":\"screen\",\"coordinates\":null,\"fill_alpha\":0.5,\"fill_color\":\"lightgrey\",\"group\":null,\"left_units\":\"screen\",\"level\":\"overlay\",\"line_alpha\":1.0,\"line_color\":\"black\",\"line_dash\":[4,4],\"line_width\":2,\"right_units\":\"screen\",\"syncable\":false,\"top_units\":\"screen\"},\"id\":\"22816\",\"type\":\"BoxAnnotation\"},{\"attributes\":{\"coordinates\":null,\"data_source\":{\"id\":\"22858\"},\"glyph\":{\"id\":\"22861\"},\"group\":null,\"hover_glyph\":{\"id\":\"22864\"},\"muted_glyph\":{\"id\":\"22865\"},\"nonselection_glyph\":{\"id\":\"22862\"},\"selection_glyph\":{\"id\":\"22863\"},\"view\":{\"id\":\"22867\"}},\"id\":\"22866\",\"type\":\"GlyphRenderer\"},{\"attributes\":{},\"id\":\"22874\",\"type\":\"NoOverlap\"},{\"attributes\":{},\"id\":\"22859\",\"type\":\"Selection\"},{\"attributes\":{\"tools\":[{\"id\":\"22791\"},{\"id\":\"22811\"},{\"id\":\"22812\"},{\"id\":\"22813\"},{\"id\":\"22814\"},{\"id\":\"22815\"}]},\"id\":\"22817\",\"type\":\"Toolbar\"},{\"attributes\":{\"fill_color\":{\"field\":\"color\",\"transform\":{\"id\":\"22857\"}},\"hatch_color\":{\"field\":\"color\",\"transform\":{\"id\":\"22857\"}},\"line_color\":{\"field\":\"color\",\"transform\":{\"id\":\"22857\"}},\"size\":{\"field\":\"size\"},\"x\":{\"field\":\"Longitude\"},\"y\":{\"field\":\"Latitude\"}},\"id\":\"22863\",\"type\":\"Scatter\"},{\"attributes\":{},\"id\":\"22815\",\"type\":\"ResetTool\"},{\"attributes\":{},\"id\":\"22811\",\"type\":\"SaveTool\"},{\"attributes\":{\"fill_alpha\":{\"value\":0.1},\"fill_color\":{\"field\":\"color\",\"transform\":{\"id\":\"22857\"}},\"hatch_alpha\":{\"value\":0.1},\"hatch_color\":{\"field\":\"color\",\"transform\":{\"id\":\"22857\"}},\"line_alpha\":{\"value\":0.1},\"line_color\":{\"field\":\"color\",\"transform\":{\"id\":\"22857\"}},\"size\":{\"field\":\"size\"},\"x\":{\"field\":\"Longitude\"},\"y\":{\"field\":\"Latitude\"}},\"id\":\"22862\",\"type\":\"Scatter\"},{\"attributes\":{\"children\":[{\"id\":\"22782\"},{\"id\":\"22794\"},{\"id\":\"22904\"},{\"id\":\"22905\"}],\"margin\":[0,0,0,0],\"name\":\"Row46981\"},\"id\":\"22781\",\"type\":\"Row\"},{\"attributes\":{},\"id\":\"22839\",\"type\":\"AllLabels\"},{\"attributes\":{\"children\":[{\"id\":\"22908\"}],\"css_classes\":[\"panel-widget-box\"],\"margin\":[5,5,5,5],\"name\":\"WidgetBox46982\"},\"id\":\"22907\",\"type\":\"Column\"},{\"attributes\":{\"high\":315,\"low\":220,\"palette\":[\"#000000\",\"#09000a\",\"#120015\",\"#1c001f\",\"#25002a\",\"#2e0035\",\"#38003f\",\"#41004a\",\"#4a0055\",\"#54005f\",\"#5d006a\",\"#660075\",\"#70007f\",\"#770088\",\"#780089\",\"#7a008a\",\"#7b008c\",\"#7c008d\",\"#7e008e\",\"#7f0090\",\"#800091\",\"#810092\",\"#830094\",\"#840095\",\"#850096\",\"#870098\",\"#820099\",\"#77009b\",\"#6d009c\",\"#62009d\",\"#57009f\",\"#4d00a0\",\"#4200a1\",\"#3700a3\",\"#2d00a4\",\"#2200a5\",\"#1700a7\",\"#0d00a8\",\"#0200a9\",\"#0000ad\",\"#0000b1\",\"#0000b5\",\"#0000b9\",\"#0000bd\",\"#0000c1\",\"#0000c5\",\"#0000c9\",\"#0000cd\",\"#0000d1\",\"#0000d5\",\"#0000d9\",\"#0000dd\",\"#0009dd\",\"#0012dd\",\"#001cdd\",\"#0025dd\",\"#002edd\",\"#0038dd\",\"#0041dd\",\"#004add\",\"#0054dd\",\"#005ddd\",\"#0066dd\",\"#0070dd\",\"#0077dd\",\"#007add\",\"#007ddd\",\"#007fdd\",\"#0082dd\",\"#0085dd\",\"#0087dd\",\"#008add\",\"#008ddd\",\"#008fdd\",\"#0092dd\",\"#0095dd\",\"#0097dd\",\"#0099db\",\"#009bd7\",\"#009cd3\",\"#009dcf\",\"#009fcb\",\"#00a0c7\",\"#00a1c3\",\"#00a3bf\",\"#00a4bb\",\"#00a5b7\",\"#00a7b3\",\"#00a8af\",\"#00a9ab\",\"#00aaa8\",\"#00aaa5\",\"#00aaa2\",\"#00aaa0\",\"#00aa9d\",\"#00aa9a\",\"#00aa97\",\"#00aa95\",\"#00aa92\",\"#00aa8f\",\"#00aa8d\",\"#00aa8a\",\"#00aa87\",\"#00a87d\",\"#00a772\",\"#00a667\",\"#00a45d\",\"#00a352\",\"#00a247\",\"#00a03d\",\"#009f32\",\"#009e27\",\"#009c1d\",\"#009b12\",\"#009a07\",\"#009900\",\"#009c00\",\"#009e00\",\"#00a100\",\"#00a400\",\"#00a600\",\"#00a900\",\"#00ac00\",\"#00ae00\",\"#00b100\",\"#00b400\",\"#00b600\",\"#00b900\",\"#00bc00\",\"#00be00\",\"#00c100\",\"#00c400\",\"#00c600\",\"#00c900\",\"#00cc00\",\"#00cf00\",\"#00d100\",\"#00d400\",\"#00d700\",\"#00d900\",\"#00dc00\",\"#00df00\",\"#00e100\",\"#00e400\",\"#00e700\",\"#00e900\",\"#00ec00\",\"#00ef00\",\"#00f100\",\"#00f400\",\"#00f700\",\"#00f900\",\"#00fc00\",\"#00ff00\",\"#0eff00\",\"#1dff00\",\"#2bff00\",\"#3aff00\",\"#49ff00\",\"#57ff00\",\"#66ff00\",\"#75ff00\",\"#83ff00\",\"#92ff00\",\"#a1ff00\",\"#afff00\",\"#bbfe00\",\"#bffd00\",\"#c3fb00\",\"#c7fa00\",\"#cbf900\",\"#cff700\",\"#d3f600\",\"#d7f500\",\"#dbf300\",\"#dff200\",\"#e3f100\",\"#e7ef00\",\"#ebee00\",\"#eeec00\",\"#efe900\",\"#f1e700\",\"#f2e400\",\"#f3e100\",\"#f5df00\",\"#f6dc00\",\"#f7d900\",\"#f9d700\",\"#fad400\",\"#fbd100\",\"#fdcf00\",\"#fecc00\",\"#ffc900\",\"#ffc500\",\"#ffc100\",\"#ffbd00\",\"#ffb900\",\"#ffb500\",\"#ffb100\",\"#ffad00\",\"#ffa900\",\"#ffa500\",\"#ffa100\",\"#ff9d00\",\"#ff9900\",\"#ff8d00\",\"#ff8100\",\"#ff7500\",\"#ff6900\",\"#ff5d00\",\"#ff5100\",\"#ff4500\",\"#ff3900\",\"#ff2c00\",\"#ff2000\",\"#ff1400\",\"#ff0800\",\"#fe0000\",\"#fb0000\",\"#f90000\",\"#f60000\",\"#f30000\",\"#f10000\",\"#ee0000\",\"#eb0000\",\"#e90000\",\"#e60000\",\"#e30000\",\"#e10000\",\"#de0000\",\"#dc0000\",\"#db0000\",\"#d90000\",\"#d80000\",\"#d70000\",\"#d50000\",\"#d40000\",\"#d30000\",\"#d10000\",\"#d00000\",\"#cf0000\",\"#cd0000\",\"#cc0000\",\"#cc0c0c\",\"#cc1b1b\",\"#cc2c2c\",\"#cc3c3c\",\"#cc4c4c\",\"#cc5c5c\",\"#cc6c6c\",\"#cc7c7c\",\"#cc8c8c\",\"#cc9c9c\",\"#ccacac\",\"#ccbcbc\",\"#cccccc\"]},\"id\":\"22857\",\"type\":\"LinearColorMapper\"},{\"attributes\":{\"margin\":[5,5,5,5],\"name\":\"HSpacer46997\",\"sizing_mode\":\"stretch_width\"},\"id\":\"22782\",\"type\":\"Spacer\"},{\"attributes\":{\"dimension\":\"lat\",\"mantissas\":[1,2,5]},\"id\":\"22828\",\"type\":\"MercatorTicker\"},{\"attributes\":{},\"id\":\"22832\",\"type\":\"AllLabels\"},{\"attributes\":{\"axis\":{\"id\":\"22803\"},\"coordinates\":null,\"grid_line_color\":null,\"group\":null,\"ticker\":null},\"id\":\"22806\",\"type\":\"Grid\"},{\"attributes\":{\"end\":-8019206.850143675,\"min_interval\":5,\"reset_end\":-8019206.850143675,\"reset_start\":-12666195.40059631,\"start\":-12666195.40059631,\"tags\":[[[\"Longitude\",\"Longitude\",null]]]},\"id\":\"22787\",\"type\":\"Range1d\"},{\"attributes\":{},\"id\":\"22799\",\"type\":\"LinearScale\"},{\"attributes\":{\"children\":[{\"id\":\"22909\"},{\"id\":\"22910\"}],\"margin\":[0,0,0,0],\"min_width\":290,\"name\":\"Column46991\",\"width\":290},\"id\":\"22908\",\"type\":\"Column\"},{\"attributes\":{\"coordinates\":null,\"group\":null,\"text\":\"Monthly Regional Consumer Prices 2012/01-2020/09\",\"text_color\":\"black\",\"text_font_size\":\"12pt\"},\"id\":\"22795\",\"type\":\"Title\"},{\"attributes\":{\"end\":5731286.489284337,\"min_interval\":5,\"reset_end\":5731286.489284337,\"reset_start\":3407792.2140580197,\"start\":3407792.2140580197,\"tags\":[[[\"Latitude\",\"Latitude\",null]]]},\"id\":\"22788\",\"type\":\"Range1d\"},{\"attributes\":{\"margin\":[5,5,5,5],\"name\":\"VSpacer46994\",\"sizing_mode\":\"stretch_height\"},\"id\":\"22906\",\"type\":\"Spacer\"},{\"attributes\":{\"code\":\"\\n        var projections = Bokeh.require(\\\"core/util/projections\\\");\\n        var x = special_vars.data_x\\n        var y = special_vars.data_y\\n        if (projections.wgs84_mercator.invert == null) {\\n          var coords = projections.wgs84_mercator.inverse([x, y])\\n        } else {\\n          var coords = projections.wgs84_mercator.invert(x, y)\\n        }\\n        return \\\"\\\" + (coords[0]).toFixed(4)\\n    \"},\"id\":\"22870\",\"type\":\"CustomJSHover\"},{\"attributes\":{\"margin\":[5,5,5,5],\"name\":\"VSpacer46995\",\"sizing_mode\":\"stretch_height\"},\"id\":\"22911\",\"type\":\"Spacer\"},{\"attributes\":{\"args\":{\"bidirectional\":false,\"properties\":{},\"source\":{\"id\":\"22910\"},\"target\":{\"id\":\"22909\"}},\"code\":\"try { \\n    var labels = ['Date: <b>20120101</b>', 'Date: <b>20120201</b>', 'Date: <b>20120301</b>', 'Date: <b>20120401</b>', 'Date: <b>20120501</b>', 'Date: <b>20120601</b>', 'Date: <b>20120701</b>', 'Date: <b>20120801</b>', 'Date: <b>20120901</b>', 'Date: <b>20121001</b>', 'Date: <b>20121101</b>', 'Date: <b>20121201</b>', 'Date: <b>20130101</b>', 'Date: <b>20130201</b>', 'Date: <b>20130301</b>', 'Date: <b>20130401</b>', 'Date: <b>20130501</b>', 'Date: <b>20130601</b>', 'Date: <b>20130701</b>', 'Date: <b>20130801</b>', 'Date: <b>20130901</b>', 'Date: <b>20131001</b>', 'Date: <b>20131101</b>', 'Date: <b>20131201</b>', 'Date: <b>20140101</b>', 'Date: <b>20140201</b>', 'Date: <b>20140301</b>', 'Date: <b>20140401</b>', 'Date: <b>20140501</b>', 'Date: <b>20140601</b>', 'Date: <b>20140701</b>', 'Date: <b>20140801</b>', 'Date: <b>20140901</b>', 'Date: <b>20141001</b>', 'Date: <b>20141101</b>', 'Date: <b>20141201</b>', 'Date: <b>20150101</b>', 'Date: <b>20150201</b>', 'Date: <b>20150301</b>', 'Date: <b>20150401</b>', 'Date: <b>20150501</b>', 'Date: <b>20150601</b>', 'Date: <b>20150701</b>', 'Date: <b>20150801</b>', 'Date: <b>20150901</b>', 'Date: <b>20151001</b>', 'Date: <b>20151101</b>', 'Date: <b>20151201</b>', 'Date: <b>20160101</b>', 'Date: <b>20160201</b>', 'Date: <b>20160301</b>', 'Date: <b>20160401</b>', 'Date: <b>20160501</b>', 'Date: <b>20160601</b>', 'Date: <b>20160701</b>', 'Date: <b>20160801</b>', 'Date: <b>20160901</b>', 'Date: <b>20161001</b>', 'Date: <b>20161101</b>', 'Date: <b>20161201</b>', 'Date: <b>20170101</b>', 'Date: <b>20170201</b>', 'Date: <b>20170301</b>', 'Date: <b>20170401</b>', 'Date: <b>20170501</b>', 'Date: <b>20170601</b>', 'Date: <b>20170701</b>', 'Date: <b>20170801</b>', 'Date: <b>20170901</b>', 'Date: <b>20171001</b>', 'Date: <b>20171101</b>', 'Date: <b>20171201</b>', 'Date: <b>20180101</b>', 'Date: <b>20180201</b>', 'Date: <b>20180301</b>', 'Date: <b>20180401</b>', 'Date: <b>20180501</b>', 'Date: <b>20180601</b>', 'Date: <b>20180701</b>', 'Date: <b>20180801</b>', 'Date: <b>20180901</b>', 'Date: <b>20181001</b>', 'Date: <b>20181101</b>', 'Date: <b>20181201</b>', 'Date: <b>20190101</b>', 'Date: <b>20190201</b>', 'Date: <b>20190301</b>', 'Date: <b>20190401</b>', 'Date: <b>20190501</b>', 'Date: <b>20190601</b>', 'Date: <b>20190701</b>', 'Date: <b>20190801</b>', 'Date: <b>20190901</b>', 'Date: <b>20191001</b>', 'Date: <b>20191101</b>', 'Date: <b>20191201</b>', 'Date: <b>20200101</b>', 'Date: <b>20200201</b>', 'Date: <b>20200301</b>', 'Date: <b>20200401</b>', 'Date: <b>20200501</b>', 'Date: <b>20200601</b>', 'Date: <b>20200701</b>', 'Date: <b>20200801</b>', 'Date: <b>20200901</b>', 'Date: <b>20201001</b>', 'Date: <b>20201101</b>', 'Date: <b>20201201</b>', 'Date: <b>20210101</b>', 'Date: <b>20210201</b>', 'Date: <b>20210301</b>', 'Date: <b>20210401</b>', 'Date: <b>20210501</b>', 'Date: <b>20210601</b>', 'Date: <b>20210701</b>', 'Date: <b>20210801</b>', 'Date: <b>20210901</b>', 'Date: <b>20211001</b>', 'Date: <b>20211101</b>', 'Date: <b>20211201</b>', 'Date: <b>20220101</b>', 'Date: <b>20220201</b>', 'Date: <b>20220301</b>', 'Date: <b>20220401</b>', 'Date: <b>20220501</b>', 'Date: <b>20220601</b>', 'Date: <b>20220701</b>', 'Date: <b>20220801</b>', 'Date: <b>20220901</b>']\\n    target.text = labels[source.value]\\n     } catch(err) { console.log(err) }\",\"tags\":[[140533767207616,[null,\"value\"],[null,null]]]},\"id\":\"22919\",\"type\":\"CustomJS\"},{\"attributes\":{\"axis_label\":\"Longitude\",\"coordinates\":null,\"formatter\":{\"id\":\"22827\"},\"group\":null,\"major_label_policy\":{\"id\":\"22832\"},\"ticker\":{\"id\":\"22826\"}},\"id\":\"22803\",\"type\":\"LinearAxis\"},{\"attributes\":{\"code\":\"\\n        var projections = Bokeh.require(\\\"core/util/projections\\\");\\n        var x = special_vars.data_x\\n        var y = special_vars.data_y\\n        if (projections.wgs84_mercator.invert == null) {\\n          var coords = projections.wgs84_mercator.inverse([x, y])\\n        } else {\\n          var coords = projections.wgs84_mercator.invert(x, y)\\n        }\\n        return \\\"\\\" + (coords[1]).toFixed(4)\\n    \"},\"id\":\"22871\",\"type\":\"CustomJSHover\"},{\"attributes\":{\"bar_line_color\":\"black\",\"color_mapper\":{\"id\":\"22857\"},\"coordinates\":null,\"group\":null,\"label_standoff\":8,\"location\":[0,0],\"major_label_policy\":{\"id\":\"22874\"},\"major_tick_line_color\":\"black\",\"ticker\":{\"id\":\"22868\"},\"title\":\"Price\"},\"id\":\"22869\",\"type\":\"ColorBar\"},{\"attributes\":{\"margin\":[20,0,0,20],\"name\":\"\",\"style\":{\"white-space\":\"nowrap\"},\"text\":\"Date: <b>20120101</b>\",\"width\":250},\"id\":\"22909\",\"type\":\"Div\"},{\"attributes\":{},\"id\":\"22812\",\"type\":\"PanTool\"},{\"attributes\":{\"end\":128,\"js_property_callbacks\":{\"change:value\":[{\"id\":\"22919\"}]},\"margin\":[0,20,20,20],\"min_width\":250,\"show_value\":false,\"start\":0,\"tooltips\":false,\"value\":0,\"width\":250},\"id\":\"22910\",\"type\":\"Slider\"},{\"attributes\":{\"axis\":{\"id\":\"22807\"},\"coordinates\":null,\"dimension\":1,\"grid_line_color\":null,\"group\":null,\"ticker\":null},\"id\":\"22810\",\"type\":\"Grid\"},{\"attributes\":{\"axis_label\":\"Latitude\",\"coordinates\":null,\"formatter\":{\"id\":\"22829\"},\"group\":null,\"major_label_policy\":{\"id\":\"22839\"},\"ticker\":{\"id\":\"22828\"}},\"id\":\"22807\",\"type\":\"LinearAxis\"},{\"attributes\":{\"dimension\":\"lat\"},\"id\":\"22829\",\"type\":\"MercatorTickFormatter\"},{\"attributes\":{\"children\":[{\"id\":\"22906\"},{\"id\":\"22907\"},{\"id\":\"22911\"}],\"margin\":[0,0,0,0],\"name\":\"Column46996\"},\"id\":\"22905\",\"type\":\"Column\"},{\"attributes\":{\"callback\":null,\"formatters\":{\"$x\":{\"id\":\"22870\"},\"$y\":{\"id\":\"22871\"}},\"renderers\":[{\"id\":\"22866\"}],\"tags\":[\"hv_created\"],\"tooltips\":[[\"Longitude\",\"$x{custom}\"],[\"Latitude\",\"$y{custom}\"],[\"Price\",\"@{Price}\"]]},\"id\":\"22791\",\"type\":\"HoverTool\"},{\"attributes\":{\"source\":{\"id\":\"22858\"}},\"id\":\"22867\",\"type\":\"CDSView\"},{\"attributes\":{\"dimension\":\"lon\",\"mantissas\":[1,2,5]},\"id\":\"22826\",\"type\":\"MercatorTicker\"},{\"attributes\":{\"dimension\":\"lon\"},\"id\":\"22827\",\"type\":\"MercatorTickFormatter\"},{\"attributes\":{},\"id\":\"22868\",\"type\":\"BasicTicker\"},{\"attributes\":{\"fill_alpha\":{\"value\":0.2},\"fill_color\":{\"field\":\"color\",\"transform\":{\"id\":\"22857\"}},\"hatch_alpha\":{\"value\":0.2},\"hatch_color\":{\"field\":\"color\",\"transform\":{\"id\":\"22857\"}},\"line_alpha\":{\"value\":0.2},\"line_color\":{\"field\":\"color\",\"transform\":{\"id\":\"22857\"}},\"size\":{\"field\":\"size\"},\"x\":{\"field\":\"Longitude\"},\"y\":{\"field\":\"Latitude\"}},\"id\":\"22865\",\"type\":\"Scatter\"},{\"attributes\":{\"fill_color\":{\"field\":\"color\",\"transform\":{\"id\":\"22857\"}},\"hatch_color\":{\"field\":\"color\",\"transform\":{\"id\":\"22857\"}},\"line_color\":{\"field\":\"color\",\"transform\":{\"id\":\"22857\"}},\"size\":{\"field\":\"size\"},\"x\":{\"field\":\"Longitude\"},\"y\":{\"field\":\"Latitude\"}},\"id\":\"22861\",\"type\":\"Scatter\"}],\"root_ids\":[\"22781\",\"22934\"]},\"title\":\"Bokeh Application\",\"version\":\"2.4.3\"}};\n",
       "    var render_items = [{\"docid\":\"b225421d-e76c-4db0-b77a-6d8d6c399a15\",\"root_ids\":[\"22781\"],\"roots\":{\"22781\":\"ca6435ce-9046-4ba5-9c6f-a9433e890213\"}}];\n",
       "    root.Bokeh.embed.embed_items_notebook(docs_json, render_items);\n",
       "    for (const render_item of render_items) {\n",
       "      for (const root_id of render_item.root_ids) {\n",
       "\tconst id_el = document.getElementById(root_id)\n",
       "\tif (id_el.children.length && (id_el.children[0].className === 'bk-root')) {\n",
       "\t  const root_el = id_el.children[0]\n",
       "\t  root_el.id = root_el.id + '-rendered'\n",
       "\t}\n",
       "      }\n",
       "    }\n",
       "  }\n",
       "  if (root.Bokeh !== undefined && root.Bokeh.Panel !== undefined) {\n",
       "    embed_document(root);\n",
       "  } else {\n",
       "    var attempts = 0;\n",
       "    var timer = setInterval(function(root) {\n",
       "      if (root.Bokeh !== undefined && root.Bokeh.Panel !== undefined) {\n",
       "        clearInterval(timer);\n",
       "        embed_document(root);\n",
       "      } else if (document.readyState == \"complete\") {\n",
       "        attempts++;\n",
       "        if (attempts > 200) {\n",
       "          clearInterval(timer);\n",
       "          console.log(\"Bokeh: ERROR: Unable to run BokehJS code because BokehJS library is missing\");\n",
       "        }\n",
       "      }\n",
       "    }, 25, root)\n",
       "  }\n",
       "})(window);</script>"
      ],
      "text/plain": [
       ":DynamicMap   [Date]\n",
       "   :Overlay\n",
       "      .Tiles.I  :Tiles   [x,y]\n",
       "      .Points.I :Points   [Longitude,Latitude]   (Price)"
      ]
     },
     "execution_count": 159,
     "metadata": {
      "application/vnd.holoviews_exec.v0+json": {
       "id": "22781"
      }
     },
     "output_type": "execute_result"
    }
   ],
   "source": [
    "all_regions_mapped_df.hvplot.points(\n",
    "    'Longitude',\n",
    "    'Latitude',\n",
    "    geo=True,\n",
    "    size='Price',\n",
    "    color='Price',\n",
    "    cmap='nipy_spectral',\n",
    "    scale=4,\n",
    "    groupby='Date',\n",
    "    ylabel='Latitude',\n",
    "    xlabel='Longitude',\n",
    "    clabel='Price',\n",
    "    clim=(220,315),\n",
    "    frame_width=1000,\n",
    "    frame_height=500,\n",
    "    tiles='OSM',\n",
    "    title='Monthly Regional Consumer Prices 2012/01-2020/09'\n",
    ")"
   ]
  },
  {
   "cell_type": "code",
   "execution_count": 168,
   "id": "41d08401-9c33-4afe-8e02-c2d0a5c409d2",
   "metadata": {},
   "outputs": [
    {
     "data": {},
     "metadata": {},
     "output_type": "display_data"
    },
    {
     "data": {
      "application/vnd.holoviews_exec.v0+json": "",
      "text/html": [
       "<div id='27359'>\n",
       "  <div class=\"bk-root\" id=\"91f9a034-6866-4991-ab52-a2068c9052d4\" data-root-id=\"27359\"></div>\n",
       "</div>\n",
       "<script type=\"application/javascript\">(function(root) {\n",
       "  function embed_document(root) {\n",
       "    var docs_json = {\"93ef2b56-2869-4c6d-b8ea-5c056f6b61f9\":{\"defs\":[{\"extends\":null,\"module\":null,\"name\":\"ReactiveHTML1\",\"overrides\":[],\"properties\":[]},{\"extends\":null,\"module\":null,\"name\":\"FlexBox1\",\"overrides\":[],\"properties\":[{\"default\":\"flex-start\",\"kind\":null,\"name\":\"align_content\"},{\"default\":\"flex-start\",\"kind\":null,\"name\":\"align_items\"},{\"default\":\"row\",\"kind\":null,\"name\":\"flex_direction\"},{\"default\":\"wrap\",\"kind\":null,\"name\":\"flex_wrap\"},{\"default\":\"flex-start\",\"kind\":null,\"name\":\"justify_content\"}]},{\"extends\":null,\"module\":null,\"name\":\"GridStack1\",\"overrides\":[],\"properties\":[{\"default\":\"warn\",\"kind\":null,\"name\":\"mode\"},{\"default\":null,\"kind\":null,\"name\":\"ncols\"},{\"default\":null,\"kind\":null,\"name\":\"nrows\"},{\"default\":true,\"kind\":null,\"name\":\"allow_resize\"},{\"default\":true,\"kind\":null,\"name\":\"allow_drag\"},{\"default\":[],\"kind\":null,\"name\":\"state\"}]},{\"extends\":null,\"module\":null,\"name\":\"click1\",\"overrides\":[],\"properties\":[{\"default\":\"\",\"kind\":null,\"name\":\"terminal_output\"},{\"default\":\"\",\"kind\":null,\"name\":\"debug_name\"},{\"default\":0,\"kind\":null,\"name\":\"clears\"}]},{\"extends\":null,\"module\":null,\"name\":\"NotificationAreaBase1\",\"overrides\":[],\"properties\":[{\"default\":\"bottom-right\",\"kind\":null,\"name\":\"position\"},{\"default\":0,\"kind\":null,\"name\":\"_clear\"}]},{\"extends\":null,\"module\":null,\"name\":\"NotificationArea1\",\"overrides\":[],\"properties\":[{\"default\":[],\"kind\":null,\"name\":\"notifications\"},{\"default\":\"bottom-right\",\"kind\":null,\"name\":\"position\"},{\"default\":0,\"kind\":null,\"name\":\"_clear\"},{\"default\":[{\"background\":\"#ffc107\",\"icon\":{\"className\":\"fas fa-exclamation-triangle\",\"color\":\"white\",\"tagName\":\"i\"},\"type\":\"warning\"},{\"background\":\"#007bff\",\"icon\":{\"className\":\"fas fa-info-circle\",\"color\":\"white\",\"tagName\":\"i\"},\"type\":\"info\"}],\"kind\":null,\"name\":\"types\"}]},{\"extends\":null,\"module\":null,\"name\":\"Notification\",\"overrides\":[],\"properties\":[{\"default\":null,\"kind\":null,\"name\":\"background\"},{\"default\":3000,\"kind\":null,\"name\":\"duration\"},{\"default\":null,\"kind\":null,\"name\":\"icon\"},{\"default\":\"\",\"kind\":null,\"name\":\"message\"},{\"default\":null,\"kind\":null,\"name\":\"notification_type\"},{\"default\":false,\"kind\":null,\"name\":\"_destroyed\"}]},{\"extends\":null,\"module\":null,\"name\":\"TemplateActions1\",\"overrides\":[],\"properties\":[{\"default\":0,\"kind\":null,\"name\":\"open_modal\"},{\"default\":0,\"kind\":null,\"name\":\"close_modal\"}]},{\"extends\":null,\"module\":null,\"name\":\"MaterialTemplateActions1\",\"overrides\":[],\"properties\":[{\"default\":0,\"kind\":null,\"name\":\"open_modal\"},{\"default\":0,\"kind\":null,\"name\":\"close_modal\"}]}],\"roots\":{\"references\":[{\"attributes\":{\"fill_color\":{\"field\":\"color\",\"transform\":{\"id\":\"27435\"}},\"hatch_color\":{\"field\":\"color\",\"transform\":{\"id\":\"27435\"}},\"line_color\":{\"field\":\"color\",\"transform\":{\"id\":\"27435\"}},\"size\":{\"field\":\"size\"},\"x\":{\"field\":\"Longitude\"},\"y\":{\"field\":\"Latitude\"}},\"id\":\"27439\",\"type\":\"Scatter\"},{\"attributes\":{},\"id\":\"27377\",\"type\":\"LinearScale\"},{\"attributes\":{\"axis\":{\"id\":\"27381\"},\"coordinates\":null,\"grid_line_color\":null,\"group\":null,\"ticker\":null},\"id\":\"27384\",\"type\":\"Grid\"},{\"attributes\":{\"margin\":[5,5,5,5],\"name\":\"VSpacer54781\",\"sizing_mode\":\"stretch_height\"},\"id\":\"27484\",\"type\":\"Spacer\"},{\"attributes\":{},\"id\":\"27452\",\"type\":\"NoOverlap\"},{\"attributes\":{\"dimension\":\"lon\",\"mantissas\":[1,2,5]},\"id\":\"27404\",\"type\":\"MercatorTicker\"},{\"attributes\":{\"dimension\":\"lat\",\"mantissas\":[1,2,5]},\"id\":\"27406\",\"type\":\"MercatorTicker\"},{\"attributes\":{},\"id\":\"27379\",\"type\":\"LinearScale\"},{\"attributes\":{\"callback\":null,\"formatters\":{\"$x\":{\"id\":\"27448\"},\"$y\":{\"id\":\"27449\"}},\"renderers\":[{\"id\":\"27444\"}],\"tags\":[\"hv_created\"],\"tooltips\":[[\"Longitude\",\"$x{custom}\"],[\"Latitude\",\"$y{custom}\"],[\"Mean\",\"@{Mean}\"]]},\"id\":\"27369\",\"type\":\"HoverTool\"},{\"attributes\":{\"bar_line_color\":\"black\",\"color_mapper\":{\"id\":\"27435\"},\"coordinates\":null,\"group\":null,\"label_standoff\":8,\"location\":[0,0],\"major_label_policy\":{\"id\":\"27452\"},\"major_tick_line_color\":\"black\",\"ticker\":{\"id\":\"27446\"},\"title\":\"Average Yearly Percent Change\"},\"id\":\"27447\",\"type\":\"ColorBar\"},{\"attributes\":{\"attribution\":\"&copy; <a href=\\\"https://www.openstreetmap.org/copyright\\\">OpenStreetMap</a> contributors\",\"url\":\"https://c.tile.openstreetmap.org/{Z}/{X}/{Y}.png\"},\"id\":\"27430\",\"type\":\"WMTSTileSource\"},{\"attributes\":{\"below\":[{\"id\":\"27381\"}],\"center\":[{\"id\":\"27384\"},{\"id\":\"27388\"}],\"frame_height\":500,\"frame_width\":1000,\"height\":null,\"left\":[{\"id\":\"27385\"}],\"margin\":[5,5,5,5],\"match_aspect\":true,\"min_border_bottom\":10,\"min_border_left\":10,\"min_border_right\":10,\"min_border_top\":10,\"renderers\":[{\"id\":\"27433\"},{\"id\":\"27444\"}],\"right\":[{\"id\":\"27447\"}],\"sizing_mode\":\"fixed\",\"title\":{\"id\":\"27373\"},\"toolbar\":{\"id\":\"27395\"},\"width\":null,\"x_range\":{\"id\":\"27365\"},\"x_scale\":{\"id\":\"27377\"},\"y_range\":{\"id\":\"27366\"},\"y_scale\":{\"id\":\"27379\"}},\"id\":\"27372\",\"subtype\":\"Figure\",\"type\":\"Plot\"},{\"attributes\":{\"children\":[{\"id\":\"27484\"},{\"id\":\"27485\"},{\"id\":\"27489\"}],\"margin\":[0,0,0,0],\"name\":\"Column54783\"},\"id\":\"27483\",\"type\":\"Column\"},{\"attributes\":{\"coordinates\":null,\"group\":null,\"level\":\"glyph\",\"tile_source\":{\"id\":\"27430\"}},\"id\":\"27433\",\"type\":\"TileRenderer\"},{\"attributes\":{},\"id\":\"27390\",\"type\":\"PanTool\"},{\"attributes\":{\"children\":[{\"id\":\"27487\"},{\"id\":\"27488\"}],\"margin\":[0,0,0,0],\"min_width\":290,\"name\":\"Column54778\",\"width\":290},\"id\":\"27486\",\"type\":\"Column\"},{\"attributes\":{\"children\":[{\"id\":\"27360\"},{\"id\":\"27372\"},{\"id\":\"27482\"},{\"id\":\"27483\"}],\"margin\":[0,0,0,0],\"name\":\"Row54768\"},\"id\":\"27359\",\"type\":\"Row\"},{\"attributes\":{},\"id\":\"27393\",\"type\":\"ResetTool\"},{\"attributes\":{},\"id\":\"27417\",\"type\":\"AllLabels\"},{\"attributes\":{\"margin\":[5,5,5,5],\"name\":\"HSpacer54784\",\"sizing_mode\":\"stretch_width\"},\"id\":\"27360\",\"type\":\"Spacer\"},{\"attributes\":{\"fill_alpha\":{\"value\":0.1},\"fill_color\":{\"field\":\"color\",\"transform\":{\"id\":\"27435\"}},\"hatch_alpha\":{\"value\":0.1},\"hatch_color\":{\"field\":\"color\",\"transform\":{\"id\":\"27435\"}},\"line_alpha\":{\"value\":0.1},\"line_color\":{\"field\":\"color\",\"transform\":{\"id\":\"27435\"}},\"size\":{\"field\":\"size\"},\"x\":{\"field\":\"Longitude\"},\"y\":{\"field\":\"Latitude\"}},\"id\":\"27440\",\"type\":\"Scatter\"},{\"attributes\":{\"coordinates\":null,\"group\":null,\"text\":\"Average Yearly Regional Consumer Price Percentage Change 2012-2019\",\"text_color\":\"black\",\"text_font_size\":\"12pt\"},\"id\":\"27373\",\"type\":\"Title\"},{\"attributes\":{\"fill_color\":{\"field\":\"color\",\"transform\":{\"id\":\"27435\"}},\"hatch_color\":{\"field\":\"color\",\"transform\":{\"id\":\"27435\"}},\"line_color\":{\"field\":\"color\",\"transform\":{\"id\":\"27435\"}},\"size\":{\"field\":\"size\"},\"x\":{\"field\":\"Longitude\"},\"y\":{\"field\":\"Latitude\"}},\"id\":\"27442\",\"type\":\"Scatter\"},{\"attributes\":{\"fill_alpha\":{\"value\":0.2},\"fill_color\":{\"field\":\"color\",\"transform\":{\"id\":\"27435\"}},\"hatch_alpha\":{\"value\":0.2},\"hatch_color\":{\"field\":\"color\",\"transform\":{\"id\":\"27435\"}},\"line_alpha\":{\"value\":0.2},\"line_color\":{\"field\":\"color\",\"transform\":{\"id\":\"27435\"}},\"size\":{\"field\":\"size\"},\"x\":{\"field\":\"Longitude\"},\"y\":{\"field\":\"Latitude\"}},\"id\":\"27443\",\"type\":\"Scatter\"},{\"attributes\":{},\"id\":\"27437\",\"type\":\"Selection\"},{\"attributes\":{\"axis_label\":\"Longitude\",\"coordinates\":null,\"formatter\":{\"id\":\"27405\"},\"group\":null,\"major_label_policy\":{\"id\":\"27410\"},\"ticker\":{\"id\":\"27404\"}},\"id\":\"27381\",\"type\":\"LinearAxis\"},{\"attributes\":{\"fill_color\":{\"field\":\"color\",\"transform\":{\"id\":\"27435\"}},\"hatch_color\":{\"field\":\"color\",\"transform\":{\"id\":\"27435\"}},\"line_color\":{\"field\":\"color\",\"transform\":{\"id\":\"27435\"}},\"size\":{\"field\":\"size\"},\"x\":{\"field\":\"Longitude\"},\"y\":{\"field\":\"Latitude\"}},\"id\":\"27441\",\"type\":\"Scatter\"},{\"attributes\":{\"dimension\":\"lon\"},\"id\":\"27405\",\"type\":\"MercatorTickFormatter\"},{\"attributes\":{\"high\":0.0013344050567712423,\"low\":0.0010801232830841658,\"palette\":[\"#000000\",\"#09000a\",\"#120015\",\"#1c001f\",\"#25002a\",\"#2e0035\",\"#38003f\",\"#41004a\",\"#4a0055\",\"#54005f\",\"#5d006a\",\"#660075\",\"#70007f\",\"#770088\",\"#780089\",\"#7a008a\",\"#7b008c\",\"#7c008d\",\"#7e008e\",\"#7f0090\",\"#800091\",\"#810092\",\"#830094\",\"#840095\",\"#850096\",\"#870098\",\"#820099\",\"#77009b\",\"#6d009c\",\"#62009d\",\"#57009f\",\"#4d00a0\",\"#4200a1\",\"#3700a3\",\"#2d00a4\",\"#2200a5\",\"#1700a7\",\"#0d00a8\",\"#0200a9\",\"#0000ad\",\"#0000b1\",\"#0000b5\",\"#0000b9\",\"#0000bd\",\"#0000c1\",\"#0000c5\",\"#0000c9\",\"#0000cd\",\"#0000d1\",\"#0000d5\",\"#0000d9\",\"#0000dd\",\"#0009dd\",\"#0012dd\",\"#001cdd\",\"#0025dd\",\"#002edd\",\"#0038dd\",\"#0041dd\",\"#004add\",\"#0054dd\",\"#005ddd\",\"#0066dd\",\"#0070dd\",\"#0077dd\",\"#007add\",\"#007ddd\",\"#007fdd\",\"#0082dd\",\"#0085dd\",\"#0087dd\",\"#008add\",\"#008ddd\",\"#008fdd\",\"#0092dd\",\"#0095dd\",\"#0097dd\",\"#0099db\",\"#009bd7\",\"#009cd3\",\"#009dcf\",\"#009fcb\",\"#00a0c7\",\"#00a1c3\",\"#00a3bf\",\"#00a4bb\",\"#00a5b7\",\"#00a7b3\",\"#00a8af\",\"#00a9ab\",\"#00aaa8\",\"#00aaa5\",\"#00aaa2\",\"#00aaa0\",\"#00aa9d\",\"#00aa9a\",\"#00aa97\",\"#00aa95\",\"#00aa92\",\"#00aa8f\",\"#00aa8d\",\"#00aa8a\",\"#00aa87\",\"#00a87d\",\"#00a772\",\"#00a667\",\"#00a45d\",\"#00a352\",\"#00a247\",\"#00a03d\",\"#009f32\",\"#009e27\",\"#009c1d\",\"#009b12\",\"#009a07\",\"#009900\",\"#009c00\",\"#009e00\",\"#00a100\",\"#00a400\",\"#00a600\",\"#00a900\",\"#00ac00\",\"#00ae00\",\"#00b100\",\"#00b400\",\"#00b600\",\"#00b900\",\"#00bc00\",\"#00be00\",\"#00c100\",\"#00c400\",\"#00c600\",\"#00c900\",\"#00cc00\",\"#00cf00\",\"#00d100\",\"#00d400\",\"#00d700\",\"#00d900\",\"#00dc00\",\"#00df00\",\"#00e100\",\"#00e400\",\"#00e700\",\"#00e900\",\"#00ec00\",\"#00ef00\",\"#00f100\",\"#00f400\",\"#00f700\",\"#00f900\",\"#00fc00\",\"#00ff00\",\"#0eff00\",\"#1dff00\",\"#2bff00\",\"#3aff00\",\"#49ff00\",\"#57ff00\",\"#66ff00\",\"#75ff00\",\"#83ff00\",\"#92ff00\",\"#a1ff00\",\"#afff00\",\"#bbfe00\",\"#bffd00\",\"#c3fb00\",\"#c7fa00\",\"#cbf900\",\"#cff700\",\"#d3f600\",\"#d7f500\",\"#dbf300\",\"#dff200\",\"#e3f100\",\"#e7ef00\",\"#ebee00\",\"#eeec00\",\"#efe900\",\"#f1e700\",\"#f2e400\",\"#f3e100\",\"#f5df00\",\"#f6dc00\",\"#f7d900\",\"#f9d700\",\"#fad400\",\"#fbd100\",\"#fdcf00\",\"#fecc00\",\"#ffc900\",\"#ffc500\",\"#ffc100\",\"#ffbd00\",\"#ffb900\",\"#ffb500\",\"#ffb100\",\"#ffad00\",\"#ffa900\",\"#ffa500\",\"#ffa100\",\"#ff9d00\",\"#ff9900\",\"#ff8d00\",\"#ff8100\",\"#ff7500\",\"#ff6900\",\"#ff5d00\",\"#ff5100\",\"#ff4500\",\"#ff3900\",\"#ff2c00\",\"#ff2000\",\"#ff1400\",\"#ff0800\",\"#fe0000\",\"#fb0000\",\"#f90000\",\"#f60000\",\"#f30000\",\"#f10000\",\"#ee0000\",\"#eb0000\",\"#e90000\",\"#e60000\",\"#e30000\",\"#e10000\",\"#de0000\",\"#dc0000\",\"#db0000\",\"#d90000\",\"#d80000\",\"#d70000\",\"#d50000\",\"#d40000\",\"#d30000\",\"#d10000\",\"#d00000\",\"#cf0000\",\"#cd0000\",\"#cc0000\",\"#cc0c0c\",\"#cc1b1b\",\"#cc2c2c\",\"#cc3c3c\",\"#cc4c4c\",\"#cc5c5c\",\"#cc6c6c\",\"#cc7c7c\",\"#cc8c8c\",\"#cc9c9c\",\"#ccacac\",\"#ccbcbc\",\"#cccccc\"]},\"id\":\"27435\",\"type\":\"LinearColorMapper\"},{\"attributes\":{\"axis_label\":\"Latitude\",\"coordinates\":null,\"formatter\":{\"id\":\"27407\"},\"group\":null,\"major_label_policy\":{\"id\":\"27417\"},\"ticker\":{\"id\":\"27406\"}},\"id\":\"27385\",\"type\":\"LinearAxis\"},{\"attributes\":{\"axis\":{\"id\":\"27385\"},\"coordinates\":null,\"dimension\":1,\"grid_line_color\":null,\"group\":null,\"ticker\":null},\"id\":\"27388\",\"type\":\"Grid\"},{\"attributes\":{},\"id\":\"27454\",\"type\":\"UnionRenderers\"},{\"attributes\":{\"code\":\"\\n        var projections = Bokeh.require(\\\"core/util/projections\\\");\\n        var x = special_vars.data_x\\n        var y = special_vars.data_y\\n        if (projections.wgs84_mercator.invert == null) {\\n          var coords = projections.wgs84_mercator.inverse([x, y])\\n        } else {\\n          var coords = projections.wgs84_mercator.invert(x, y)\\n        }\\n        return \\\"\\\" + (coords[1]).toFixed(4)\\n    \"},\"id\":\"27449\",\"type\":\"CustomJSHover\"},{\"attributes\":{\"zoom_on_axis\":false},\"id\":\"27391\",\"type\":\"WheelZoomTool\"},{\"attributes\":{\"end\":5731286.489284337,\"min_interval\":5,\"reset_end\":5731286.489284337,\"reset_start\":3407792.2140580197,\"start\":3407792.2140580197,\"tags\":[[[\"Latitude\",\"Latitude\",null]]]},\"id\":\"27366\",\"type\":\"Range1d\"},{\"attributes\":{},\"id\":\"27389\",\"type\":\"SaveTool\"},{\"attributes\":{\"tools\":[{\"id\":\"27369\"},{\"id\":\"27389\"},{\"id\":\"27390\"},{\"id\":\"27391\"},{\"id\":\"27392\"},{\"id\":\"27393\"}]},\"id\":\"27395\",\"type\":\"Toolbar\"},{\"attributes\":{},\"id\":\"27446\",\"type\":\"BasicTicker\"},{\"attributes\":{\"bottom_units\":\"screen\",\"coordinates\":null,\"fill_alpha\":0.5,\"fill_color\":\"lightgrey\",\"group\":null,\"left_units\":\"screen\",\"level\":\"overlay\",\"line_alpha\":1.0,\"line_color\":\"black\",\"line_dash\":[4,4],\"line_width\":2,\"right_units\":\"screen\",\"syncable\":false,\"top_units\":\"screen\"},\"id\":\"27394\",\"type\":\"BoxAnnotation\"},{\"attributes\":{\"match_aspect\":true,\"overlay\":{\"id\":\"27394\"}},\"id\":\"27392\",\"type\":\"BoxZoomTool\"},{\"attributes\":{\"coordinates\":null,\"data_source\":{\"id\":\"27436\"},\"glyph\":{\"id\":\"27439\"},\"group\":null,\"hover_glyph\":{\"id\":\"27442\"},\"muted_glyph\":{\"id\":\"27443\"},\"nonselection_glyph\":{\"id\":\"27440\"},\"selection_glyph\":{\"id\":\"27441\"},\"view\":{\"id\":\"27445\"}},\"id\":\"27444\",\"type\":\"GlyphRenderer\"},{\"attributes\":{\"data\":{\"Latitude\":{\"__ndarray__\":\"Rqydtr+eU0GwdUniI/hSQZDpy+5DfE5BdbAxwlj8UkE=\",\"dtype\":\"float64\",\"order\":\"little\",\"shape\":[4]},\"Longitude\":{\"__ndarray__\":\"biJA7saaYsEJeG5fiGVfwYnsImnW6mHB1NNOGIfBZ8E=\",\"dtype\":\"float64\",\"order\":\"little\",\"shape\":[4]},\"Mean\":{\"__ndarray__\":\"AMSq+MJgUj8XUQWF5txVPy+wS4tdslE/uuospMDlUz8=\",\"dtype\":\"float64\",\"order\":\"little\",\"shape\":[4]},\"color\":{\"__ndarray__\":\"AMSq+MJgUj8XUQWF5txVPy+wS4tdslE/uuospMDlUz8=\",\"dtype\":\"float64\",\"order\":\"little\",\"shape\":[4]},\"size\":{\"__ndarray__\":\"xuGePPS+QEC2GcP2xkNCQL7IqNO/bkBAYVuFeahsQUA=\",\"dtype\":\"float64\",\"order\":\"little\",\"shape\":[4]}},\"selected\":{\"id\":\"27437\"},\"selection_policy\":{\"id\":\"27454\"}},\"id\":\"27436\",\"type\":\"ColumnDataSource\"},{\"attributes\":{\"code\":\"\\n        var projections = Bokeh.require(\\\"core/util/projections\\\");\\n        var x = special_vars.data_x\\n        var y = special_vars.data_y\\n        if (projections.wgs84_mercator.invert == null) {\\n          var coords = projections.wgs84_mercator.inverse([x, y])\\n        } else {\\n          var coords = projections.wgs84_mercator.invert(x, y)\\n        }\\n        return \\\"\\\" + (coords[0]).toFixed(4)\\n    \"},\"id\":\"27448\",\"type\":\"CustomJSHover\"},{\"attributes\":{\"margin\":[5,5,5,5],\"name\":\"HSpacer54785\",\"sizing_mode\":\"stretch_width\"},\"id\":\"27482\",\"type\":\"Spacer\"},{\"attributes\":{\"source\":{\"id\":\"27436\"}},\"id\":\"27445\",\"type\":\"CDSView\"},{\"attributes\":{\"margin\":[20,0,0,20],\"name\":\"\",\"style\":{\"white-space\":\"nowrap\"},\"text\":\"Year: <b>2012</b>\",\"width\":250},\"id\":\"27487\",\"type\":\"Div\"},{\"attributes\":{\"children\":[{\"id\":\"27486\"}],\"css_classes\":[\"panel-widget-box\"],\"margin\":[5,5,5,5],\"name\":\"WidgetBox54769\"},\"id\":\"27485\",\"type\":\"Column\"},{\"attributes\":{\"margin\":[5,5,5,5],\"name\":\"VSpacer54782\",\"sizing_mode\":\"stretch_height\"},\"id\":\"27489\",\"type\":\"Spacer\"},{\"attributes\":{},\"id\":\"27410\",\"type\":\"AllLabels\"},{\"attributes\":{\"end\":7,\"js_property_callbacks\":{\"change:value\":[{\"id\":\"27497\"}]},\"margin\":[0,20,20,20],\"min_width\":250,\"show_value\":false,\"start\":0,\"tooltips\":false,\"value\":0,\"width\":250},\"id\":\"27488\",\"type\":\"Slider\"},{\"attributes\":{\"dimension\":\"lat\"},\"id\":\"27407\",\"type\":\"MercatorTickFormatter\"},{\"attributes\":{\"client_comm_id\":\"4eee545261154c49a9ba981fab49ef75\",\"comm_id\":\"d0ba46e55e0b407a97162e66f4e7b845\",\"plot_id\":\"27359\"},\"id\":\"27512\",\"type\":\"panel.models.comm_manager.CommManager\"},{\"attributes\":{\"args\":{\"bidirectional\":false,\"properties\":{},\"source\":{\"id\":\"27488\"},\"target\":{\"id\":\"27487\"}},\"code\":\"try { \\n    var labels = ['Year: <b>2012</b>', 'Year: <b>2013</b>', 'Year: <b>2014</b>', 'Year: <b>2015</b>', 'Year: <b>2016</b>', 'Year: <b>2017</b>', 'Year: <b>2018</b>', 'Year: <b>2019</b>']\\n    target.text = labels[source.value]\\n     } catch(err) { console.log(err) }\",\"tags\":[[140532423381056,[null,\"value\"],[null,null]]]},\"id\":\"27497\",\"type\":\"CustomJS\"},{\"attributes\":{\"end\":-8019206.850143675,\"min_interval\":5,\"reset_end\":-8019206.850143675,\"reset_start\":-12666195.40059631,\"start\":-12666195.40059631,\"tags\":[[[\"Longitude\",\"Longitude\",null]]]},\"id\":\"27365\",\"type\":\"Range1d\"}],\"root_ids\":[\"27359\",\"27512\"]},\"title\":\"Bokeh Application\",\"version\":\"2.4.3\"}};\n",
       "    var render_items = [{\"docid\":\"93ef2b56-2869-4c6d-b8ea-5c056f6b61f9\",\"root_ids\":[\"27359\"],\"roots\":{\"27359\":\"91f9a034-6866-4991-ab52-a2068c9052d4\"}}];\n",
       "    root.Bokeh.embed.embed_items_notebook(docs_json, render_items);\n",
       "    for (const render_item of render_items) {\n",
       "      for (const root_id of render_item.root_ids) {\n",
       "\tconst id_el = document.getElementById(root_id)\n",
       "\tif (id_el.children.length && (id_el.children[0].className === 'bk-root')) {\n",
       "\t  const root_el = id_el.children[0]\n",
       "\t  root_el.id = root_el.id + '-rendered'\n",
       "\t}\n",
       "      }\n",
       "    }\n",
       "  }\n",
       "  if (root.Bokeh !== undefined && root.Bokeh.Panel !== undefined) {\n",
       "    embed_document(root);\n",
       "  } else {\n",
       "    var attempts = 0;\n",
       "    var timer = setInterval(function(root) {\n",
       "      if (root.Bokeh !== undefined && root.Bokeh.Panel !== undefined) {\n",
       "        clearInterval(timer);\n",
       "        embed_document(root);\n",
       "      } else if (document.readyState == \"complete\") {\n",
       "        attempts++;\n",
       "        if (attempts > 200) {\n",
       "          clearInterval(timer);\n",
       "          console.log(\"Bokeh: ERROR: Unable to run BokehJS code because BokehJS library is missing\");\n",
       "        }\n",
       "      }\n",
       "    }, 25, root)\n",
       "  }\n",
       "})(window);</script>"
      ],
      "text/plain": [
       ":DynamicMap   [Year]\n",
       "   :Overlay\n",
       "      .Tiles.I  :Tiles   [x,y]\n",
       "      .Points.I :Points   [Longitude,Latitude]   (Mean)"
      ]
     },
     "execution_count": 168,
     "metadata": {
      "application/vnd.holoviews_exec.v0+json": {
       "id": "27359"
      }
     },
     "output_type": "execute_result"
    }
   ],
   "source": [
    "all_regions_pct_before_2020.hvplot.points(\n",
    "    'Longitude',\n",
    "    'Latitude',\n",
    "    geo=True,\n",
    "    size='Mean',\n",
    "    color='Mean',\n",
    "    scale=1000,\n",
    "    groupby='Year',\n",
    "    ylabel='Latitude',\n",
    "    xlabel='Longitude',\n",
    "    cmap='nipy_spectral',\n",
    "    clabel='Average Yearly Percent Change',\n",
    "    frame_width=1000,\n",
    "    frame_height=500,\n",
    "    tiles='OSM',\n",
    "    title='Average Yearly Regional Consumer Price Percentage Change 2012-2019')"
   ]
  },
  {
   "cell_type": "code",
   "execution_count": 169,
   "id": "3d67696c-66c1-4233-8820-fc3f1900574e",
   "metadata": {},
   "outputs": [
    {
     "data": {},
     "metadata": {},
     "output_type": "display_data"
    },
    {
     "data": {
      "application/vnd.holoviews_exec.v0+json": "",
      "text/html": [
       "<div id='27548'>\n",
       "  <div class=\"bk-root\" id=\"bd55b777-f212-4fd1-9f17-7f4d4c2f6b53\" data-root-id=\"27548\"></div>\n",
       "</div>\n",
       "<script type=\"application/javascript\">(function(root) {\n",
       "  function embed_document(root) {\n",
       "    var docs_json = {\"f72b9e6a-f7c3-4fbd-ba11-c1ac9c8e3cc1\":{\"defs\":[{\"extends\":null,\"module\":null,\"name\":\"ReactiveHTML1\",\"overrides\":[],\"properties\":[]},{\"extends\":null,\"module\":null,\"name\":\"FlexBox1\",\"overrides\":[],\"properties\":[{\"default\":\"flex-start\",\"kind\":null,\"name\":\"align_content\"},{\"default\":\"flex-start\",\"kind\":null,\"name\":\"align_items\"},{\"default\":\"row\",\"kind\":null,\"name\":\"flex_direction\"},{\"default\":\"wrap\",\"kind\":null,\"name\":\"flex_wrap\"},{\"default\":\"flex-start\",\"kind\":null,\"name\":\"justify_content\"}]},{\"extends\":null,\"module\":null,\"name\":\"GridStack1\",\"overrides\":[],\"properties\":[{\"default\":\"warn\",\"kind\":null,\"name\":\"mode\"},{\"default\":null,\"kind\":null,\"name\":\"ncols\"},{\"default\":null,\"kind\":null,\"name\":\"nrows\"},{\"default\":true,\"kind\":null,\"name\":\"allow_resize\"},{\"default\":true,\"kind\":null,\"name\":\"allow_drag\"},{\"default\":[],\"kind\":null,\"name\":\"state\"}]},{\"extends\":null,\"module\":null,\"name\":\"click1\",\"overrides\":[],\"properties\":[{\"default\":\"\",\"kind\":null,\"name\":\"terminal_output\"},{\"default\":\"\",\"kind\":null,\"name\":\"debug_name\"},{\"default\":0,\"kind\":null,\"name\":\"clears\"}]},{\"extends\":null,\"module\":null,\"name\":\"NotificationAreaBase1\",\"overrides\":[],\"properties\":[{\"default\":\"bottom-right\",\"kind\":null,\"name\":\"position\"},{\"default\":0,\"kind\":null,\"name\":\"_clear\"}]},{\"extends\":null,\"module\":null,\"name\":\"NotificationArea1\",\"overrides\":[],\"properties\":[{\"default\":[],\"kind\":null,\"name\":\"notifications\"},{\"default\":\"bottom-right\",\"kind\":null,\"name\":\"position\"},{\"default\":0,\"kind\":null,\"name\":\"_clear\"},{\"default\":[{\"background\":\"#ffc107\",\"icon\":{\"className\":\"fas fa-exclamation-triangle\",\"color\":\"white\",\"tagName\":\"i\"},\"type\":\"warning\"},{\"background\":\"#007bff\",\"icon\":{\"className\":\"fas fa-info-circle\",\"color\":\"white\",\"tagName\":\"i\"},\"type\":\"info\"}],\"kind\":null,\"name\":\"types\"}]},{\"extends\":null,\"module\":null,\"name\":\"Notification\",\"overrides\":[],\"properties\":[{\"default\":null,\"kind\":null,\"name\":\"background\"},{\"default\":3000,\"kind\":null,\"name\":\"duration\"},{\"default\":null,\"kind\":null,\"name\":\"icon\"},{\"default\":\"\",\"kind\":null,\"name\":\"message\"},{\"default\":null,\"kind\":null,\"name\":\"notification_type\"},{\"default\":false,\"kind\":null,\"name\":\"_destroyed\"}]},{\"extends\":null,\"module\":null,\"name\":\"TemplateActions1\",\"overrides\":[],\"properties\":[{\"default\":0,\"kind\":null,\"name\":\"open_modal\"},{\"default\":0,\"kind\":null,\"name\":\"close_modal\"}]},{\"extends\":null,\"module\":null,\"name\":\"MaterialTemplateActions1\",\"overrides\":[],\"properties\":[{\"default\":0,\"kind\":null,\"name\":\"open_modal\"},{\"default\":0,\"kind\":null,\"name\":\"close_modal\"}]}],\"roots\":{\"references\":[{\"attributes\":{\"fill_color\":{\"field\":\"color\",\"transform\":{\"id\":\"27624\"}},\"hatch_color\":{\"field\":\"color\",\"transform\":{\"id\":\"27624\"}},\"line_color\":{\"field\":\"color\",\"transform\":{\"id\":\"27624\"}},\"size\":{\"field\":\"size\"},\"x\":{\"field\":\"Longitude\"},\"y\":{\"field\":\"Latitude\"}},\"id\":\"27631\",\"type\":\"Scatter\"},{\"attributes\":{},\"id\":\"27643\",\"type\":\"UnionRenderers\"},{\"attributes\":{\"fill_alpha\":{\"value\":0.1},\"fill_color\":{\"field\":\"color\",\"transform\":{\"id\":\"27624\"}},\"hatch_alpha\":{\"value\":0.1},\"hatch_color\":{\"field\":\"color\",\"transform\":{\"id\":\"27624\"}},\"line_alpha\":{\"value\":0.1},\"line_color\":{\"field\":\"color\",\"transform\":{\"id\":\"27624\"}},\"size\":{\"field\":\"size\"},\"x\":{\"field\":\"Longitude\"},\"y\":{\"field\":\"Latitude\"}},\"id\":\"27629\",\"type\":\"Scatter\"},{\"attributes\":{\"bottom_units\":\"screen\",\"coordinates\":null,\"fill_alpha\":0.5,\"fill_color\":\"lightgrey\",\"group\":null,\"left_units\":\"screen\",\"level\":\"overlay\",\"line_alpha\":1.0,\"line_color\":\"black\",\"line_dash\":[4,4],\"line_width\":2,\"right_units\":\"screen\",\"syncable\":false,\"top_units\":\"screen\"},\"id\":\"27583\",\"type\":\"BoxAnnotation\"},{\"attributes\":{\"children\":[{\"id\":\"27673\"},{\"id\":\"27674\"},{\"id\":\"27678\"}],\"margin\":[0,0,0,0],\"name\":\"Column54966\"},\"id\":\"27672\",\"type\":\"Column\"},{\"attributes\":{\"match_aspect\":true,\"overlay\":{\"id\":\"27583\"}},\"id\":\"27581\",\"type\":\"BoxZoomTool\"},{\"attributes\":{\"end\":-8019206.850143675,\"min_interval\":5,\"reset_end\":-8019206.850143675,\"reset_start\":-12666195.40059631,\"start\":-12666195.40059631,\"tags\":[[[\"Longitude\",\"Longitude\",null]]]},\"id\":\"27554\",\"type\":\"Range1d\"},{\"attributes\":{},\"id\":\"27599\",\"type\":\"AllLabels\"},{\"attributes\":{},\"id\":\"27582\",\"type\":\"ResetTool\"},{\"attributes\":{\"margin\":[5,5,5,5],\"name\":\"VSpacer54965\",\"sizing_mode\":\"stretch_height\"},\"id\":\"27678\",\"type\":\"Spacer\"},{\"attributes\":{\"code\":\"\\n        var projections = Bokeh.require(\\\"core/util/projections\\\");\\n        var x = special_vars.data_x\\n        var y = special_vars.data_y\\n        if (projections.wgs84_mercator.invert == null) {\\n          var coords = projections.wgs84_mercator.inverse([x, y])\\n        } else {\\n          var coords = projections.wgs84_mercator.invert(x, y)\\n        }\\n        return \\\"\\\" + (coords[1]).toFixed(4)\\n    \"},\"id\":\"27638\",\"type\":\"CustomJSHover\"},{\"attributes\":{\"fill_color\":{\"field\":\"color\",\"transform\":{\"id\":\"27624\"}},\"hatch_color\":{\"field\":\"color\",\"transform\":{\"id\":\"27624\"}},\"line_color\":{\"field\":\"color\",\"transform\":{\"id\":\"27624\"}},\"size\":{\"field\":\"size\"},\"x\":{\"field\":\"Longitude\"},\"y\":{\"field\":\"Latitude\"}},\"id\":\"27628\",\"type\":\"Scatter\"},{\"attributes\":{\"bar_line_color\":\"black\",\"color_mapper\":{\"id\":\"27624\"},\"coordinates\":null,\"group\":null,\"label_standoff\":8,\"location\":[0,0],\"major_label_policy\":{\"id\":\"27641\"},\"major_tick_line_color\":\"black\",\"ticker\":{\"id\":\"27635\"},\"title\":\"Average Yearly Percent Change\"},\"id\":\"27636\",\"type\":\"ColorBar\"},{\"attributes\":{\"axis\":{\"id\":\"27574\"},\"coordinates\":null,\"dimension\":1,\"grid_line_color\":null,\"group\":null,\"ticker\":null},\"id\":\"27577\",\"type\":\"Grid\"},{\"attributes\":{},\"id\":\"27606\",\"type\":\"AllLabels\"},{\"attributes\":{\"margin\":[5,5,5,5],\"name\":\"VSpacer54964\",\"sizing_mode\":\"stretch_height\"},\"id\":\"27673\",\"type\":\"Spacer\"},{\"attributes\":{\"attribution\":\"&copy; <a href=\\\"https://www.openstreetmap.org/copyright\\\">OpenStreetMap</a> contributors\",\"url\":\"https://c.tile.openstreetmap.org/{Z}/{X}/{Y}.png\"},\"id\":\"27619\",\"type\":\"WMTSTileSource\"},{\"attributes\":{},\"id\":\"27635\",\"type\":\"BasicTicker\"},{\"attributes\":{\"tools\":[{\"id\":\"27558\"},{\"id\":\"27578\"},{\"id\":\"27579\"},{\"id\":\"27580\"},{\"id\":\"27581\"},{\"id\":\"27582\"}]},\"id\":\"27584\",\"type\":\"Toolbar\"},{\"attributes\":{\"children\":[{\"id\":\"27675\"}],\"css_classes\":[\"panel-widget-box\"],\"margin\":[5,5,5,5],\"name\":\"WidgetBox54952\"},\"id\":\"27674\",\"type\":\"Column\"},{\"attributes\":{\"end\":5731286.489284337,\"min_interval\":5,\"reset_end\":5731286.489284337,\"reset_start\":3407792.2140580197,\"start\":3407792.2140580197,\"tags\":[[[\"Latitude\",\"Latitude\",null]]]},\"id\":\"27555\",\"type\":\"Range1d\"},{\"attributes\":{},\"id\":\"27626\",\"type\":\"Selection\"},{\"attributes\":{\"args\":{\"bidirectional\":false,\"properties\":{},\"source\":{\"id\":\"27677\"},\"target\":{\"id\":\"27676\"}},\"code\":\"try { \\n    var labels = ['Year: <b>2020</b>', 'Year: <b>2021</b>', 'Year: <b>2022</b>']\\n    target.text = labels[source.value]\\n     } catch(err) { console.log(err) }\",\"tags\":[[140534295911392,[null,\"value\"],[null,null]]]},\"id\":\"27686\",\"type\":\"CustomJS\"},{\"attributes\":{\"dimension\":\"lat\"},\"id\":\"27596\",\"type\":\"MercatorTickFormatter\"},{\"attributes\":{\"margin\":[20,0,0,20],\"name\":\"\",\"style\":{\"white-space\":\"nowrap\"},\"text\":\"Year: <b>2020</b>\",\"width\":250},\"id\":\"27676\",\"type\":\"Div\"},{\"attributes\":{\"coordinates\":null,\"group\":null,\"level\":\"glyph\",\"tile_source\":{\"id\":\"27619\"}},\"id\":\"27622\",\"type\":\"TileRenderer\"},{\"attributes\":{},\"id\":\"27578\",\"type\":\"SaveTool\"},{\"attributes\":{\"dimension\":\"lon\"},\"id\":\"27594\",\"type\":\"MercatorTickFormatter\"},{\"attributes\":{\"coordinates\":null,\"group\":null,\"text\":\"Average Yearly Regional Consumer Price Percentage Change 2020-2022\",\"text_color\":\"black\",\"text_font_size\":\"12pt\"},\"id\":\"27562\",\"type\":\"Title\"},{\"attributes\":{\"axis_label\":\"Longitude\",\"coordinates\":null,\"formatter\":{\"id\":\"27594\"},\"group\":null,\"major_label_policy\":{\"id\":\"27599\"},\"ticker\":{\"id\":\"27593\"}},\"id\":\"27570\",\"type\":\"LinearAxis\"},{\"attributes\":{\"zoom_on_axis\":false},\"id\":\"27580\",\"type\":\"WheelZoomTool\"},{\"attributes\":{\"callback\":null,\"formatters\":{\"$x\":{\"id\":\"27637\"},\"$y\":{\"id\":\"27638\"}},\"renderers\":[{\"id\":\"27633\"}],\"tags\":[\"hv_created\"],\"tooltips\":[[\"Longitude\",\"$x{custom}\"],[\"Latitude\",\"$y{custom}\"],[\"Mean\",\"@{Mean}\"]]},\"id\":\"27558\",\"type\":\"HoverTool\"},{\"attributes\":{\"dimension\":\"lat\",\"mantissas\":[1,2,5]},\"id\":\"27595\",\"type\":\"MercatorTicker\"},{\"attributes\":{},\"id\":\"27641\",\"type\":\"NoOverlap\"},{\"attributes\":{\"children\":[{\"id\":\"27549\"},{\"id\":\"27561\"},{\"id\":\"27671\"},{\"id\":\"27672\"}],\"margin\":[0,0,0,0],\"name\":\"Row54951\"},\"id\":\"27548\",\"type\":\"Row\"},{\"attributes\":{\"data\":{\"Latitude\":{\"__ndarray__\":\"Rqydtr+eU0GwdUniI/hSQZDpy+5DfE5BdbAxwlj8UkE=\",\"dtype\":\"float64\",\"order\":\"little\",\"shape\":[4]},\"Longitude\":{\"__ndarray__\":\"biJA7saaYsEJeG5fiGVfwYnsImnW6mHB1NNOGIfBZ8E=\",\"dtype\":\"float64\",\"order\":\"little\",\"shape\":[4]},\"Mean\":{\"__ndarray__\":\"AGxsIixYTz+rd7AmJB1TPyucdMvRyFI/AKQmEkoAVD8=\",\"dtype\":\"float64\",\"order\":\"little\",\"shape\":[4]},\"color\":{\"__ndarray__\":\"AGxsIixYTz+rd7AmJB1TPyucdMvRyFI/AKQmEkoAVD8=\",\"dtype\":\"float64\",\"order\":\"little\",\"shape\":[4]},\"size\":{\"__ndarray__\":\"iBJv/aDtPkAJe0nd7xNBQJbeWHAa7kBAV141J0N4QUA=\",\"dtype\":\"float64\",\"order\":\"little\",\"shape\":[4]}},\"selected\":{\"id\":\"27626\"},\"selection_policy\":{\"id\":\"27643\"}},\"id\":\"27625\",\"type\":\"ColumnDataSource\"},{\"attributes\":{},\"id\":\"27579\",\"type\":\"PanTool\"},{\"attributes\":{\"margin\":[5,5,5,5],\"name\":\"HSpacer54967\",\"sizing_mode\":\"stretch_width\"},\"id\":\"27549\",\"type\":\"Spacer\"},{\"attributes\":{\"high\":0.0012207721089032564,\"low\":0.0009565558910681338,\"palette\":[\"#000000\",\"#09000a\",\"#120015\",\"#1c001f\",\"#25002a\",\"#2e0035\",\"#38003f\",\"#41004a\",\"#4a0055\",\"#54005f\",\"#5d006a\",\"#660075\",\"#70007f\",\"#770088\",\"#780089\",\"#7a008a\",\"#7b008c\",\"#7c008d\",\"#7e008e\",\"#7f0090\",\"#800091\",\"#810092\",\"#830094\",\"#840095\",\"#850096\",\"#870098\",\"#820099\",\"#77009b\",\"#6d009c\",\"#62009d\",\"#57009f\",\"#4d00a0\",\"#4200a1\",\"#3700a3\",\"#2d00a4\",\"#2200a5\",\"#1700a7\",\"#0d00a8\",\"#0200a9\",\"#0000ad\",\"#0000b1\",\"#0000b5\",\"#0000b9\",\"#0000bd\",\"#0000c1\",\"#0000c5\",\"#0000c9\",\"#0000cd\",\"#0000d1\",\"#0000d5\",\"#0000d9\",\"#0000dd\",\"#0009dd\",\"#0012dd\",\"#001cdd\",\"#0025dd\",\"#002edd\",\"#0038dd\",\"#0041dd\",\"#004add\",\"#0054dd\",\"#005ddd\",\"#0066dd\",\"#0070dd\",\"#0077dd\",\"#007add\",\"#007ddd\",\"#007fdd\",\"#0082dd\",\"#0085dd\",\"#0087dd\",\"#008add\",\"#008ddd\",\"#008fdd\",\"#0092dd\",\"#0095dd\",\"#0097dd\",\"#0099db\",\"#009bd7\",\"#009cd3\",\"#009dcf\",\"#009fcb\",\"#00a0c7\",\"#00a1c3\",\"#00a3bf\",\"#00a4bb\",\"#00a5b7\",\"#00a7b3\",\"#00a8af\",\"#00a9ab\",\"#00aaa8\",\"#00aaa5\",\"#00aaa2\",\"#00aaa0\",\"#00aa9d\",\"#00aa9a\",\"#00aa97\",\"#00aa95\",\"#00aa92\",\"#00aa8f\",\"#00aa8d\",\"#00aa8a\",\"#00aa87\",\"#00a87d\",\"#00a772\",\"#00a667\",\"#00a45d\",\"#00a352\",\"#00a247\",\"#00a03d\",\"#009f32\",\"#009e27\",\"#009c1d\",\"#009b12\",\"#009a07\",\"#009900\",\"#009c00\",\"#009e00\",\"#00a100\",\"#00a400\",\"#00a600\",\"#00a900\",\"#00ac00\",\"#00ae00\",\"#00b100\",\"#00b400\",\"#00b600\",\"#00b900\",\"#00bc00\",\"#00be00\",\"#00c100\",\"#00c400\",\"#00c600\",\"#00c900\",\"#00cc00\",\"#00cf00\",\"#00d100\",\"#00d400\",\"#00d700\",\"#00d900\",\"#00dc00\",\"#00df00\",\"#00e100\",\"#00e400\",\"#00e700\",\"#00e900\",\"#00ec00\",\"#00ef00\",\"#00f100\",\"#00f400\",\"#00f700\",\"#00f900\",\"#00fc00\",\"#00ff00\",\"#0eff00\",\"#1dff00\",\"#2bff00\",\"#3aff00\",\"#49ff00\",\"#57ff00\",\"#66ff00\",\"#75ff00\",\"#83ff00\",\"#92ff00\",\"#a1ff00\",\"#afff00\",\"#bbfe00\",\"#bffd00\",\"#c3fb00\",\"#c7fa00\",\"#cbf900\",\"#cff700\",\"#d3f600\",\"#d7f500\",\"#dbf300\",\"#dff200\",\"#e3f100\",\"#e7ef00\",\"#ebee00\",\"#eeec00\",\"#efe900\",\"#f1e700\",\"#f2e400\",\"#f3e100\",\"#f5df00\",\"#f6dc00\",\"#f7d900\",\"#f9d700\",\"#fad400\",\"#fbd100\",\"#fdcf00\",\"#fecc00\",\"#ffc900\",\"#ffc500\",\"#ffc100\",\"#ffbd00\",\"#ffb900\",\"#ffb500\",\"#ffb100\",\"#ffad00\",\"#ffa900\",\"#ffa500\",\"#ffa100\",\"#ff9d00\",\"#ff9900\",\"#ff8d00\",\"#ff8100\",\"#ff7500\",\"#ff6900\",\"#ff5d00\",\"#ff5100\",\"#ff4500\",\"#ff3900\",\"#ff2c00\",\"#ff2000\",\"#ff1400\",\"#ff0800\",\"#fe0000\",\"#fb0000\",\"#f90000\",\"#f60000\",\"#f30000\",\"#f10000\",\"#ee0000\",\"#eb0000\",\"#e90000\",\"#e60000\",\"#e30000\",\"#e10000\",\"#de0000\",\"#dc0000\",\"#db0000\",\"#d90000\",\"#d80000\",\"#d70000\",\"#d50000\",\"#d40000\",\"#d30000\",\"#d10000\",\"#d00000\",\"#cf0000\",\"#cd0000\",\"#cc0000\",\"#cc0c0c\",\"#cc1b1b\",\"#cc2c2c\",\"#cc3c3c\",\"#cc4c4c\",\"#cc5c5c\",\"#cc6c6c\",\"#cc7c7c\",\"#cc8c8c\",\"#cc9c9c\",\"#ccacac\",\"#ccbcbc\",\"#cccccc\"]},\"id\":\"27624\",\"type\":\"LinearColorMapper\"},{\"attributes\":{\"axis_label\":\"Latitude\",\"coordinates\":null,\"formatter\":{\"id\":\"27596\"},\"group\":null,\"major_label_policy\":{\"id\":\"27606\"},\"ticker\":{\"id\":\"27595\"}},\"id\":\"27574\",\"type\":\"LinearAxis\"},{\"attributes\":{\"source\":{\"id\":\"27625\"}},\"id\":\"27634\",\"type\":\"CDSView\"},{\"attributes\":{\"dimension\":\"lon\",\"mantissas\":[1,2,5]},\"id\":\"27593\",\"type\":\"MercatorTicker\"},{\"attributes\":{\"children\":[{\"id\":\"27676\"},{\"id\":\"27677\"}],\"margin\":[0,0,0,0],\"min_width\":290,\"name\":\"Column54961\",\"width\":290},\"id\":\"27675\",\"type\":\"Column\"},{\"attributes\":{\"end\":2,\"js_property_callbacks\":{\"change:value\":[{\"id\":\"27686\"}]},\"margin\":[0,20,20,20],\"min_width\":250,\"show_value\":false,\"start\":0,\"tooltips\":false,\"value\":0,\"width\":250},\"id\":\"27677\",\"type\":\"Slider\"},{\"attributes\":{\"coordinates\":null,\"data_source\":{\"id\":\"27625\"},\"glyph\":{\"id\":\"27628\"},\"group\":null,\"hover_glyph\":{\"id\":\"27631\"},\"muted_glyph\":{\"id\":\"27632\"},\"nonselection_glyph\":{\"id\":\"27629\"},\"selection_glyph\":{\"id\":\"27630\"},\"view\":{\"id\":\"27634\"}},\"id\":\"27633\",\"type\":\"GlyphRenderer\"},{\"attributes\":{\"fill_alpha\":{\"value\":0.2},\"fill_color\":{\"field\":\"color\",\"transform\":{\"id\":\"27624\"}},\"hatch_alpha\":{\"value\":0.2},\"hatch_color\":{\"field\":\"color\",\"transform\":{\"id\":\"27624\"}},\"line_alpha\":{\"value\":0.2},\"line_color\":{\"field\":\"color\",\"transform\":{\"id\":\"27624\"}},\"size\":{\"field\":\"size\"},\"x\":{\"field\":\"Longitude\"},\"y\":{\"field\":\"Latitude\"}},\"id\":\"27632\",\"type\":\"Scatter\"},{\"attributes\":{\"margin\":[5,5,5,5],\"name\":\"HSpacer54968\",\"sizing_mode\":\"stretch_width\"},\"id\":\"27671\",\"type\":\"Spacer\"},{\"attributes\":{\"below\":[{\"id\":\"27570\"}],\"center\":[{\"id\":\"27573\"},{\"id\":\"27577\"}],\"frame_height\":500,\"frame_width\":1000,\"height\":null,\"left\":[{\"id\":\"27574\"}],\"margin\":[5,5,5,5],\"match_aspect\":true,\"min_border_bottom\":10,\"min_border_left\":10,\"min_border_right\":10,\"min_border_top\":10,\"renderers\":[{\"id\":\"27622\"},{\"id\":\"27633\"}],\"right\":[{\"id\":\"27636\"}],\"sizing_mode\":\"fixed\",\"title\":{\"id\":\"27562\"},\"toolbar\":{\"id\":\"27584\"},\"width\":null,\"x_range\":{\"id\":\"27554\"},\"x_scale\":{\"id\":\"27566\"},\"y_range\":{\"id\":\"27555\"},\"y_scale\":{\"id\":\"27568\"}},\"id\":\"27561\",\"subtype\":\"Figure\",\"type\":\"Plot\"},{\"attributes\":{\"axis\":{\"id\":\"27570\"},\"coordinates\":null,\"grid_line_color\":null,\"group\":null,\"ticker\":null},\"id\":\"27573\",\"type\":\"Grid\"},{\"attributes\":{},\"id\":\"27568\",\"type\":\"LinearScale\"},{\"attributes\":{\"code\":\"\\n        var projections = Bokeh.require(\\\"core/util/projections\\\");\\n        var x = special_vars.data_x\\n        var y = special_vars.data_y\\n        if (projections.wgs84_mercator.invert == null) {\\n          var coords = projections.wgs84_mercator.inverse([x, y])\\n        } else {\\n          var coords = projections.wgs84_mercator.invert(x, y)\\n        }\\n        return \\\"\\\" + (coords[0]).toFixed(4)\\n    \"},\"id\":\"27637\",\"type\":\"CustomJSHover\"},{\"attributes\":{\"client_comm_id\":\"7c6bcba536b6488cbc83779d06cbf7a6\",\"comm_id\":\"b1c0fccbd22046d8b54708bbff3f6bf1\",\"plot_id\":\"27548\"},\"id\":\"27701\",\"type\":\"panel.models.comm_manager.CommManager\"},{\"attributes\":{\"fill_color\":{\"field\":\"color\",\"transform\":{\"id\":\"27624\"}},\"hatch_color\":{\"field\":\"color\",\"transform\":{\"id\":\"27624\"}},\"line_color\":{\"field\":\"color\",\"transform\":{\"id\":\"27624\"}},\"size\":{\"field\":\"size\"},\"x\":{\"field\":\"Longitude\"},\"y\":{\"field\":\"Latitude\"}},\"id\":\"27630\",\"type\":\"Scatter\"},{\"attributes\":{},\"id\":\"27566\",\"type\":\"LinearScale\"}],\"root_ids\":[\"27548\",\"27701\"]},\"title\":\"Bokeh Application\",\"version\":\"2.4.3\"}};\n",
       "    var render_items = [{\"docid\":\"f72b9e6a-f7c3-4fbd-ba11-c1ac9c8e3cc1\",\"root_ids\":[\"27548\"],\"roots\":{\"27548\":\"bd55b777-f212-4fd1-9f17-7f4d4c2f6b53\"}}];\n",
       "    root.Bokeh.embed.embed_items_notebook(docs_json, render_items);\n",
       "    for (const render_item of render_items) {\n",
       "      for (const root_id of render_item.root_ids) {\n",
       "\tconst id_el = document.getElementById(root_id)\n",
       "\tif (id_el.children.length && (id_el.children[0].className === 'bk-root')) {\n",
       "\t  const root_el = id_el.children[0]\n",
       "\t  root_el.id = root_el.id + '-rendered'\n",
       "\t}\n",
       "      }\n",
       "    }\n",
       "  }\n",
       "  if (root.Bokeh !== undefined && root.Bokeh.Panel !== undefined) {\n",
       "    embed_document(root);\n",
       "  } else {\n",
       "    var attempts = 0;\n",
       "    var timer = setInterval(function(root) {\n",
       "      if (root.Bokeh !== undefined && root.Bokeh.Panel !== undefined) {\n",
       "        clearInterval(timer);\n",
       "        embed_document(root);\n",
       "      } else if (document.readyState == \"complete\") {\n",
       "        attempts++;\n",
       "        if (attempts > 200) {\n",
       "          clearInterval(timer);\n",
       "          console.log(\"Bokeh: ERROR: Unable to run BokehJS code because BokehJS library is missing\");\n",
       "        }\n",
       "      }\n",
       "    }, 25, root)\n",
       "  }\n",
       "})(window);</script>"
      ],
      "text/plain": [
       ":DynamicMap   [Year]\n",
       "   :Overlay\n",
       "      .Tiles.I  :Tiles   [x,y]\n",
       "      .Points.I :Points   [Longitude,Latitude]   (Mean)"
      ]
     },
     "execution_count": 169,
     "metadata": {
      "application/vnd.holoviews_exec.v0+json": {
       "id": "27548"
      }
     },
     "output_type": "execute_result"
    }
   ],
   "source": [
    "all_regions_pct_after_2020.hvplot.points(\n",
    "    'Longitude',\n",
    "    'Latitude',\n",
    "    geo=True,\n",
    "    size='Mean',\n",
    "    color='Mean',\n",
    "    scale=1000,\n",
    "    groupby='Year',\n",
    "    ylabel='Latitude',\n",
    "    xlabel='Longitude',\n",
    "    cmap='nipy_spectral',\n",
    "    clabel='Average Yearly Percent Change',\n",
    "    frame_width=1000,\n",
    "    frame_height=500,\n",
    "    tiles='OSM',\n",
    "    title='Average Yearly Regional Consumer Price Percentage Change 2020-2022')"
   ]
  },
  {
   "cell_type": "markdown",
   "id": "95c7f951-99f2-4f0e-8131-fe332a7011f5",
   "metadata": {},
   "source": [
    "## Explanation\n",
    "@TODO Add Explanation Here: Lorem ipsum dolor sit amet, consectetur adipiscing elit, sed do eiusmod tempor incididunt ut labore et dolore magna aliqua. Ut enim ad minim veniam, quis nostrud exercitation ullamco laboris nisi ut aliquip ex ea commodo consequat. Duis aute irure dolor in reprehenderit in voluptate velit esse cillum dolore eu fugiat nulla pariatur. Excepteur sint occaecat cupidatat non proident, sunt in culpa qui officia deserunt mollit anim id est laborum."
   ]
  }
 ],
 "metadata": {
  "kernelspec": {
   "display_name": "Python [conda env:real_impact_of_inflation_env]",
   "language": "python",
   "name": "conda-env-real_impact_of_inflation_env-py"
  },
  "language_info": {
   "codemirror_mode": {
    "name": "ipython",
    "version": 3
   },
   "file_extension": ".py",
   "mimetype": "text/x-python",
   "name": "python",
   "nbconvert_exporter": "python",
   "pygments_lexer": "ipython3",
   "version": "3.9.13"
  },
  "vscode": {
   "interpreter": {
    "hash": "b0fa6594d8f4cbf19f97940f81e996739fb7646882a419484c72d19e05852a7e"
   }
  }
 },
 "nbformat": 4,
 "nbformat_minor": 5
}
